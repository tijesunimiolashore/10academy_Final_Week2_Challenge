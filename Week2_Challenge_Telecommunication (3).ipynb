{
  "nbformat": 4,
  "nbformat_minor": 0,
  "metadata": {
    "colab": {
      "name": "Week2_Challenge_Telecommunication.ipynb",
      "provenance": [],
      "collapsed_sections": []
    },
    "kernelspec": {
      "display_name": "Python 3",
      "language": "python",
      "name": "python3"
    },
    "language_info": {
      "codemirror_mode": {
        "name": "ipython",
        "version": 3
      },
      "file_extension": ".py",
      "mimetype": "text/x-python",
      "name": "python",
      "nbconvert_exporter": "python",
      "pygments_lexer": "ipython3",
      "version": "3.7.6"
    }
  },
  "cells": [
    {
      "cell_type": "code",
      "metadata": {
        "colab_type": "code",
        "id": "-d1ACdOkEUkO",
        "colab": {}
      },
      "source": [
        "### Import the file from excel and save to a dataframe"
      ],
      "execution_count": null,
      "outputs": []
    },
    {
      "cell_type": "code",
      "metadata": {
        "id": "62uGRSplLPm0",
        "colab_type": "code",
        "colab": {
          "resources": {
            "http://localhost:8080/nbextensions/google.colab/files.js": {
              "data": "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",
              "ok": true,
              "headers": [
                [
                  "content-type",
                  "application/javascript"
                ]
              ],
              "status": 200,
              "status_text": ""
            }
          },
          "base_uri": "https://localhost:8080/",
          "height": 70
        },
        "outputId": "f378b310-a7a1-40c9-d2bb-019c769b047c"
      },
      "source": [
        "from google.colab import files\n",
        "uploaded = files.upload()"
      ],
      "execution_count": null,
      "outputs": [
        {
          "output_type": "display_data",
          "data": {
            "text/html": [
              "\n",
              "     <input type=\"file\" id=\"files-0fab4203-2ee6-4781-9d45-b2ec9680e8ff\" name=\"files[]\" multiple disabled\n",
              "        style=\"border:none\" />\n",
              "     <output id=\"result-0fab4203-2ee6-4781-9d45-b2ec9680e8ff\">\n",
              "      Upload widget is only available when the cell has been executed in the\n",
              "      current browser session. Please rerun this cell to enable.\n",
              "      </output>\n",
              "      <script src=\"/nbextensions/google.colab/files.js\"></script> "
            ],
            "text/plain": [
              "<IPython.core.display.HTML object>"
            ]
          },
          "metadata": {
            "tags": []
          }
        },
        {
          "output_type": "stream",
          "text": [
            "Saving Week2_challenge_data_source.xlsx to Week2_challenge_data_source.xlsx\n"
          ],
          "name": "stdout"
        }
      ]
    },
    {
      "cell_type": "code",
      "metadata": {
        "id": "UcqxlflTOY2-",
        "colab_type": "code",
        "colab": {
          "base_uri": "https://localhost:8080/",
          "height": 882
        },
        "outputId": "b35b0671-ce4c-4769-85d1-4abf2ae388cf"
      },
      "source": [
        "import io\n",
        "import pandas as pd \n",
        "df = pd.read_excel(io.BytesIO(uploaded['Week2_challenge_data_source.xlsx']))\n",
        "df"
      ],
      "execution_count": null,
      "outputs": [
        {
          "output_type": "execute_result",
          "data": {
            "text/html": [
              "<div>\n",
              "<style scoped>\n",
              "    .dataframe tbody tr th:only-of-type {\n",
              "        vertical-align: middle;\n",
              "    }\n",
              "\n",
              "    .dataframe tbody tr th {\n",
              "        vertical-align: top;\n",
              "    }\n",
              "\n",
              "    .dataframe thead th {\n",
              "        text-align: right;\n",
              "    }\n",
              "</style>\n",
              "<table border=\"1\" class=\"dataframe\">\n",
              "  <thead>\n",
              "    <tr style=\"text-align: right;\">\n",
              "      <th></th>\n",
              "      <th>Bearer Id</th>\n",
              "      <th>Start</th>\n",
              "      <th>Start ms</th>\n",
              "      <th>End</th>\n",
              "      <th>End ms</th>\n",
              "      <th>Dur. (ms)</th>\n",
              "      <th>IMSI</th>\n",
              "      <th>MSISDN/Number</th>\n",
              "      <th>IMEI</th>\n",
              "      <th>Last Location Name</th>\n",
              "      <th>Avg RTT DL (ms)</th>\n",
              "      <th>Avg RTT UL (ms)</th>\n",
              "      <th>Avg Bearer TP DL (kbps)</th>\n",
              "      <th>Avg Bearer TP UL (kbps)</th>\n",
              "      <th>TCP DL Retrans. Vol (Bytes)</th>\n",
              "      <th>TCP UL Retrans. Vol (Bytes)</th>\n",
              "      <th>DL TP &lt; 50 Kbps (%)</th>\n",
              "      <th>50 Kbps &lt; DL TP &lt; 250 Kbps (%)</th>\n",
              "      <th>250 Kbps &lt; DL TP &lt; 1 Mbps (%)</th>\n",
              "      <th>DL TP &gt; 1 Mbps (%)</th>\n",
              "      <th>UL TP &lt; 10 Kbps (%)</th>\n",
              "      <th>10 Kbps &lt; UL TP &lt; 50 Kbps (%)</th>\n",
              "      <th>50 Kbps &lt; UL TP &lt; 300 Kbps (%)</th>\n",
              "      <th>UL TP &gt; 300 Kbps (%)</th>\n",
              "      <th>HTTP DL (Bytes)</th>\n",
              "      <th>HTTP UL (Bytes)</th>\n",
              "      <th>Activity Duration DL (ms)</th>\n",
              "      <th>Activity Duration UL (ms)</th>\n",
              "      <th>Dur. (ms).1</th>\n",
              "      <th>Handset Manufacturer</th>\n",
              "      <th>Handset Type</th>\n",
              "      <th>Nb of sec with 125000B &lt; Vol DL</th>\n",
              "      <th>Nb of sec with 1250B &lt; Vol UL &lt; 6250B</th>\n",
              "      <th>Nb of sec with 31250B &lt; Vol DL &lt; 125000B</th>\n",
              "      <th>Nb of sec with 37500B &lt; Vol UL</th>\n",
              "      <th>Nb of sec with 6250B &lt; Vol DL &lt; 31250B</th>\n",
              "      <th>Nb of sec with 6250B &lt; Vol UL &lt; 37500B</th>\n",
              "      <th>Nb of sec with Vol DL &lt; 6250B</th>\n",
              "      <th>Nb of sec with Vol UL &lt; 1250B</th>\n",
              "      <th>Social Media DL (Bytes)</th>\n",
              "      <th>Social Media UL (Bytes)</th>\n",
              "      <th>Google DL (Bytes)</th>\n",
              "      <th>Google UL (Bytes)</th>\n",
              "      <th>Email DL (Bytes)</th>\n",
              "      <th>Email UL (Bytes)</th>\n",
              "      <th>Youtube DL (Bytes)</th>\n",
              "      <th>Youtube UL (Bytes)</th>\n",
              "      <th>Netflix DL (Bytes)</th>\n",
              "      <th>Netflix UL (Bytes)</th>\n",
              "      <th>Gaming DL (Bytes)</th>\n",
              "      <th>Gaming UL (Bytes)</th>\n",
              "      <th>Other DL (Bytes)</th>\n",
              "      <th>Other UL (Bytes)</th>\n",
              "      <th>Total UL (Bytes)</th>\n",
              "      <th>Total DL (Bytes)</th>\n",
              "    </tr>\n",
              "  </thead>\n",
              "  <tbody>\n",
              "    <tr>\n",
              "      <th>0</th>\n",
              "      <td>13114483460844900352</td>\n",
              "      <td>2019-04-04 12:01:18</td>\n",
              "      <td>770.0</td>\n",
              "      <td>2019-04-25 14:35:31</td>\n",
              "      <td>662.0</td>\n",
              "      <td>1823652.0</td>\n",
              "      <td>2.082014e+14</td>\n",
              "      <td>3.366496e+10</td>\n",
              "      <td>3.552121e+13</td>\n",
              "      <td>9164566995485190</td>\n",
              "      <td>42.0</td>\n",
              "      <td>5.0</td>\n",
              "      <td>23.0</td>\n",
              "      <td>44.0</td>\n",
              "      <td>NaN</td>\n",
              "      <td>NaN</td>\n",
              "      <td>100.0</td>\n",
              "      <td>0.0</td>\n",
              "      <td>0.0</td>\n",
              "      <td>0.0</td>\n",
              "      <td>100.0</td>\n",
              "      <td>0.0</td>\n",
              "      <td>0.0</td>\n",
              "      <td>0.0</td>\n",
              "      <td>NaN</td>\n",
              "      <td>NaN</td>\n",
              "      <td>37624.0</td>\n",
              "      <td>38787.0</td>\n",
              "      <td>1.823653e+09</td>\n",
              "      <td>Samsung</td>\n",
              "      <td>Samsung Galaxy A5 Sm-A520F</td>\n",
              "      <td>NaN</td>\n",
              "      <td>NaN</td>\n",
              "      <td>NaN</td>\n",
              "      <td>NaN</td>\n",
              "      <td>NaN</td>\n",
              "      <td>NaN</td>\n",
              "      <td>213.0</td>\n",
              "      <td>214.0</td>\n",
              "      <td>1.545765e+06</td>\n",
              "      <td>24420.00000</td>\n",
              "      <td>1.634479e+06</td>\n",
              "      <td>1.271433e+06</td>\n",
              "      <td>3.563542e+06</td>\n",
              "      <td>137762.00000</td>\n",
              "      <td>1.585461e+07</td>\n",
              "      <td>2.501332e+06</td>\n",
              "      <td>8.198936e+06</td>\n",
              "      <td>9.656251e+06</td>\n",
              "      <td>2.780823e+08</td>\n",
              "      <td>1.434415e+07</td>\n",
              "      <td>1.717444e+08</td>\n",
              "      <td>8.814393e+06</td>\n",
              "      <td>36749741.0</td>\n",
              "      <td>308879636.0</td>\n",
              "    </tr>\n",
              "    <tr>\n",
              "      <th>1</th>\n",
              "      <td>13114483482878900224</td>\n",
              "      <td>2019-04-09 13:04:04</td>\n",
              "      <td>235.0</td>\n",
              "      <td>2019-04-25 08:15:48</td>\n",
              "      <td>606.0</td>\n",
              "      <td>1365104.0</td>\n",
              "      <td>2.082019e+14</td>\n",
              "      <td>3.368185e+10</td>\n",
              "      <td>3.579401e+13</td>\n",
              "      <td>L77566A</td>\n",
              "      <td>65.0</td>\n",
              "      <td>5.0</td>\n",
              "      <td>16.0</td>\n",
              "      <td>26.0</td>\n",
              "      <td>NaN</td>\n",
              "      <td>NaN</td>\n",
              "      <td>100.0</td>\n",
              "      <td>0.0</td>\n",
              "      <td>0.0</td>\n",
              "      <td>0.0</td>\n",
              "      <td>100.0</td>\n",
              "      <td>0.0</td>\n",
              "      <td>0.0</td>\n",
              "      <td>0.0</td>\n",
              "      <td>NaN</td>\n",
              "      <td>NaN</td>\n",
              "      <td>168.0</td>\n",
              "      <td>3560.0</td>\n",
              "      <td>1.365104e+09</td>\n",
              "      <td>Samsung</td>\n",
              "      <td>Samsung Galaxy J5 (Sm-J530)</td>\n",
              "      <td>NaN</td>\n",
              "      <td>NaN</td>\n",
              "      <td>NaN</td>\n",
              "      <td>NaN</td>\n",
              "      <td>NaN</td>\n",
              "      <td>NaN</td>\n",
              "      <td>971.0</td>\n",
              "      <td>1022.0</td>\n",
              "      <td>1.926113e+06</td>\n",
              "      <td>7165.00000</td>\n",
              "      <td>3.493924e+06</td>\n",
              "      <td>9.201720e+05</td>\n",
              "      <td>6.290460e+05</td>\n",
              "      <td>308339.00000</td>\n",
              "      <td>2.024740e+07</td>\n",
              "      <td>1.911173e+07</td>\n",
              "      <td>1.833841e+07</td>\n",
              "      <td>1.722713e+07</td>\n",
              "      <td>6.087501e+08</td>\n",
              "      <td>1.170709e+06</td>\n",
              "      <td>5.269042e+08</td>\n",
              "      <td>1.505514e+07</td>\n",
              "      <td>53800391.0</td>\n",
              "      <td>653384965.0</td>\n",
              "    </tr>\n",
              "    <tr>\n",
              "      <th>2</th>\n",
              "      <td>13114483484080500736</td>\n",
              "      <td>2019-04-09 17:42:11</td>\n",
              "      <td>1.0</td>\n",
              "      <td>2019-04-25 11:58:13</td>\n",
              "      <td>652.0</td>\n",
              "      <td>1361762.0</td>\n",
              "      <td>2.082003e+14</td>\n",
              "      <td>3.376063e+10</td>\n",
              "      <td>3.528151e+13</td>\n",
              "      <td>D42335A</td>\n",
              "      <td>NaN</td>\n",
              "      <td>NaN</td>\n",
              "      <td>6.0</td>\n",
              "      <td>9.0</td>\n",
              "      <td>NaN</td>\n",
              "      <td>NaN</td>\n",
              "      <td>100.0</td>\n",
              "      <td>0.0</td>\n",
              "      <td>0.0</td>\n",
              "      <td>0.0</td>\n",
              "      <td>100.0</td>\n",
              "      <td>0.0</td>\n",
              "      <td>0.0</td>\n",
              "      <td>0.0</td>\n",
              "      <td>NaN</td>\n",
              "      <td>NaN</td>\n",
              "      <td>0.0</td>\n",
              "      <td>0.0</td>\n",
              "      <td>1.361763e+09</td>\n",
              "      <td>Samsung</td>\n",
              "      <td>Samsung Galaxy A8 (2018)</td>\n",
              "      <td>NaN</td>\n",
              "      <td>NaN</td>\n",
              "      <td>NaN</td>\n",
              "      <td>NaN</td>\n",
              "      <td>NaN</td>\n",
              "      <td>NaN</td>\n",
              "      <td>751.0</td>\n",
              "      <td>695.0</td>\n",
              "      <td>1.684053e+06</td>\n",
              "      <td>42224.00000</td>\n",
              "      <td>8.535055e+06</td>\n",
              "      <td>1.694064e+06</td>\n",
              "      <td>2.690151e+06</td>\n",
              "      <td>672973.00000</td>\n",
              "      <td>1.972566e+07</td>\n",
              "      <td>1.469958e+07</td>\n",
              "      <td>1.758779e+07</td>\n",
              "      <td>6.163408e+06</td>\n",
              "      <td>2.295846e+08</td>\n",
              "      <td>3.956300e+05</td>\n",
              "      <td>4.106926e+08</td>\n",
              "      <td>4.215763e+06</td>\n",
              "      <td>27883638.0</td>\n",
              "      <td>279807335.0</td>\n",
              "    </tr>\n",
              "    <tr>\n",
              "      <th>3</th>\n",
              "      <td>13114483485442799616</td>\n",
              "      <td>2019-04-10 00:31:25</td>\n",
              "      <td>486.0</td>\n",
              "      <td>2019-04-25 07:36:35</td>\n",
              "      <td>171.0</td>\n",
              "      <td>1321509.0</td>\n",
              "      <td>2.082014e+14</td>\n",
              "      <td>3.375034e+10</td>\n",
              "      <td>3.535661e+13</td>\n",
              "      <td>T21824A</td>\n",
              "      <td>NaN</td>\n",
              "      <td>NaN</td>\n",
              "      <td>44.0</td>\n",
              "      <td>44.0</td>\n",
              "      <td>NaN</td>\n",
              "      <td>NaN</td>\n",
              "      <td>100.0</td>\n",
              "      <td>0.0</td>\n",
              "      <td>0.0</td>\n",
              "      <td>0.0</td>\n",
              "      <td>100.0</td>\n",
              "      <td>0.0</td>\n",
              "      <td>0.0</td>\n",
              "      <td>0.0</td>\n",
              "      <td>NaN</td>\n",
              "      <td>NaN</td>\n",
              "      <td>3330.0</td>\n",
              "      <td>37882.0</td>\n",
              "      <td>1.321510e+09</td>\n",
              "      <td>undefined</td>\n",
              "      <td>undefined</td>\n",
              "      <td>NaN</td>\n",
              "      <td>NaN</td>\n",
              "      <td>NaN</td>\n",
              "      <td>NaN</td>\n",
              "      <td>NaN</td>\n",
              "      <td>NaN</td>\n",
              "      <td>17.0</td>\n",
              "      <td>207.0</td>\n",
              "      <td>6.441210e+05</td>\n",
              "      <td>13372.00000</td>\n",
              "      <td>9.023734e+06</td>\n",
              "      <td>2.788027e+06</td>\n",
              "      <td>1.439754e+06</td>\n",
              "      <td>631229.00000</td>\n",
              "      <td>2.138812e+07</td>\n",
              "      <td>1.514664e+07</td>\n",
              "      <td>1.399465e+07</td>\n",
              "      <td>1.097942e+06</td>\n",
              "      <td>7.995382e+08</td>\n",
              "      <td>1.084972e+07</td>\n",
              "      <td>7.490399e+08</td>\n",
              "      <td>1.279728e+07</td>\n",
              "      <td>43324218.0</td>\n",
              "      <td>846028530.0</td>\n",
              "    </tr>\n",
              "    <tr>\n",
              "      <th>4</th>\n",
              "      <td>13114483499480700928</td>\n",
              "      <td>2019-04-12 20:10:23</td>\n",
              "      <td>565.0</td>\n",
              "      <td>2019-04-25 10:40:32</td>\n",
              "      <td>954.0</td>\n",
              "      <td>1089009.0</td>\n",
              "      <td>2.082014e+14</td>\n",
              "      <td>3.369980e+10</td>\n",
              "      <td>3.540701e+13</td>\n",
              "      <td>D88865A</td>\n",
              "      <td>NaN</td>\n",
              "      <td>NaN</td>\n",
              "      <td>6.0</td>\n",
              "      <td>9.0</td>\n",
              "      <td>NaN</td>\n",
              "      <td>NaN</td>\n",
              "      <td>100.0</td>\n",
              "      <td>0.0</td>\n",
              "      <td>0.0</td>\n",
              "      <td>0.0</td>\n",
              "      <td>100.0</td>\n",
              "      <td>0.0</td>\n",
              "      <td>0.0</td>\n",
              "      <td>0.0</td>\n",
              "      <td>NaN</td>\n",
              "      <td>NaN</td>\n",
              "      <td>0.0</td>\n",
              "      <td>0.0</td>\n",
              "      <td>1.089009e+09</td>\n",
              "      <td>Samsung</td>\n",
              "      <td>Samsung Sm-G390F</td>\n",
              "      <td>NaN</td>\n",
              "      <td>NaN</td>\n",
              "      <td>NaN</td>\n",
              "      <td>NaN</td>\n",
              "      <td>NaN</td>\n",
              "      <td>NaN</td>\n",
              "      <td>607.0</td>\n",
              "      <td>604.0</td>\n",
              "      <td>8.626000e+05</td>\n",
              "      <td>50188.00000</td>\n",
              "      <td>6.248284e+06</td>\n",
              "      <td>1.500559e+06</td>\n",
              "      <td>1.936496e+06</td>\n",
              "      <td>173853.00000</td>\n",
              "      <td>1.525938e+07</td>\n",
              "      <td>1.896287e+07</td>\n",
              "      <td>1.712458e+07</td>\n",
              "      <td>4.152180e+05</td>\n",
              "      <td>5.277072e+08</td>\n",
              "      <td>3.529801e+06</td>\n",
              "      <td>5.507095e+08</td>\n",
              "      <td>1.391032e+07</td>\n",
              "      <td>38542814.0</td>\n",
              "      <td>569138589.0</td>\n",
              "    </tr>\n",
              "    <tr>\n",
              "      <th>...</th>\n",
              "      <td>...</td>\n",
              "      <td>...</td>\n",
              "      <td>...</td>\n",
              "      <td>...</td>\n",
              "      <td>...</td>\n",
              "      <td>...</td>\n",
              "      <td>...</td>\n",
              "      <td>...</td>\n",
              "      <td>...</td>\n",
              "      <td>...</td>\n",
              "      <td>...</td>\n",
              "      <td>...</td>\n",
              "      <td>...</td>\n",
              "      <td>...</td>\n",
              "      <td>...</td>\n",
              "      <td>...</td>\n",
              "      <td>...</td>\n",
              "      <td>...</td>\n",
              "      <td>...</td>\n",
              "      <td>...</td>\n",
              "      <td>...</td>\n",
              "      <td>...</td>\n",
              "      <td>...</td>\n",
              "      <td>...</td>\n",
              "      <td>...</td>\n",
              "      <td>...</td>\n",
              "      <td>...</td>\n",
              "      <td>...</td>\n",
              "      <td>...</td>\n",
              "      <td>...</td>\n",
              "      <td>...</td>\n",
              "      <td>...</td>\n",
              "      <td>...</td>\n",
              "      <td>...</td>\n",
              "      <td>...</td>\n",
              "      <td>...</td>\n",
              "      <td>...</td>\n",
              "      <td>...</td>\n",
              "      <td>...</td>\n",
              "      <td>...</td>\n",
              "      <td>...</td>\n",
              "      <td>...</td>\n",
              "      <td>...</td>\n",
              "      <td>...</td>\n",
              "      <td>...</td>\n",
              "      <td>...</td>\n",
              "      <td>...</td>\n",
              "      <td>...</td>\n",
              "      <td>...</td>\n",
              "      <td>...</td>\n",
              "      <td>...</td>\n",
              "      <td>...</td>\n",
              "      <td>...</td>\n",
              "      <td>...</td>\n",
              "      <td>...</td>\n",
              "    </tr>\n",
              "    <tr>\n",
              "      <th>149996</th>\n",
              "      <td>7277825670196679680</td>\n",
              "      <td>2019-04-29 07:28:42</td>\n",
              "      <td>451.0</td>\n",
              "      <td>2019-04-30 06:02:33</td>\n",
              "      <td>214.0</td>\n",
              "      <td>81230.0</td>\n",
              "      <td>2.082022e+14</td>\n",
              "      <td>3.365069e+10</td>\n",
              "      <td>3.548311e+13</td>\n",
              "      <td>D20434A</td>\n",
              "      <td>32.0</td>\n",
              "      <td>0.0</td>\n",
              "      <td>52.0</td>\n",
              "      <td>65.0</td>\n",
              "      <td>NaN</td>\n",
              "      <td>NaN</td>\n",
              "      <td>100.0</td>\n",
              "      <td>0.0</td>\n",
              "      <td>0.0</td>\n",
              "      <td>0.0</td>\n",
              "      <td>100.0</td>\n",
              "      <td>0.0</td>\n",
              "      <td>0.0</td>\n",
              "      <td>0.0</td>\n",
              "      <td>NaN</td>\n",
              "      <td>NaN</td>\n",
              "      <td>42376.0</td>\n",
              "      <td>41915.0</td>\n",
              "      <td>8.123076e+07</td>\n",
              "      <td>Apple</td>\n",
              "      <td>Apple iPhone 8 Plus (A1897)</td>\n",
              "      <td>NaN</td>\n",
              "      <td>NaN</td>\n",
              "      <td>NaN</td>\n",
              "      <td>NaN</td>\n",
              "      <td>NaN</td>\n",
              "      <td>NaN</td>\n",
              "      <td>223.0</td>\n",
              "      <td>229.0</td>\n",
              "      <td>3.464974e+06</td>\n",
              "      <td>52091.00000</td>\n",
              "      <td>9.967603e+06</td>\n",
              "      <td>2.817311e+06</td>\n",
              "      <td>5.763900e+04</td>\n",
              "      <td>633237.00000</td>\n",
              "      <td>1.619167e+07</td>\n",
              "      <td>1.176343e+07</td>\n",
              "      <td>1.788370e+07</td>\n",
              "      <td>1.967816e+07</td>\n",
              "      <td>5.266097e+08</td>\n",
              "      <td>9.197207e+06</td>\n",
              "      <td>3.264510e+06</td>\n",
              "      <td>1.348742e+07</td>\n",
              "      <td>57628851.0</td>\n",
              "      <td>574175259.0</td>\n",
              "    </tr>\n",
              "    <tr>\n",
              "      <th>149997</th>\n",
              "      <td>7349883264234609664</td>\n",
              "      <td>2019-04-29 07:28:42</td>\n",
              "      <td>483.0</td>\n",
              "      <td>2019-04-30 10:41:33</td>\n",
              "      <td>187.0</td>\n",
              "      <td>97970.0</td>\n",
              "      <td>2.082019e+14</td>\n",
              "      <td>3.366345e+10</td>\n",
              "      <td>3.566051e+13</td>\n",
              "      <td>D10223C</td>\n",
              "      <td>27.0</td>\n",
              "      <td>2.0</td>\n",
              "      <td>23.0</td>\n",
              "      <td>54.0</td>\n",
              "      <td>NaN</td>\n",
              "      <td>NaN</td>\n",
              "      <td>100.0</td>\n",
              "      <td>0.0</td>\n",
              "      <td>0.0</td>\n",
              "      <td>0.0</td>\n",
              "      <td>100.0</td>\n",
              "      <td>0.0</td>\n",
              "      <td>0.0</td>\n",
              "      <td>0.0</td>\n",
              "      <td>NaN</td>\n",
              "      <td>NaN</td>\n",
              "      <td>17264.0</td>\n",
              "      <td>16759.0</td>\n",
              "      <td>9.797070e+07</td>\n",
              "      <td>Apple</td>\n",
              "      <td>Apple iPhone Se (A1723)</td>\n",
              "      <td>NaN</td>\n",
              "      <td>NaN</td>\n",
              "      <td>NaN</td>\n",
              "      <td>NaN</td>\n",
              "      <td>NaN</td>\n",
              "      <td>NaN</td>\n",
              "      <td>105.0</td>\n",
              "      <td>102.0</td>\n",
              "      <td>2.344568e+06</td>\n",
              "      <td>7613.00000</td>\n",
              "      <td>2.229420e+06</td>\n",
              "      <td>2.185941e+06</td>\n",
              "      <td>1.954414e+06</td>\n",
              "      <td>167304.00000</td>\n",
              "      <td>1.387723e+07</td>\n",
              "      <td>8.288284e+06</td>\n",
              "      <td>1.935015e+07</td>\n",
              "      <td>2.129315e+07</td>\n",
              "      <td>6.268931e+08</td>\n",
              "      <td>4.735033e+06</td>\n",
              "      <td>7.121804e+08</td>\n",
              "      <td>2.457758e+06</td>\n",
              "      <td>39135081.0</td>\n",
              "      <td>666648844.0</td>\n",
              "    </tr>\n",
              "    <tr>\n",
              "      <th>149998</th>\n",
              "      <td>13114483573367300096</td>\n",
              "      <td>2019-04-29 07:28:43</td>\n",
              "      <td>283.0</td>\n",
              "      <td>2019-04-30 10:46:12</td>\n",
              "      <td>810.0</td>\n",
              "      <td>98249.0</td>\n",
              "      <td>2.082017e+14</td>\n",
              "      <td>3.362189e+10</td>\n",
              "      <td>3.572121e+13</td>\n",
              "      <td>T51102A</td>\n",
              "      <td>43.0</td>\n",
              "      <td>6.0</td>\n",
              "      <td>43.0</td>\n",
              "      <td>47.0</td>\n",
              "      <td>NaN</td>\n",
              "      <td>NaN</td>\n",
              "      <td>100.0</td>\n",
              "      <td>0.0</td>\n",
              "      <td>0.0</td>\n",
              "      <td>0.0</td>\n",
              "      <td>100.0</td>\n",
              "      <td>0.0</td>\n",
              "      <td>0.0</td>\n",
              "      <td>0.0</td>\n",
              "      <td>NaN</td>\n",
              "      <td>NaN</td>\n",
              "      <td>25003.0</td>\n",
              "      <td>28640.0</td>\n",
              "      <td>9.824953e+07</td>\n",
              "      <td>Apple</td>\n",
              "      <td>Apple iPhone Xs (A2097)</td>\n",
              "      <td>NaN</td>\n",
              "      <td>NaN</td>\n",
              "      <td>NaN</td>\n",
              "      <td>NaN</td>\n",
              "      <td>NaN</td>\n",
              "      <td>NaN</td>\n",
              "      <td>104.0</td>\n",
              "      <td>108.0</td>\n",
              "      <td>1.245845e+06</td>\n",
              "      <td>14394.00000</td>\n",
              "      <td>3.850890e+06</td>\n",
              "      <td>2.734579e+06</td>\n",
              "      <td>1.525734e+06</td>\n",
              "      <td>532543.00000</td>\n",
              "      <td>2.266051e+07</td>\n",
              "      <td>1.855903e+06</td>\n",
              "      <td>9.963942e+06</td>\n",
              "      <td>5.065760e+06</td>\n",
              "      <td>5.535395e+08</td>\n",
              "      <td>1.339432e+07</td>\n",
              "      <td>1.211009e+08</td>\n",
              "      <td>1.131473e+07</td>\n",
              "      <td>34912224.0</td>\n",
              "      <td>592786405.0</td>\n",
              "    </tr>\n",
              "    <tr>\n",
              "      <th>149999</th>\n",
              "      <td>13114483573367300096</td>\n",
              "      <td>2019-04-29 07:28:43</td>\n",
              "      <td>696.0</td>\n",
              "      <td>2019-04-30 10:40:34</td>\n",
              "      <td>327.0</td>\n",
              "      <td>97910.0</td>\n",
              "      <td>2.082021e+14</td>\n",
              "      <td>3.361962e+10</td>\n",
              "      <td>8.618620e+13</td>\n",
              "      <td>L88342B</td>\n",
              "      <td>37.0</td>\n",
              "      <td>5.0</td>\n",
              "      <td>34.0</td>\n",
              "      <td>37.0</td>\n",
              "      <td>NaN</td>\n",
              "      <td>NaN</td>\n",
              "      <td>100.0</td>\n",
              "      <td>0.0</td>\n",
              "      <td>0.0</td>\n",
              "      <td>0.0</td>\n",
              "      <td>100.0</td>\n",
              "      <td>0.0</td>\n",
              "      <td>0.0</td>\n",
              "      <td>0.0</td>\n",
              "      <td>NaN</td>\n",
              "      <td>NaN</td>\n",
              "      <td>13405.0</td>\n",
              "      <td>34088.0</td>\n",
              "      <td>9.791063e+07</td>\n",
              "      <td>Huawei</td>\n",
              "      <td>Huawei Fig-Lx1</td>\n",
              "      <td>NaN</td>\n",
              "      <td>NaN</td>\n",
              "      <td>NaN</td>\n",
              "      <td>NaN</td>\n",
              "      <td>NaN</td>\n",
              "      <td>NaN</td>\n",
              "      <td>43.0</td>\n",
              "      <td>82.0</td>\n",
              "      <td>8.015470e+05</td>\n",
              "      <td>21562.00000</td>\n",
              "      <td>4.189773e+06</td>\n",
              "      <td>3.567494e+06</td>\n",
              "      <td>2.228270e+06</td>\n",
              "      <td>622644.00000</td>\n",
              "      <td>8.817106e+06</td>\n",
              "      <td>8.305402e+06</td>\n",
              "      <td>3.322253e+06</td>\n",
              "      <td>1.317259e+07</td>\n",
              "      <td>3.525370e+08</td>\n",
              "      <td>2.529475e+06</td>\n",
              "      <td>8.147131e+08</td>\n",
              "      <td>1.406930e+06</td>\n",
              "      <td>29626096.0</td>\n",
              "      <td>371895920.0</td>\n",
              "    </tr>\n",
              "    <tr>\n",
              "      <th>150000</th>\n",
              "      <td></td>\n",
              "      <td>NaT</td>\n",
              "      <td>NaN</td>\n",
              "      <td>NaT</td>\n",
              "      <td>NaN</td>\n",
              "      <td>NaN</td>\n",
              "      <td>NaN</td>\n",
              "      <td>NaN</td>\n",
              "      <td>NaN</td>\n",
              "      <td>NaN</td>\n",
              "      <td>NaN</td>\n",
              "      <td>NaN</td>\n",
              "      <td>NaN</td>\n",
              "      <td>NaN</td>\n",
              "      <td>NaN</td>\n",
              "      <td>NaN</td>\n",
              "      <td>NaN</td>\n",
              "      <td>NaN</td>\n",
              "      <td>NaN</td>\n",
              "      <td>NaN</td>\n",
              "      <td>NaN</td>\n",
              "      <td>NaN</td>\n",
              "      <td>NaN</td>\n",
              "      <td>NaN</td>\n",
              "      <td>NaN</td>\n",
              "      <td>NaN</td>\n",
              "      <td>NaN</td>\n",
              "      <td>NaN</td>\n",
              "      <td>NaN</td>\n",
              "      <td>NaN</td>\n",
              "      <td>NaN</td>\n",
              "      <td>NaN</td>\n",
              "      <td>NaN</td>\n",
              "      <td>NaN</td>\n",
              "      <td>NaN</td>\n",
              "      <td>NaN</td>\n",
              "      <td>NaN</td>\n",
              "      <td>NaN</td>\n",
              "      <td>NaN</td>\n",
              "      <td>1.795322e+06</td>\n",
              "      <td>32928.43438</td>\n",
              "      <td>5.750753e+06</td>\n",
              "      <td>2.056542e+06</td>\n",
              "      <td>1.791729e+06</td>\n",
              "      <td>467373.44194</td>\n",
              "      <td>1.163407e+07</td>\n",
              "      <td>1.100941e+07</td>\n",
              "      <td>1.162685e+07</td>\n",
              "      <td>1.100175e+07</td>\n",
              "      <td>4.220447e+08</td>\n",
              "      <td>8.288398e+06</td>\n",
              "      <td>4.211005e+08</td>\n",
              "      <td>8.264799e+06</td>\n",
              "      <td>NaN</td>\n",
              "      <td>NaN</td>\n",
              "    </tr>\n",
              "  </tbody>\n",
              "</table>\n",
              "<p>150001 rows × 55 columns</p>\n",
              "</div>"
            ],
            "text/plain": [
              "                   Bearer Id  ... Total DL (Bytes)\n",
              "0       13114483460844900352  ...      308879636.0\n",
              "1       13114483482878900224  ...      653384965.0\n",
              "2       13114483484080500736  ...      279807335.0\n",
              "3       13114483485442799616  ...      846028530.0\n",
              "4       13114483499480700928  ...      569138589.0\n",
              "...                      ...  ...              ...\n",
              "149996   7277825670196679680  ...      574175259.0\n",
              "149997   7349883264234609664  ...      666648844.0\n",
              "149998  13114483573367300096  ...      592786405.0\n",
              "149999  13114483573367300096  ...      371895920.0\n",
              "150000                        ...              NaN\n",
              "\n",
              "[150001 rows x 55 columns]"
            ]
          },
          "metadata": {
            "tags": []
          },
          "execution_count": 6
        }
      ]
    },
    {
      "cell_type": "markdown",
      "metadata": {
        "id": "qoL-t3GWLPnC",
        "colab_type": "text"
      },
      "source": [
        "### Fill all missing values in the dataset with the mean"
      ]
    },
    {
      "cell_type": "code",
      "metadata": {
        "id": "j3PANtV7LPnD",
        "colab_type": "code",
        "colab": {
          "base_uri": "https://localhost:8080/",
          "height": 850
        },
        "outputId": "6cff788a-bf15-42f6-86af-3afb112e9ac4"
      },
      "source": [
        "df = df.fillna(df.mean())\n",
        "df"
      ],
      "execution_count": null,
      "outputs": [
        {
          "output_type": "execute_result",
          "data": {
            "text/html": [
              "<div>\n",
              "<style scoped>\n",
              "    .dataframe tbody tr th:only-of-type {\n",
              "        vertical-align: middle;\n",
              "    }\n",
              "\n",
              "    .dataframe tbody tr th {\n",
              "        vertical-align: top;\n",
              "    }\n",
              "\n",
              "    .dataframe thead th {\n",
              "        text-align: right;\n",
              "    }\n",
              "</style>\n",
              "<table border=\"1\" class=\"dataframe\">\n",
              "  <thead>\n",
              "    <tr style=\"text-align: right;\">\n",
              "      <th></th>\n",
              "      <th>Bearer Id</th>\n",
              "      <th>Start</th>\n",
              "      <th>Start ms</th>\n",
              "      <th>End</th>\n",
              "      <th>End ms</th>\n",
              "      <th>Dur. (ms)</th>\n",
              "      <th>IMSI</th>\n",
              "      <th>MSISDN/Number</th>\n",
              "      <th>IMEI</th>\n",
              "      <th>Last Location Name</th>\n",
              "      <th>Avg RTT DL (ms)</th>\n",
              "      <th>Avg RTT UL (ms)</th>\n",
              "      <th>Avg Bearer TP DL (kbps)</th>\n",
              "      <th>Avg Bearer TP UL (kbps)</th>\n",
              "      <th>TCP DL Retrans. Vol (Bytes)</th>\n",
              "      <th>TCP UL Retrans. Vol (Bytes)</th>\n",
              "      <th>DL TP &lt; 50 Kbps (%)</th>\n",
              "      <th>50 Kbps &lt; DL TP &lt; 250 Kbps (%)</th>\n",
              "      <th>250 Kbps &lt; DL TP &lt; 1 Mbps (%)</th>\n",
              "      <th>DL TP &gt; 1 Mbps (%)</th>\n",
              "      <th>UL TP &lt; 10 Kbps (%)</th>\n",
              "      <th>10 Kbps &lt; UL TP &lt; 50 Kbps (%)</th>\n",
              "      <th>50 Kbps &lt; UL TP &lt; 300 Kbps (%)</th>\n",
              "      <th>UL TP &gt; 300 Kbps (%)</th>\n",
              "      <th>HTTP DL (Bytes)</th>\n",
              "      <th>HTTP UL (Bytes)</th>\n",
              "      <th>Activity Duration DL (ms)</th>\n",
              "      <th>Activity Duration UL (ms)</th>\n",
              "      <th>Dur. (ms).1</th>\n",
              "      <th>Handset Manufacturer</th>\n",
              "      <th>Handset Type</th>\n",
              "      <th>Nb of sec with 125000B &lt; Vol DL</th>\n",
              "      <th>Nb of sec with 1250B &lt; Vol UL &lt; 6250B</th>\n",
              "      <th>Nb of sec with 31250B &lt; Vol DL &lt; 125000B</th>\n",
              "      <th>Nb of sec with 37500B &lt; Vol UL</th>\n",
              "      <th>Nb of sec with 6250B &lt; Vol DL &lt; 31250B</th>\n",
              "      <th>Nb of sec with 6250B &lt; Vol UL &lt; 37500B</th>\n",
              "      <th>Nb of sec with Vol DL &lt; 6250B</th>\n",
              "      <th>Nb of sec with Vol UL &lt; 1250B</th>\n",
              "      <th>Social Media DL (Bytes)</th>\n",
              "      <th>Social Media UL (Bytes)</th>\n",
              "      <th>Google DL (Bytes)</th>\n",
              "      <th>Google UL (Bytes)</th>\n",
              "      <th>Email DL (Bytes)</th>\n",
              "      <th>Email UL (Bytes)</th>\n",
              "      <th>Youtube DL (Bytes)</th>\n",
              "      <th>Youtube UL (Bytes)</th>\n",
              "      <th>Netflix DL (Bytes)</th>\n",
              "      <th>Netflix UL (Bytes)</th>\n",
              "      <th>Gaming DL (Bytes)</th>\n",
              "      <th>Gaming UL (Bytes)</th>\n",
              "      <th>Other DL (Bytes)</th>\n",
              "      <th>Other UL (Bytes)</th>\n",
              "      <th>Total UL (Bytes)</th>\n",
              "      <th>Total DL (Bytes)</th>\n",
              "    </tr>\n",
              "  </thead>\n",
              "  <tbody>\n",
              "    <tr>\n",
              "      <th>0</th>\n",
              "      <td>13114483460844900352</td>\n",
              "      <td>2019-04-04 12:01:18</td>\n",
              "      <td>770.0000</td>\n",
              "      <td>2019-04-25 14:35:31</td>\n",
              "      <td>662.00000</td>\n",
              "      <td>1.823652e+06</td>\n",
              "      <td>2.082014e+14</td>\n",
              "      <td>3.366496e+10</td>\n",
              "      <td>3.552121e+13</td>\n",
              "      <td>9164566995485190</td>\n",
              "      <td>42.000000</td>\n",
              "      <td>5.000000</td>\n",
              "      <td>23.000000</td>\n",
              "      <td>44.000000</td>\n",
              "      <td>2.080991e+07</td>\n",
              "      <td>759658.664811</td>\n",
              "      <td>100.000000</td>\n",
              "      <td>0.000000</td>\n",
              "      <td>0.000000</td>\n",
              "      <td>0.000000</td>\n",
              "      <td>100.000000</td>\n",
              "      <td>0.000000</td>\n",
              "      <td>0.000000</td>\n",
              "      <td>0.000000</td>\n",
              "      <td>1.144710e+08</td>\n",
              "      <td>3.242301e+06</td>\n",
              "      <td>3.762400e+04</td>\n",
              "      <td>3.878700e+04</td>\n",
              "      <td>1.823653e+09</td>\n",
              "      <td>Samsung</td>\n",
              "      <td>Samsung Galaxy A5 Sm-A520F</td>\n",
              "      <td>989.699998</td>\n",
              "      <td>340.434395</td>\n",
              "      <td>810.837401</td>\n",
              "      <td>149.257052</td>\n",
              "      <td>965.464756</td>\n",
              "      <td>141.304812</td>\n",
              "      <td>213.000000</td>\n",
              "      <td>214.000000</td>\n",
              "      <td>1.545765e+06</td>\n",
              "      <td>24420.00000</td>\n",
              "      <td>1.634479e+06</td>\n",
              "      <td>1.271433e+06</td>\n",
              "      <td>3.563542e+06</td>\n",
              "      <td>137762.00000</td>\n",
              "      <td>1.585461e+07</td>\n",
              "      <td>2.501332e+06</td>\n",
              "      <td>8.198936e+06</td>\n",
              "      <td>9.656251e+06</td>\n",
              "      <td>2.780823e+08</td>\n",
              "      <td>1.434415e+07</td>\n",
              "      <td>1.717444e+08</td>\n",
              "      <td>8.814393e+06</td>\n",
              "      <td>3.674974e+07</td>\n",
              "      <td>3.088796e+08</td>\n",
              "    </tr>\n",
              "    <tr>\n",
              "      <th>1</th>\n",
              "      <td>13114483482878900224</td>\n",
              "      <td>2019-04-09 13:04:04</td>\n",
              "      <td>235.0000</td>\n",
              "      <td>2019-04-25 08:15:48</td>\n",
              "      <td>606.00000</td>\n",
              "      <td>1.365104e+06</td>\n",
              "      <td>2.082019e+14</td>\n",
              "      <td>3.368185e+10</td>\n",
              "      <td>3.579401e+13</td>\n",
              "      <td>L77566A</td>\n",
              "      <td>65.000000</td>\n",
              "      <td>5.000000</td>\n",
              "      <td>16.000000</td>\n",
              "      <td>26.000000</td>\n",
              "      <td>2.080991e+07</td>\n",
              "      <td>759658.664811</td>\n",
              "      <td>100.000000</td>\n",
              "      <td>0.000000</td>\n",
              "      <td>0.000000</td>\n",
              "      <td>0.000000</td>\n",
              "      <td>100.000000</td>\n",
              "      <td>0.000000</td>\n",
              "      <td>0.000000</td>\n",
              "      <td>0.000000</td>\n",
              "      <td>1.144710e+08</td>\n",
              "      <td>3.242301e+06</td>\n",
              "      <td>1.680000e+02</td>\n",
              "      <td>3.560000e+03</td>\n",
              "      <td>1.365104e+09</td>\n",
              "      <td>Samsung</td>\n",
              "      <td>Samsung Galaxy J5 (Sm-J530)</td>\n",
              "      <td>989.699998</td>\n",
              "      <td>340.434395</td>\n",
              "      <td>810.837401</td>\n",
              "      <td>149.257052</td>\n",
              "      <td>965.464756</td>\n",
              "      <td>141.304812</td>\n",
              "      <td>971.000000</td>\n",
              "      <td>1022.000000</td>\n",
              "      <td>1.926113e+06</td>\n",
              "      <td>7165.00000</td>\n",
              "      <td>3.493924e+06</td>\n",
              "      <td>9.201720e+05</td>\n",
              "      <td>6.290460e+05</td>\n",
              "      <td>308339.00000</td>\n",
              "      <td>2.024740e+07</td>\n",
              "      <td>1.911173e+07</td>\n",
              "      <td>1.833841e+07</td>\n",
              "      <td>1.722713e+07</td>\n",
              "      <td>6.087501e+08</td>\n",
              "      <td>1.170709e+06</td>\n",
              "      <td>5.269042e+08</td>\n",
              "      <td>1.505514e+07</td>\n",
              "      <td>5.380039e+07</td>\n",
              "      <td>6.533850e+08</td>\n",
              "    </tr>\n",
              "    <tr>\n",
              "      <th>2</th>\n",
              "      <td>13114483484080500736</td>\n",
              "      <td>2019-04-09 17:42:11</td>\n",
              "      <td>1.0000</td>\n",
              "      <td>2019-04-25 11:58:13</td>\n",
              "      <td>652.00000</td>\n",
              "      <td>1.361762e+06</td>\n",
              "      <td>2.082003e+14</td>\n",
              "      <td>3.376063e+10</td>\n",
              "      <td>3.528151e+13</td>\n",
              "      <td>D42335A</td>\n",
              "      <td>109.795706</td>\n",
              "      <td>17.662883</td>\n",
              "      <td>6.000000</td>\n",
              "      <td>9.000000</td>\n",
              "      <td>2.080991e+07</td>\n",
              "      <td>759658.664811</td>\n",
              "      <td>100.000000</td>\n",
              "      <td>0.000000</td>\n",
              "      <td>0.000000</td>\n",
              "      <td>0.000000</td>\n",
              "      <td>100.000000</td>\n",
              "      <td>0.000000</td>\n",
              "      <td>0.000000</td>\n",
              "      <td>0.000000</td>\n",
              "      <td>1.144710e+08</td>\n",
              "      <td>3.242301e+06</td>\n",
              "      <td>0.000000e+00</td>\n",
              "      <td>0.000000e+00</td>\n",
              "      <td>1.361763e+09</td>\n",
              "      <td>Samsung</td>\n",
              "      <td>Samsung Galaxy A8 (2018)</td>\n",
              "      <td>989.699998</td>\n",
              "      <td>340.434395</td>\n",
              "      <td>810.837401</td>\n",
              "      <td>149.257052</td>\n",
              "      <td>965.464756</td>\n",
              "      <td>141.304812</td>\n",
              "      <td>751.000000</td>\n",
              "      <td>695.000000</td>\n",
              "      <td>1.684053e+06</td>\n",
              "      <td>42224.00000</td>\n",
              "      <td>8.535055e+06</td>\n",
              "      <td>1.694064e+06</td>\n",
              "      <td>2.690151e+06</td>\n",
              "      <td>672973.00000</td>\n",
              "      <td>1.972566e+07</td>\n",
              "      <td>1.469958e+07</td>\n",
              "      <td>1.758779e+07</td>\n",
              "      <td>6.163408e+06</td>\n",
              "      <td>2.295846e+08</td>\n",
              "      <td>3.956300e+05</td>\n",
              "      <td>4.106926e+08</td>\n",
              "      <td>4.215763e+06</td>\n",
              "      <td>2.788364e+07</td>\n",
              "      <td>2.798073e+08</td>\n",
              "    </tr>\n",
              "    <tr>\n",
              "      <th>3</th>\n",
              "      <td>13114483485442799616</td>\n",
              "      <td>2019-04-10 00:31:25</td>\n",
              "      <td>486.0000</td>\n",
              "      <td>2019-04-25 07:36:35</td>\n",
              "      <td>171.00000</td>\n",
              "      <td>1.321509e+06</td>\n",
              "      <td>2.082014e+14</td>\n",
              "      <td>3.375034e+10</td>\n",
              "      <td>3.535661e+13</td>\n",
              "      <td>T21824A</td>\n",
              "      <td>109.795706</td>\n",
              "      <td>17.662883</td>\n",
              "      <td>44.000000</td>\n",
              "      <td>44.000000</td>\n",
              "      <td>2.080991e+07</td>\n",
              "      <td>759658.664811</td>\n",
              "      <td>100.000000</td>\n",
              "      <td>0.000000</td>\n",
              "      <td>0.000000</td>\n",
              "      <td>0.000000</td>\n",
              "      <td>100.000000</td>\n",
              "      <td>0.000000</td>\n",
              "      <td>0.000000</td>\n",
              "      <td>0.000000</td>\n",
              "      <td>1.144710e+08</td>\n",
              "      <td>3.242301e+06</td>\n",
              "      <td>3.330000e+03</td>\n",
              "      <td>3.788200e+04</td>\n",
              "      <td>1.321510e+09</td>\n",
              "      <td>undefined</td>\n",
              "      <td>undefined</td>\n",
              "      <td>989.699998</td>\n",
              "      <td>340.434395</td>\n",
              "      <td>810.837401</td>\n",
              "      <td>149.257052</td>\n",
              "      <td>965.464756</td>\n",
              "      <td>141.304812</td>\n",
              "      <td>17.000000</td>\n",
              "      <td>207.000000</td>\n",
              "      <td>6.441210e+05</td>\n",
              "      <td>13372.00000</td>\n",
              "      <td>9.023734e+06</td>\n",
              "      <td>2.788027e+06</td>\n",
              "      <td>1.439754e+06</td>\n",
              "      <td>631229.00000</td>\n",
              "      <td>2.138812e+07</td>\n",
              "      <td>1.514664e+07</td>\n",
              "      <td>1.399465e+07</td>\n",
              "      <td>1.097942e+06</td>\n",
              "      <td>7.995382e+08</td>\n",
              "      <td>1.084972e+07</td>\n",
              "      <td>7.490399e+08</td>\n",
              "      <td>1.279728e+07</td>\n",
              "      <td>4.332422e+07</td>\n",
              "      <td>8.460285e+08</td>\n",
              "    </tr>\n",
              "    <tr>\n",
              "      <th>4</th>\n",
              "      <td>13114483499480700928</td>\n",
              "      <td>2019-04-12 20:10:23</td>\n",
              "      <td>565.0000</td>\n",
              "      <td>2019-04-25 10:40:32</td>\n",
              "      <td>954.00000</td>\n",
              "      <td>1.089009e+06</td>\n",
              "      <td>2.082014e+14</td>\n",
              "      <td>3.369980e+10</td>\n",
              "      <td>3.540701e+13</td>\n",
              "      <td>D88865A</td>\n",
              "      <td>109.795706</td>\n",
              "      <td>17.662883</td>\n",
              "      <td>6.000000</td>\n",
              "      <td>9.000000</td>\n",
              "      <td>2.080991e+07</td>\n",
              "      <td>759658.664811</td>\n",
              "      <td>100.000000</td>\n",
              "      <td>0.000000</td>\n",
              "      <td>0.000000</td>\n",
              "      <td>0.000000</td>\n",
              "      <td>100.000000</td>\n",
              "      <td>0.000000</td>\n",
              "      <td>0.000000</td>\n",
              "      <td>0.000000</td>\n",
              "      <td>1.144710e+08</td>\n",
              "      <td>3.242301e+06</td>\n",
              "      <td>0.000000e+00</td>\n",
              "      <td>0.000000e+00</td>\n",
              "      <td>1.089009e+09</td>\n",
              "      <td>Samsung</td>\n",
              "      <td>Samsung Sm-G390F</td>\n",
              "      <td>989.699998</td>\n",
              "      <td>340.434395</td>\n",
              "      <td>810.837401</td>\n",
              "      <td>149.257052</td>\n",
              "      <td>965.464756</td>\n",
              "      <td>141.304812</td>\n",
              "      <td>607.000000</td>\n",
              "      <td>604.000000</td>\n",
              "      <td>8.626000e+05</td>\n",
              "      <td>50188.00000</td>\n",
              "      <td>6.248284e+06</td>\n",
              "      <td>1.500559e+06</td>\n",
              "      <td>1.936496e+06</td>\n",
              "      <td>173853.00000</td>\n",
              "      <td>1.525938e+07</td>\n",
              "      <td>1.896287e+07</td>\n",
              "      <td>1.712458e+07</td>\n",
              "      <td>4.152180e+05</td>\n",
              "      <td>5.277072e+08</td>\n",
              "      <td>3.529801e+06</td>\n",
              "      <td>5.507095e+08</td>\n",
              "      <td>1.391032e+07</td>\n",
              "      <td>3.854281e+07</td>\n",
              "      <td>5.691386e+08</td>\n",
              "    </tr>\n",
              "    <tr>\n",
              "      <th>...</th>\n",
              "      <td>...</td>\n",
              "      <td>...</td>\n",
              "      <td>...</td>\n",
              "      <td>...</td>\n",
              "      <td>...</td>\n",
              "      <td>...</td>\n",
              "      <td>...</td>\n",
              "      <td>...</td>\n",
              "      <td>...</td>\n",
              "      <td>...</td>\n",
              "      <td>...</td>\n",
              "      <td>...</td>\n",
              "      <td>...</td>\n",
              "      <td>...</td>\n",
              "      <td>...</td>\n",
              "      <td>...</td>\n",
              "      <td>...</td>\n",
              "      <td>...</td>\n",
              "      <td>...</td>\n",
              "      <td>...</td>\n",
              "      <td>...</td>\n",
              "      <td>...</td>\n",
              "      <td>...</td>\n",
              "      <td>...</td>\n",
              "      <td>...</td>\n",
              "      <td>...</td>\n",
              "      <td>...</td>\n",
              "      <td>...</td>\n",
              "      <td>...</td>\n",
              "      <td>...</td>\n",
              "      <td>...</td>\n",
              "      <td>...</td>\n",
              "      <td>...</td>\n",
              "      <td>...</td>\n",
              "      <td>...</td>\n",
              "      <td>...</td>\n",
              "      <td>...</td>\n",
              "      <td>...</td>\n",
              "      <td>...</td>\n",
              "      <td>...</td>\n",
              "      <td>...</td>\n",
              "      <td>...</td>\n",
              "      <td>...</td>\n",
              "      <td>...</td>\n",
              "      <td>...</td>\n",
              "      <td>...</td>\n",
              "      <td>...</td>\n",
              "      <td>...</td>\n",
              "      <td>...</td>\n",
              "      <td>...</td>\n",
              "      <td>...</td>\n",
              "      <td>...</td>\n",
              "      <td>...</td>\n",
              "      <td>...</td>\n",
              "      <td>...</td>\n",
              "    </tr>\n",
              "    <tr>\n",
              "      <th>149996</th>\n",
              "      <td>7277825670196679680</td>\n",
              "      <td>2019-04-29 07:28:42</td>\n",
              "      <td>451.0000</td>\n",
              "      <td>2019-04-30 06:02:33</td>\n",
              "      <td>214.00000</td>\n",
              "      <td>8.123000e+04</td>\n",
              "      <td>2.082022e+14</td>\n",
              "      <td>3.365069e+10</td>\n",
              "      <td>3.548311e+13</td>\n",
              "      <td>D20434A</td>\n",
              "      <td>32.000000</td>\n",
              "      <td>0.000000</td>\n",
              "      <td>52.000000</td>\n",
              "      <td>65.000000</td>\n",
              "      <td>2.080991e+07</td>\n",
              "      <td>759658.664811</td>\n",
              "      <td>100.000000</td>\n",
              "      <td>0.000000</td>\n",
              "      <td>0.000000</td>\n",
              "      <td>0.000000</td>\n",
              "      <td>100.000000</td>\n",
              "      <td>0.000000</td>\n",
              "      <td>0.000000</td>\n",
              "      <td>0.000000</td>\n",
              "      <td>1.144710e+08</td>\n",
              "      <td>3.242301e+06</td>\n",
              "      <td>4.237600e+04</td>\n",
              "      <td>4.191500e+04</td>\n",
              "      <td>8.123076e+07</td>\n",
              "      <td>Apple</td>\n",
              "      <td>Apple iPhone 8 Plus (A1897)</td>\n",
              "      <td>989.699998</td>\n",
              "      <td>340.434395</td>\n",
              "      <td>810.837401</td>\n",
              "      <td>149.257052</td>\n",
              "      <td>965.464756</td>\n",
              "      <td>141.304812</td>\n",
              "      <td>223.000000</td>\n",
              "      <td>229.000000</td>\n",
              "      <td>3.464974e+06</td>\n",
              "      <td>52091.00000</td>\n",
              "      <td>9.967603e+06</td>\n",
              "      <td>2.817311e+06</td>\n",
              "      <td>5.763900e+04</td>\n",
              "      <td>633237.00000</td>\n",
              "      <td>1.619167e+07</td>\n",
              "      <td>1.176343e+07</td>\n",
              "      <td>1.788370e+07</td>\n",
              "      <td>1.967816e+07</td>\n",
              "      <td>5.266097e+08</td>\n",
              "      <td>9.197207e+06</td>\n",
              "      <td>3.264510e+06</td>\n",
              "      <td>1.348742e+07</td>\n",
              "      <td>5.762885e+07</td>\n",
              "      <td>5.741753e+08</td>\n",
              "    </tr>\n",
              "    <tr>\n",
              "      <th>149997</th>\n",
              "      <td>7349883264234609664</td>\n",
              "      <td>2019-04-29 07:28:42</td>\n",
              "      <td>483.0000</td>\n",
              "      <td>2019-04-30 10:41:33</td>\n",
              "      <td>187.00000</td>\n",
              "      <td>9.797000e+04</td>\n",
              "      <td>2.082019e+14</td>\n",
              "      <td>3.366345e+10</td>\n",
              "      <td>3.566051e+13</td>\n",
              "      <td>D10223C</td>\n",
              "      <td>27.000000</td>\n",
              "      <td>2.000000</td>\n",
              "      <td>23.000000</td>\n",
              "      <td>54.000000</td>\n",
              "      <td>2.080991e+07</td>\n",
              "      <td>759658.664811</td>\n",
              "      <td>100.000000</td>\n",
              "      <td>0.000000</td>\n",
              "      <td>0.000000</td>\n",
              "      <td>0.000000</td>\n",
              "      <td>100.000000</td>\n",
              "      <td>0.000000</td>\n",
              "      <td>0.000000</td>\n",
              "      <td>0.000000</td>\n",
              "      <td>1.144710e+08</td>\n",
              "      <td>3.242301e+06</td>\n",
              "      <td>1.726400e+04</td>\n",
              "      <td>1.675900e+04</td>\n",
              "      <td>9.797070e+07</td>\n",
              "      <td>Apple</td>\n",
              "      <td>Apple iPhone Se (A1723)</td>\n",
              "      <td>989.699998</td>\n",
              "      <td>340.434395</td>\n",
              "      <td>810.837401</td>\n",
              "      <td>149.257052</td>\n",
              "      <td>965.464756</td>\n",
              "      <td>141.304812</td>\n",
              "      <td>105.000000</td>\n",
              "      <td>102.000000</td>\n",
              "      <td>2.344568e+06</td>\n",
              "      <td>7613.00000</td>\n",
              "      <td>2.229420e+06</td>\n",
              "      <td>2.185941e+06</td>\n",
              "      <td>1.954414e+06</td>\n",
              "      <td>167304.00000</td>\n",
              "      <td>1.387723e+07</td>\n",
              "      <td>8.288284e+06</td>\n",
              "      <td>1.935015e+07</td>\n",
              "      <td>2.129315e+07</td>\n",
              "      <td>6.268931e+08</td>\n",
              "      <td>4.735033e+06</td>\n",
              "      <td>7.121804e+08</td>\n",
              "      <td>2.457758e+06</td>\n",
              "      <td>3.913508e+07</td>\n",
              "      <td>6.666488e+08</td>\n",
              "    </tr>\n",
              "    <tr>\n",
              "      <th>149998</th>\n",
              "      <td>13114483573367300096</td>\n",
              "      <td>2019-04-29 07:28:43</td>\n",
              "      <td>283.0000</td>\n",
              "      <td>2019-04-30 10:46:12</td>\n",
              "      <td>810.00000</td>\n",
              "      <td>9.824900e+04</td>\n",
              "      <td>2.082017e+14</td>\n",
              "      <td>3.362189e+10</td>\n",
              "      <td>3.572121e+13</td>\n",
              "      <td>T51102A</td>\n",
              "      <td>43.000000</td>\n",
              "      <td>6.000000</td>\n",
              "      <td>43.000000</td>\n",
              "      <td>47.000000</td>\n",
              "      <td>2.080991e+07</td>\n",
              "      <td>759658.664811</td>\n",
              "      <td>100.000000</td>\n",
              "      <td>0.000000</td>\n",
              "      <td>0.000000</td>\n",
              "      <td>0.000000</td>\n",
              "      <td>100.000000</td>\n",
              "      <td>0.000000</td>\n",
              "      <td>0.000000</td>\n",
              "      <td>0.000000</td>\n",
              "      <td>1.144710e+08</td>\n",
              "      <td>3.242301e+06</td>\n",
              "      <td>2.500300e+04</td>\n",
              "      <td>2.864000e+04</td>\n",
              "      <td>9.824953e+07</td>\n",
              "      <td>Apple</td>\n",
              "      <td>Apple iPhone Xs (A2097)</td>\n",
              "      <td>989.699998</td>\n",
              "      <td>340.434395</td>\n",
              "      <td>810.837401</td>\n",
              "      <td>149.257052</td>\n",
              "      <td>965.464756</td>\n",
              "      <td>141.304812</td>\n",
              "      <td>104.000000</td>\n",
              "      <td>108.000000</td>\n",
              "      <td>1.245845e+06</td>\n",
              "      <td>14394.00000</td>\n",
              "      <td>3.850890e+06</td>\n",
              "      <td>2.734579e+06</td>\n",
              "      <td>1.525734e+06</td>\n",
              "      <td>532543.00000</td>\n",
              "      <td>2.266051e+07</td>\n",
              "      <td>1.855903e+06</td>\n",
              "      <td>9.963942e+06</td>\n",
              "      <td>5.065760e+06</td>\n",
              "      <td>5.535395e+08</td>\n",
              "      <td>1.339432e+07</td>\n",
              "      <td>1.211009e+08</td>\n",
              "      <td>1.131473e+07</td>\n",
              "      <td>3.491222e+07</td>\n",
              "      <td>5.927864e+08</td>\n",
              "    </tr>\n",
              "    <tr>\n",
              "      <th>149999</th>\n",
              "      <td>13114483573367300096</td>\n",
              "      <td>2019-04-29 07:28:43</td>\n",
              "      <td>696.0000</td>\n",
              "      <td>2019-04-30 10:40:34</td>\n",
              "      <td>327.00000</td>\n",
              "      <td>9.791000e+04</td>\n",
              "      <td>2.082021e+14</td>\n",
              "      <td>3.361962e+10</td>\n",
              "      <td>8.618620e+13</td>\n",
              "      <td>L88342B</td>\n",
              "      <td>37.000000</td>\n",
              "      <td>5.000000</td>\n",
              "      <td>34.000000</td>\n",
              "      <td>37.000000</td>\n",
              "      <td>2.080991e+07</td>\n",
              "      <td>759658.664811</td>\n",
              "      <td>100.000000</td>\n",
              "      <td>0.000000</td>\n",
              "      <td>0.000000</td>\n",
              "      <td>0.000000</td>\n",
              "      <td>100.000000</td>\n",
              "      <td>0.000000</td>\n",
              "      <td>0.000000</td>\n",
              "      <td>0.000000</td>\n",
              "      <td>1.144710e+08</td>\n",
              "      <td>3.242301e+06</td>\n",
              "      <td>1.340500e+04</td>\n",
              "      <td>3.408800e+04</td>\n",
              "      <td>9.791063e+07</td>\n",
              "      <td>Huawei</td>\n",
              "      <td>Huawei Fig-Lx1</td>\n",
              "      <td>989.699998</td>\n",
              "      <td>340.434395</td>\n",
              "      <td>810.837401</td>\n",
              "      <td>149.257052</td>\n",
              "      <td>965.464756</td>\n",
              "      <td>141.304812</td>\n",
              "      <td>43.000000</td>\n",
              "      <td>82.000000</td>\n",
              "      <td>8.015470e+05</td>\n",
              "      <td>21562.00000</td>\n",
              "      <td>4.189773e+06</td>\n",
              "      <td>3.567494e+06</td>\n",
              "      <td>2.228270e+06</td>\n",
              "      <td>622644.00000</td>\n",
              "      <td>8.817106e+06</td>\n",
              "      <td>8.305402e+06</td>\n",
              "      <td>3.322253e+06</td>\n",
              "      <td>1.317259e+07</td>\n",
              "      <td>3.525370e+08</td>\n",
              "      <td>2.529475e+06</td>\n",
              "      <td>8.147131e+08</td>\n",
              "      <td>1.406930e+06</td>\n",
              "      <td>2.962610e+07</td>\n",
              "      <td>3.718959e+08</td>\n",
              "    </tr>\n",
              "    <tr>\n",
              "      <th>150000</th>\n",
              "      <td></td>\n",
              "      <td>NaT</td>\n",
              "      <td>499.1882</td>\n",
              "      <td>NaT</td>\n",
              "      <td>498.80088</td>\n",
              "      <td>1.046086e+05</td>\n",
              "      <td>2.082016e+14</td>\n",
              "      <td>4.188282e+10</td>\n",
              "      <td>4.847455e+13</td>\n",
              "      <td>NaN</td>\n",
              "      <td>109.795706</td>\n",
              "      <td>17.662883</td>\n",
              "      <td>13300.045927</td>\n",
              "      <td>1770.428647</td>\n",
              "      <td>2.080991e+07</td>\n",
              "      <td>759658.664811</td>\n",
              "      <td>92.844754</td>\n",
              "      <td>3.069355</td>\n",
              "      <td>1.717341</td>\n",
              "      <td>1.609654</td>\n",
              "      <td>98.530142</td>\n",
              "      <td>0.776749</td>\n",
              "      <td>0.147987</td>\n",
              "      <td>0.078923</td>\n",
              "      <td>1.144710e+08</td>\n",
              "      <td>3.242301e+06</td>\n",
              "      <td>1.829177e+06</td>\n",
              "      <td>1.408880e+06</td>\n",
              "      <td>1.046091e+08</td>\n",
              "      <td>NaN</td>\n",
              "      <td>NaN</td>\n",
              "      <td>989.699998</td>\n",
              "      <td>340.434395</td>\n",
              "      <td>810.837401</td>\n",
              "      <td>149.257052</td>\n",
              "      <td>965.464756</td>\n",
              "      <td>141.304812</td>\n",
              "      <td>3719.787552</td>\n",
              "      <td>4022.083454</td>\n",
              "      <td>1.795322e+06</td>\n",
              "      <td>32928.43438</td>\n",
              "      <td>5.750753e+06</td>\n",
              "      <td>2.056542e+06</td>\n",
              "      <td>1.791729e+06</td>\n",
              "      <td>467373.44194</td>\n",
              "      <td>1.163407e+07</td>\n",
              "      <td>1.100941e+07</td>\n",
              "      <td>1.162685e+07</td>\n",
              "      <td>1.100175e+07</td>\n",
              "      <td>4.220447e+08</td>\n",
              "      <td>8.288398e+06</td>\n",
              "      <td>4.211005e+08</td>\n",
              "      <td>8.264799e+06</td>\n",
              "      <td>4.112121e+07</td>\n",
              "      <td>4.546434e+08</td>\n",
              "    </tr>\n",
              "  </tbody>\n",
              "</table>\n",
              "<p>150001 rows × 55 columns</p>\n",
              "</div>"
            ],
            "text/plain": [
              "                   Bearer Id  ... Total DL (Bytes)\n",
              "0       13114483460844900352  ...     3.088796e+08\n",
              "1       13114483482878900224  ...     6.533850e+08\n",
              "2       13114483484080500736  ...     2.798073e+08\n",
              "3       13114483485442799616  ...     8.460285e+08\n",
              "4       13114483499480700928  ...     5.691386e+08\n",
              "...                      ...  ...              ...\n",
              "149996   7277825670196679680  ...     5.741753e+08\n",
              "149997   7349883264234609664  ...     6.666488e+08\n",
              "149998  13114483573367300096  ...     5.927864e+08\n",
              "149999  13114483573367300096  ...     3.718959e+08\n",
              "150000                        ...     4.546434e+08\n",
              "\n",
              "[150001 rows x 55 columns]"
            ]
          },
          "metadata": {
            "tags": []
          },
          "execution_count": 7
        }
      ]
    },
    {
      "cell_type": "code",
      "metadata": {
        "id": "V9Gd_oowKh_4",
        "colab_type": "code",
        "colab": {
          "base_uri": "https://localhost:8080/",
          "height": 212
        },
        "outputId": "ad6b7846-2379-43ce-c6f2-9d4f5c00eff3"
      },
      "source": [
        "df.dtypes"
      ],
      "execution_count": null,
      "outputs": [
        {
          "output_type": "execute_result",
          "data": {
            "text/plain": [
              "Bearer Id                         object\n",
              "Start                     datetime64[ns]\n",
              "Start ms                         float64\n",
              "End                       datetime64[ns]\n",
              "End ms                           float64\n",
              "                               ...      \n",
              "TotalNetflixDataVolume           float64\n",
              "TotalGamingDataVolume            float64\n",
              "TotalOtherDataVolume             float64\n",
              "TotalDLandUL                     float64\n",
              "DecileRank                       float64\n",
              "Length: 64, dtype: object"
            ]
          },
          "metadata": {
            "tags": []
          },
          "execution_count": 48
        }
      ]
    },
    {
      "cell_type": "markdown",
      "metadata": {
        "id": "YCy96vrrvqxq",
        "colab_type": "text"
      },
      "source": [
        "## Task 1 - User Overview analysis "
      ]
    },
    {
      "cell_type": "markdown",
      "metadata": {
        "id": "PjRtjFZ7QLE8",
        "colab_type": "text"
      },
      "source": [
        "Start by identifying the top 10 handsets used by the customers."
      ]
    },
    {
      "cell_type": "code",
      "metadata": {
        "id": "m8yPOTmIQiAU",
        "colab_type": "code",
        "colab": {
          "base_uri": "https://localhost:8080/",
          "height": 212
        },
        "outputId": "3534b0de-2c6c-417f-de0a-7c9c6ee973b7"
      },
      "source": [
        "df.groupby('Handset Type')['MSISDN/Number'].count().sort_values(ascending=False).head(10)"
      ],
      "execution_count": null,
      "outputs": [
        {
          "output_type": "execute_result",
          "data": {
            "text/plain": [
              "Handset Type\n",
              "Huawei B528S-23A                19752\n",
              "Apple iPhone 6S (A1688)          9419\n",
              "Apple iPhone 6 (A1586)           9023\n",
              "undefined                        8987\n",
              "Apple iPhone 7 (A1778)           6326\n",
              "Apple iPhone Se (A1723)          5187\n",
              "Apple iPhone 8 (A1905)           4993\n",
              "Apple iPhone Xr (A2105)          4568\n",
              "Samsung Galaxy S8 (Sm-G950F)     4520\n",
              "Apple iPhone X (A1901)           3813\n",
              "Name: MSISDN/Number, dtype: int64"
            ]
          },
          "metadata": {
            "tags": []
          },
          "execution_count": 49
        }
      ]
    },
    {
      "cell_type": "markdown",
      "metadata": {
        "id": "yeInaYM_Q1Dj",
        "colab_type": "text"
      },
      "source": [
        "Then, identify the top 3 handset manufacturers"
      ]
    },
    {
      "cell_type": "code",
      "metadata": {
        "id": "8Qg0x7XeQ3Jh",
        "colab_type": "code",
        "colab": {
          "base_uri": "https://localhost:8080/",
          "height": 98
        },
        "outputId": "d0e109fa-368a-4291-b77c-9def00db7531"
      },
      "source": [
        "df.groupby(['Handset Manufacturer'])['MSISDN/Number'].count().sort_values(ascending=False).head(3)"
      ],
      "execution_count": null,
      "outputs": [
        {
          "output_type": "execute_result",
          "data": {
            "text/plain": [
              "Handset Manufacturer\n",
              "Apple      59565\n",
              "Samsung    40839\n",
              "Huawei     34423\n",
              "Name: MSISDN/Number, dtype: int64"
            ]
          },
          "metadata": {
            "tags": []
          },
          "execution_count": 50
        }
      ]
    },
    {
      "cell_type": "markdown",
      "metadata": {
        "id": "wr3E1SmTQ9Ai",
        "colab_type": "text"
      },
      "source": [
        "\n",
        "Next, identify the top 5 handsets per handset manufacturer"
      ]
    },
    {
      "cell_type": "code",
      "metadata": {
        "id": "vfIws8LTRCQw",
        "colab_type": "code",
        "colab": {
          "base_uri": "https://localhost:8080/",
          "height": 131
        },
        "outputId": "ea58d17c-377c-4a03-f26d-8e630d4f154f"
      },
      "source": [
        "df.groupby(['Handset Manufacturer','Handset Type'])['MSISDN/Number'].count().sort_values(ascending=False).head(5)"
      ],
      "execution_count": null,
      "outputs": [
        {
          "output_type": "execute_result",
          "data": {
            "text/plain": [
              "Handset Manufacturer  Handset Type           \n",
              "Huawei                Huawei B528S-23A           19752\n",
              "Apple                 Apple iPhone 6S (A1688)     9419\n",
              "                      Apple iPhone 6 (A1586)      9023\n",
              "undefined             undefined                   8987\n",
              "Apple                 Apple iPhone 7 (A1778)      6326\n",
              "Name: MSISDN/Number, dtype: int64"
            ]
          },
          "metadata": {
            "tags": []
          },
          "execution_count": 51
        }
      ]
    },
    {
      "cell_type": "markdown",
      "metadata": {
        "id": "apG2pyw2Rcuo",
        "colab_type": "text"
      },
      "source": [
        "#### Make a short interpretation and recommendation to marketing teams"
      ]
    },
    {
      "cell_type": "markdown",
      "metadata": {
        "id": "A-azU0zKRTOf",
        "colab_type": "text"
      },
      "source": [
        "I recommend to the marketing team if they would agree to purchase TellCo, they should purchase products from manufacturers with the highest number of counts per MSISDN number(MS International PSTN/ISDN Number of mobile - customer number\n",
        "). The top three products with the highest amount of counts were \"Apple\", \"Samsung\", and \"Huawei\"..."
      ]
    },
    {
      "cell_type": "markdown",
      "metadata": {
        "id": "6pJTql27LPnK",
        "colab_type": "text"
      },
      "source": [
        "#### Task 1.1 - Aggregate the Number of xDR sessions,  Session duration,  the total download (DL) and upload (UL) data , the total data volume (in Bytes) during this session for each application (Social Media, Google, Email, YouTube, Netflix, Gaming)."
      ]
    },
    {
      "cell_type": "markdown",
      "metadata": {
        "id": "pxxaIXa_LPnL",
        "colab_type": "text"
      },
      "source": [
        "#### Aggregate the Number of xDR sessions"
      ]
    },
    {
      "cell_type": "code",
      "metadata": {
        "id": "rXYUNlP-quLy",
        "colab_type": "code",
        "colab": {
          "base_uri": "https://localhost:8080/",
          "height": 420
        },
        "outputId": "b24d0793-3de8-463c-e9b8-e8bc9d202741"
      },
      "source": [
        "number_of_xdr_sessions = df.groupby(['MSISDN/Number'], sort=False)['Bearer Id'].agg(['count'])\n",
        "number_of_xdr_sessions.columns = [\"Num of xDR sessions\"]\n",
        "number_of_xdr_sessions"
      ],
      "execution_count": null,
      "outputs": [
        {
          "output_type": "execute_result",
          "data": {
            "text/html": [
              "<div>\n",
              "<style scoped>\n",
              "    .dataframe tbody tr th:only-of-type {\n",
              "        vertical-align: middle;\n",
              "    }\n",
              "\n",
              "    .dataframe tbody tr th {\n",
              "        vertical-align: top;\n",
              "    }\n",
              "\n",
              "    .dataframe thead th {\n",
              "        text-align: right;\n",
              "    }\n",
              "</style>\n",
              "<table border=\"1\" class=\"dataframe\">\n",
              "  <thead>\n",
              "    <tr style=\"text-align: right;\">\n",
              "      <th></th>\n",
              "      <th>Num of xDR sessions</th>\n",
              "    </tr>\n",
              "    <tr>\n",
              "      <th>MSISDN/Number</th>\n",
              "      <th></th>\n",
              "    </tr>\n",
              "  </thead>\n",
              "  <tbody>\n",
              "    <tr>\n",
              "      <th>3.366496e+10</th>\n",
              "      <td>2</td>\n",
              "    </tr>\n",
              "    <tr>\n",
              "      <th>3.368185e+10</th>\n",
              "      <td>2</td>\n",
              "    </tr>\n",
              "    <tr>\n",
              "      <th>3.376063e+10</th>\n",
              "      <td>1</td>\n",
              "    </tr>\n",
              "    <tr>\n",
              "      <th>3.375034e+10</th>\n",
              "      <td>1</td>\n",
              "    </tr>\n",
              "    <tr>\n",
              "      <th>3.369980e+10</th>\n",
              "      <td>1</td>\n",
              "    </tr>\n",
              "    <tr>\n",
              "      <th>...</th>\n",
              "      <td>...</td>\n",
              "    </tr>\n",
              "    <tr>\n",
              "      <th>3.364566e+10</th>\n",
              "      <td>1</td>\n",
              "    </tr>\n",
              "    <tr>\n",
              "      <th>3.366865e+10</th>\n",
              "      <td>1</td>\n",
              "    </tr>\n",
              "    <tr>\n",
              "      <th>3.365069e+10</th>\n",
              "      <td>1</td>\n",
              "    </tr>\n",
              "    <tr>\n",
              "      <th>3.362189e+10</th>\n",
              "      <td>1</td>\n",
              "    </tr>\n",
              "    <tr>\n",
              "      <th>3.361962e+10</th>\n",
              "      <td>1</td>\n",
              "    </tr>\n",
              "  </tbody>\n",
              "</table>\n",
              "<p>106857 rows × 1 columns</p>\n",
              "</div>"
            ],
            "text/plain": [
              "               Num of xDR sessions\n",
              "MSISDN/Number                     \n",
              "3.366496e+10                     2\n",
              "3.368185e+10                     2\n",
              "3.376063e+10                     1\n",
              "3.375034e+10                     1\n",
              "3.369980e+10                     1\n",
              "...                            ...\n",
              "3.364566e+10                     1\n",
              "3.366865e+10                     1\n",
              "3.365069e+10                     1\n",
              "3.362189e+10                     1\n",
              "3.361962e+10                     1\n",
              "\n",
              "[106857 rows x 1 columns]"
            ]
          },
          "metadata": {
            "tags": []
          },
          "execution_count": 10
        }
      ]
    },
    {
      "cell_type": "markdown",
      "metadata": {
        "id": "UiuMz_EyLPna",
        "colab_type": "text"
      },
      "source": [
        "#### Aggregate the Session duration"
      ]
    },
    {
      "cell_type": "code",
      "metadata": {
        "id": "MIpG8sqIp8p_",
        "colab_type": "code",
        "colab": {
          "base_uri": "https://localhost:8080/",
          "height": 420
        },
        "outputId": "8ab7f54f-6417-40cb-cfc4-7c89c2f9e0a0"
      },
      "source": [
        "session_duration = df.groupby(['MSISDN/Number'], sort=False)['Dur. (ms)'].agg(['sum'])\n",
        "session_duration.columns = [\"Session_duration\"]\n",
        "session_duration"
      ],
      "execution_count": null,
      "outputs": [
        {
          "output_type": "execute_result",
          "data": {
            "text/html": [
              "<div>\n",
              "<style scoped>\n",
              "    .dataframe tbody tr th:only-of-type {\n",
              "        vertical-align: middle;\n",
              "    }\n",
              "\n",
              "    .dataframe tbody tr th {\n",
              "        vertical-align: top;\n",
              "    }\n",
              "\n",
              "    .dataframe thead th {\n",
              "        text-align: right;\n",
              "    }\n",
              "</style>\n",
              "<table border=\"1\" class=\"dataframe\">\n",
              "  <thead>\n",
              "    <tr style=\"text-align: right;\">\n",
              "      <th></th>\n",
              "      <th>Session_duration</th>\n",
              "    </tr>\n",
              "    <tr>\n",
              "      <th>MSISDN/Number</th>\n",
              "      <th></th>\n",
              "    </tr>\n",
              "  </thead>\n",
              "  <tbody>\n",
              "    <tr>\n",
              "      <th>3.366496e+10</th>\n",
              "      <td>2083209.0</td>\n",
              "    </tr>\n",
              "    <tr>\n",
              "      <th>3.368185e+10</th>\n",
              "      <td>1698167.0</td>\n",
              "    </tr>\n",
              "    <tr>\n",
              "      <th>3.376063e+10</th>\n",
              "      <td>1361762.0</td>\n",
              "    </tr>\n",
              "    <tr>\n",
              "      <th>3.375034e+10</th>\n",
              "      <td>1321509.0</td>\n",
              "    </tr>\n",
              "    <tr>\n",
              "      <th>3.369980e+10</th>\n",
              "      <td>1089009.0</td>\n",
              "    </tr>\n",
              "    <tr>\n",
              "      <th>...</th>\n",
              "      <td>...</td>\n",
              "    </tr>\n",
              "    <tr>\n",
              "      <th>3.364566e+10</th>\n",
              "      <td>113545.0</td>\n",
              "    </tr>\n",
              "    <tr>\n",
              "      <th>3.366865e+10</th>\n",
              "      <td>59587.0</td>\n",
              "    </tr>\n",
              "    <tr>\n",
              "      <th>3.365069e+10</th>\n",
              "      <td>81230.0</td>\n",
              "    </tr>\n",
              "    <tr>\n",
              "      <th>3.362189e+10</th>\n",
              "      <td>98249.0</td>\n",
              "    </tr>\n",
              "    <tr>\n",
              "      <th>3.361962e+10</th>\n",
              "      <td>97910.0</td>\n",
              "    </tr>\n",
              "  </tbody>\n",
              "</table>\n",
              "<p>106857 rows × 1 columns</p>\n",
              "</div>"
            ],
            "text/plain": [
              "               Session_duration\n",
              "MSISDN/Number                  \n",
              "3.366496e+10          2083209.0\n",
              "3.368185e+10          1698167.0\n",
              "3.376063e+10          1361762.0\n",
              "3.375034e+10          1321509.0\n",
              "3.369980e+10          1089009.0\n",
              "...                         ...\n",
              "3.364566e+10           113545.0\n",
              "3.366865e+10            59587.0\n",
              "3.365069e+10            81230.0\n",
              "3.362189e+10            98249.0\n",
              "3.361962e+10            97910.0\n",
              "\n",
              "[106857 rows x 1 columns]"
            ]
          },
          "metadata": {
            "tags": []
          },
          "execution_count": 9
        }
      ]
    },
    {
      "cell_type": "markdown",
      "metadata": {
        "id": "zZGm7OAxLPnr",
        "colab_type": "text"
      },
      "source": [
        "#### Aggregate the total download (DL) and upload (UL) data, I found the sum of the two columns \"Total Download (DL) and Upload (UL) Data\""
      ]
    },
    {
      "cell_type": "code",
      "metadata": {
        "id": "evphr5SzLPnx",
        "colab_type": "code",
        "colab": {
          "base_uri": "https://localhost:8080/",
          "height": 228
        },
        "outputId": "82515644-edfe-47e6-f80f-aacd6eeaca6f"
      },
      "source": [
        "df[\"TotalDLandUL\"]=df[\"Total DL (Bytes)\"]+df[\"Total UL (Bytes)\"]\n",
        "df.groupby(\"MSISDN/Number\")['TotalDLandUL'].sum()"
      ],
      "execution_count": null,
      "outputs": [
        {
          "output_type": "execute_result",
          "data": {
            "text/plain": [
              "MSISDN/Number\n",
              "3.360100e+10    8.786906e+08\n",
              "3.360100e+10    1.568596e+08\n",
              "3.360100e+10    5.959665e+08\n",
              "3.360101e+10    4.223207e+08\n",
              "3.360101e+10    1.457411e+09\n",
              "                    ...     \n",
              "3.379000e+10    4.803073e+08\n",
              "4.188282e+10    5.317447e+11\n",
              "3.197021e+12    2.321240e+08\n",
              "3.370000e+14    5.962878e+08\n",
              "8.823971e+14    1.391536e+08\n",
              "Name: TotalDLandUL, Length: 106857, dtype: float64"
            ]
          },
          "metadata": {
            "tags": []
          },
          "execution_count": 8
        }
      ]
    },
    {
      "cell_type": "markdown",
      "metadata": {
        "id": "wOroofI5LPn8",
        "colab_type": "text"
      },
      "source": [
        "#### Aggregate the total data volume (in Bytes) during this session for each application (Social Media, Google, Email, YouTube, Netflix, Gaming, Other).\n",
        "\n",
        "I found the sum of the two columns \"Social Media DL (Bytes)\" and \"Social Media UL (Bytes)\"\n",
        "\n",
        "I found the sum of the two columns \"Google DL (Bytes)\" and \"Google UL (Bytes)\"\n",
        "\n",
        "I found the sum of the two columns \"Email DL (Bytes)\" and \"Email UL (Bytes)\"\n",
        "\n",
        "I found the sum of the two columns \"Youtube DL (Bytes)\" and \"Youtube UL (Bytes)\"\n",
        "\n",
        "I found the sum of the two columns \"Netflix DL (Bytes)\" and \"Netflix UL (Bytes)\"\n",
        "\n",
        "I found the sum of the two columns \"Gaming DL (Bytes)\" and \"Gaming UL (Bytes)\"\n",
        "\n",
        "I found the sum of the two columns \"Other DL (Bytes)\" and \"Other UL (Bytes)\""
      ]
    },
    {
      "cell_type": "code",
      "metadata": {
        "id": "_TNhggC_LPoB",
        "colab_type": "code",
        "colab": {
          "base_uri": "https://localhost:8080/",
          "height": 391
        },
        "outputId": "2a6259d5-ccaf-470f-ac4e-a83757748f6d"
      },
      "source": [
        "df[\"TotalSocialMediaDataVolume\"] = df[\"Social Media DL (Bytes)\"]+df[\"Social Media UL (Bytes)\"]\n",
        "df[\"TotalGoogleDataVolume\"] = df[\"Google DL (Bytes)\"]+df[\"Google UL (Bytes)\"]\n",
        "df[\"TotalEmailDataVolume\"] = df[\"Email DL (Bytes)\"]+df[\"Email UL (Bytes)\"]\n",
        "df[\"TotalYoutubeDataVolume\"] = df[\"Youtube DL (Bytes)\"]+df[\"Youtube UL (Bytes)\"]\n",
        "df[\"TotalNetflixDataVolume\"] = df[\"Netflix DL (Bytes)\"]+df[\"Netflix UL (Bytes)\"]\n",
        "df[\"TotalGamingDataVolume\"] = df[\"Gaming DL (Bytes)\"]+df[\"Gaming UL (Bytes)\"]\n",
        "df[\"TotalOtherDataVolume\"] = df[\"Other DL (Bytes)\"]+df[\"Other UL (Bytes)\"]\n",
        "\n",
        "concatenate = pd.concat([df['TotalSocialMediaDataVolume'], df['TotalGoogleDataVolume'], df['TotalEmailDataVolume'],\n",
        "                        df['TotalYoutubeDataVolume'], df['TotalNetflixDataVolume'], df['TotalGamingDataVolume'], df[\"TotalOtherDataVolume\"]], axis=1)\n",
        "concatenate"
      ],
      "execution_count": null,
      "outputs": [
        {
          "output_type": "execute_result",
          "data": {
            "text/html": [
              "<div>\n",
              "<style scoped>\n",
              "    .dataframe tbody tr th:only-of-type {\n",
              "        vertical-align: middle;\n",
              "    }\n",
              "\n",
              "    .dataframe tbody tr th {\n",
              "        vertical-align: top;\n",
              "    }\n",
              "\n",
              "    .dataframe thead th {\n",
              "        text-align: right;\n",
              "    }\n",
              "</style>\n",
              "<table border=\"1\" class=\"dataframe\">\n",
              "  <thead>\n",
              "    <tr style=\"text-align: right;\">\n",
              "      <th></th>\n",
              "      <th>TotalSocialMediaDataVolume</th>\n",
              "      <th>TotalGoogleDataVolume</th>\n",
              "      <th>TotalEmailDataVolume</th>\n",
              "      <th>TotalYoutubeDataVolume</th>\n",
              "      <th>TotalNetflixDataVolume</th>\n",
              "      <th>TotalGamingDataVolume</th>\n",
              "      <th>TotalOtherDataVolume</th>\n",
              "    </tr>\n",
              "  </thead>\n",
              "  <tbody>\n",
              "    <tr>\n",
              "      <th>0</th>\n",
              "      <td>1.570185e+06</td>\n",
              "      <td>2.905912e+06</td>\n",
              "      <td>3.701304e+06</td>\n",
              "      <td>1.835594e+07</td>\n",
              "      <td>1.785519e+07</td>\n",
              "      <td>2.924265e+08</td>\n",
              "      <td>1.805588e+08</td>\n",
              "    </tr>\n",
              "    <tr>\n",
              "      <th>1</th>\n",
              "      <td>1.933278e+06</td>\n",
              "      <td>4.414096e+06</td>\n",
              "      <td>9.373850e+05</td>\n",
              "      <td>3.935912e+07</td>\n",
              "      <td>3.556554e+07</td>\n",
              "      <td>6.099208e+08</td>\n",
              "      <td>5.419594e+08</td>\n",
              "    </tr>\n",
              "    <tr>\n",
              "      <th>2</th>\n",
              "      <td>1.726277e+06</td>\n",
              "      <td>1.022912e+07</td>\n",
              "      <td>3.363124e+06</td>\n",
              "      <td>3.442524e+07</td>\n",
              "      <td>2.375120e+07</td>\n",
              "      <td>2.299803e+08</td>\n",
              "      <td>4.149084e+08</td>\n",
              "    </tr>\n",
              "    <tr>\n",
              "      <th>3</th>\n",
              "      <td>6.574930e+05</td>\n",
              "      <td>1.181176e+07</td>\n",
              "      <td>2.070983e+06</td>\n",
              "      <td>3.653476e+07</td>\n",
              "      <td>1.509259e+07</td>\n",
              "      <td>8.103879e+08</td>\n",
              "      <td>7.618372e+08</td>\n",
              "    </tr>\n",
              "    <tr>\n",
              "      <th>4</th>\n",
              "      <td>9.127880e+05</td>\n",
              "      <td>7.748843e+06</td>\n",
              "      <td>2.110349e+06</td>\n",
              "      <td>3.422225e+07</td>\n",
              "      <td>1.753980e+07</td>\n",
              "      <td>5.312370e+08</td>\n",
              "      <td>5.646198e+08</td>\n",
              "    </tr>\n",
              "    <tr>\n",
              "      <th>...</th>\n",
              "      <td>...</td>\n",
              "      <td>...</td>\n",
              "      <td>...</td>\n",
              "      <td>...</td>\n",
              "      <td>...</td>\n",
              "      <td>...</td>\n",
              "      <td>...</td>\n",
              "    </tr>\n",
              "    <tr>\n",
              "      <th>149996</th>\n",
              "      <td>3.517065e+06</td>\n",
              "      <td>1.278491e+07</td>\n",
              "      <td>6.908760e+05</td>\n",
              "      <td>2.795510e+07</td>\n",
              "      <td>3.756186e+07</td>\n",
              "      <td>5.358069e+08</td>\n",
              "      <td>1.675193e+07</td>\n",
              "    </tr>\n",
              "    <tr>\n",
              "      <th>149997</th>\n",
              "      <td>2.352181e+06</td>\n",
              "      <td>4.415361e+06</td>\n",
              "      <td>2.121718e+06</td>\n",
              "      <td>2.216552e+07</td>\n",
              "      <td>4.064329e+07</td>\n",
              "      <td>6.316281e+08</td>\n",
              "      <td>7.146381e+08</td>\n",
              "    </tr>\n",
              "    <tr>\n",
              "      <th>149998</th>\n",
              "      <td>1.260239e+06</td>\n",
              "      <td>6.585469e+06</td>\n",
              "      <td>2.058277e+06</td>\n",
              "      <td>2.451641e+07</td>\n",
              "      <td>1.502970e+07</td>\n",
              "      <td>5.669338e+08</td>\n",
              "      <td>1.324156e+08</td>\n",
              "    </tr>\n",
              "    <tr>\n",
              "      <th>149999</th>\n",
              "      <td>8.231090e+05</td>\n",
              "      <td>7.757267e+06</td>\n",
              "      <td>2.850914e+06</td>\n",
              "      <td>1.712251e+07</td>\n",
              "      <td>1.649484e+07</td>\n",
              "      <td>3.550664e+08</td>\n",
              "      <td>8.161200e+08</td>\n",
              "    </tr>\n",
              "    <tr>\n",
              "      <th>150000</th>\n",
              "      <td>1.828250e+06</td>\n",
              "      <td>7.807295e+06</td>\n",
              "      <td>2.259102e+06</td>\n",
              "      <td>2.264348e+07</td>\n",
              "      <td>2.262861e+07</td>\n",
              "      <td>4.303331e+08</td>\n",
              "      <td>4.293653e+08</td>\n",
              "    </tr>\n",
              "  </tbody>\n",
              "</table>\n",
              "<p>150001 rows × 7 columns</p>\n",
              "</div>"
            ],
            "text/plain": [
              "        TotalSocialMediaDataVolume  ...  TotalOtherDataVolume\n",
              "0                     1.570185e+06  ...          1.805588e+08\n",
              "1                     1.933278e+06  ...          5.419594e+08\n",
              "2                     1.726277e+06  ...          4.149084e+08\n",
              "3                     6.574930e+05  ...          7.618372e+08\n",
              "4                     9.127880e+05  ...          5.646198e+08\n",
              "...                            ...  ...                   ...\n",
              "149996                3.517065e+06  ...          1.675193e+07\n",
              "149997                2.352181e+06  ...          7.146381e+08\n",
              "149998                1.260239e+06  ...          1.324156e+08\n",
              "149999                8.231090e+05  ...          8.161200e+08\n",
              "150000                1.828250e+06  ...          4.293653e+08\n",
              "\n",
              "[150001 rows x 7 columns]"
            ]
          },
          "metadata": {
            "tags": []
          },
          "execution_count": 20
        }
      ]
    },
    {
      "cell_type": "markdown",
      "metadata": {
        "id": "MMLcvu7lLPok",
        "colab_type": "text"
      },
      "source": [
        "## Task 1.2 - Conduct an exploratory data analysis on those data & communicate useful insights. Ensure that you identify and treat all missing values and outliers in the dataset by replacing by the mean of the corresponding column."
      ]
    },
    {
      "cell_type": "markdown",
      "metadata": {
        "id": "Z-IpPcLLT2Zf",
        "colab_type": "text"
      },
      "source": [
        "### Conduct a Non-Graphical Univariate Analysis by computing position & dispersion parameters for each quantitative variables of each of the applications) and provide useful interpretation.\n"
      ]
    },
    {
      "cell_type": "markdown",
      "metadata": {
        "id": "LLGsaQ50UuiC",
        "colab_type": "text"
      },
      "source": [
        "Non-Graphical Univariate Analysis for the Session duration showing the: Minimum Value, Maximum Value, Mean, Mode, Median, Standard Deviation, Variance, Skewness, Kurtosis, Range and Quartile Range."
      ]
    },
    {
      "cell_type": "code",
      "metadata": {
        "id": "EP8Ted_nLPou",
        "colab_type": "code",
        "colab": {
          "base_uri": "https://localhost:8080/",
          "height": 440
        },
        "outputId": "cba672ae-d0f4-4539-bcf7-738a397740f4"
      },
      "source": [
        "print(\"Minimum\", df.groupby('MSISDN/Number')['Dur. (ms)'].sum().min())\n",
        "print(\"\")\n",
        "print(\"Maximum\", df.groupby('MSISDN/Number')['Dur. (ms)'].sum().max())\n",
        "print(\"\")\n",
        "print(\"Mean\", df.groupby('MSISDN/Number')['Dur. (ms)'].sum().mean())\n",
        "print(\"\")\n",
        "print(\"Mode\", df.groupby('MSISDN/Number')['Dur. (ms)'].sum().mode())\n",
        "print(\"\")\n",
        "print(\"Median\", df.groupby('MSISDN/Number')['Dur. (ms)'].sum().median())\n",
        "print(\"\")\n",
        "print(\"Standard Deviation\", df.groupby('MSISDN/Number')['Dur. (ms)'].sum().std())\n",
        "print(\"\")\n",
        "print(\"Variance\", df.groupby('MSISDN/Number')['Dur. (ms)'].sum().var())\n",
        "print(\"\")\n",
        "print(\"Skewness\", df.groupby('MSISDN/Number')['Dur. (ms)'].sum().skew())\n",
        "print(\"\")\n",
        "print(\"Kurtosis\", df.groupby('MSISDN/Number')['Dur. (ms)'].sum().kurtosis())\n",
        "print(\"\")\n",
        "print(\"Range\", (df.groupby('MSISDN/Number')['Dur. (ms)'].sum().max() - df.groupby('MSISDN/Number')['Dur. (ms)'].sum().min()))\n",
        "print(\"\")\n",
        "print(\"Quartile Range\\n\", df.groupby('MSISDN/Number')['Dur. (ms)'].sum().quantile([0.25, 0.50, 0.75], interpolation='nearest'))"
      ],
      "execution_count": null,
      "outputs": [
        {
          "output_type": "stream",
          "text": [
            "Minimum 7142.0\n",
            "\n",
            "Maximum 18553754.0\n",
            "\n",
            "Mean 146167.1563225275\n",
            "\n",
            "Mode 0    86399.0\n",
            "dtype: float64\n",
            "\n",
            "Median 102740.0\n",
            "\n",
            "Standard Deviation 186358.66967530473\n",
            "\n",
            "Variance 34729553763.149345\n",
            "\n",
            "Skewness 20.539550876917446\n",
            "\n",
            "Kurtosis 1237.8325752550745\n",
            "\n",
            "Range 18546612.0\n",
            "\n",
            "Quartile Range\n",
            " 0.25     71309.0\n",
            "0.50    102741.0\n",
            "0.75    172799.0\n",
            "Name: Dur. (ms), dtype: float64\n"
          ],
          "name": "stdout"
        }
      ]
    },
    {
      "cell_type": "markdown",
      "metadata": {
        "id": "IjO0YiPuLPoy",
        "colab_type": "text"
      },
      "source": [
        "Non-Graphical Univariate Analysis for  the total download (DL) and upload (UL) data showing the: Minimum Value, Maximum Value, Mean, Mode, Median, Standard Deviation, Variance, Skewness, Kurtosis, Range and Quartile Range."
      ]
    },
    {
      "cell_type": "code",
      "metadata": {
        "id": "DSrePVLlLPo0",
        "colab_type": "code",
        "colab": {
          "base_uri": "https://localhost:8080/",
          "height": 505
        },
        "outputId": "a2b5c8f6-cb3a-4dfb-cb2e-baec1461409a"
      },
      "source": [
        "print(\"Minimum\", df.groupby('MSISDN/Number')['TotalDLandUL'].sum().min())\n",
        "print(\"\")\n",
        "print(\"Maximum\", df.groupby('MSISDN/Number')['TotalDLandUL'].sum().max())\n",
        "print(\"\")\n",
        "print(\"Mean\", df.groupby('MSISDN/Number')['TotalDLandUL'].sum().mean())\n",
        "print(\"\")\n",
        "print(\"Mode\", df.groupby('MSISDN/Number')['TotalDLandUL'].sum().mode())\n",
        "print(\"\")\n",
        "print(\"Median\", df.groupby('MSISDN/Number')['TotalDLandUL'].sum().median())\n",
        "print(\"\")\n",
        "print(\"Standard Deviation\", df.groupby('MSISDN/Number')['TotalDLandUL'].sum().std())\n",
        "print(\"\")\n",
        "print(\"Variance\", df.groupby('MSISDN/Number')['TotalDLandUL'].sum().var())\n",
        "print(\"\")\n",
        "print(\"Skewness\", df.groupby('MSISDN/Number')['TotalDLandUL'].sum().skew())\n",
        "print(\"\")\n",
        "print(\"Kurtosis\", df.groupby('MSISDN/Number')['TotalDLandUL'].sum().kurtosis())\n",
        "print(\"\")\n",
        "print(\"Range\", (df.groupby('MSISDN/Number')['TotalDLandUL'].sum().max() - df.groupby('MSISDN/Number')['TotalDLandUL'].sum().min()))\n",
        "print(\"\")\n",
        "print(\"Quartile Range\\n\", df.groupby('MSISDN/Number')['TotalDLandUL'].sum().quantile([0.25, 0.50, 0.75], interpolation='nearest'))"
      ],
      "execution_count": null,
      "outputs": [
        {
          "output_type": "stream",
          "text": [
            "Minimum 33249009.0\n",
            "\n",
            "Maximum 8846226494.0\n",
            "\n",
            "Mean 690962103.3077506\n",
            "\n",
            "Mode 0    321294586.0\n",
            "1    375293583.0\n",
            "2    477037375.0\n",
            "3    637726002.0\n",
            "4    811996647.0\n",
            "dtype: float64\n",
            "\n",
            "Median 617923138.0\n",
            "\n",
            "Standard Deviation 491055891.07422215\n",
            "\n",
            "Variance 2.411358881586983e+17\n",
            "\n",
            "Skewness 2.2695746999307143\n",
            "\n",
            "Kurtosis 11.615909574361327\n",
            "\n",
            "Range 8812977485.0\n",
            "\n",
            "Quartile Range\n",
            " 0.25    358552970.0\n",
            "0.50    617923242.0\n",
            "0.75    857434938.0\n",
            "Name: TotalDLandUL, dtype: float64\n"
          ],
          "name": "stdout"
        }
      ]
    },
    {
      "cell_type": "markdown",
      "metadata": {
        "id": "hb7EZR2dLPo6",
        "colab_type": "text"
      },
      "source": [
        "Non-Graphical Univariate Analysis for  the total data volume (in Bytes) of Social Media showing the: Minimum Value, Maximum Value, Mean, Mode, Median, Standard Deviation, Variance, Skewness, Kurtosis, Range and Quartile Range."
      ]
    },
    {
      "cell_type": "code",
      "metadata": {
        "id": "plxjjRBDLPo7",
        "colab_type": "code",
        "colab": {
          "base_uri": "https://localhost:8080/",
          "height": 570
        },
        "outputId": "72bc99ff-8843-4d26-f19f-d6a2431851e0"
      },
      "source": [
        "print(\"Minimum\", df.groupby('MSISDN/Number')['TotalSocialMediaDataVolume'].sum().min())\n",
        "print(\"\")\n",
        "print(\"Maximum\", df.groupby('MSISDN/Number')['TotalSocialMediaDataVolume'].sum().max())\n",
        "print(\"\")\n",
        "print(\"Mean\", df.groupby('MSISDN/Number')['TotalSocialMediaDataVolume'].sum().mean())\n",
        "print(\"\")\n",
        "print(\"Mode\", df.groupby('MSISDN/Number')['TotalSocialMediaDataVolume'].sum().mode())\n",
        "print(\"\")\n",
        "print(\"Median\", df.groupby('MSISDN/Number')['TotalSocialMediaDataVolume'].sum().median())\n",
        "print(\"\")\n",
        "print(\"Standard Deviation\", df.groupby('MSISDN/Number')['TotalSocialMediaDataVolume'].sum().std())\n",
        "print(\"\")\n",
        "print(\"Variance\", df.groupby('MSISDN/Number')['TotalSocialMediaDataVolume'].sum().var())\n",
        "print(\"\")\n",
        "print(\"Skewness\", df.groupby('MSISDN/Number')['TotalSocialMediaDataVolume'].sum().skew())\n",
        "print(\"\")\n",
        "print(\"Kurtosis\", df.groupby('MSISDN/Number')['TotalSocialMediaDataVolume'].sum().kurtosis())\n",
        "print(\"\")\n",
        "print(\"Range\", (df.groupby('MSISDN/Number')['TotalSocialMediaDataVolume'].sum().max() - df.groupby('MSISDN/Number')['TotalSocialMediaDataVolume'].sum().min()))\n",
        "print(\"\")\n",
        "print(\"Quartile Range\\n\", df.groupby('MSISDN/Number')['TotalSocialMediaDataVolume'].sum().quantile([0.25, 0.50, 0.75], interpolation='nearest'))"
      ],
      "execution_count": null,
      "outputs": [
        {
          "output_type": "stream",
          "text": [
            "Minimum 1563.0\n",
            "\n",
            "Maximum 43374779.0\n",
            "\n",
            "Mean 2547966.816014075\n",
            "\n",
            "Mode 0    1231643.0\n",
            "1    1402627.0\n",
            "2    1423535.0\n",
            "3    2424396.0\n",
            "4    2453919.0\n",
            "5    2562133.0\n",
            "6    2907868.0\n",
            "7    3319170.0\n",
            "8    3618642.0\n",
            "dtype: float64\n",
            "\n",
            "Median 2303756.0\n",
            "\n",
            "Standard Deviation 1908038.0421556635\n",
            "\n",
            "Variance 3640609170313.2173\n",
            "\n",
            "Skewness 2.0904588413667082\n",
            "\n",
            "Kurtosis 11.519748473838053\n",
            "\n",
            "Range 43373216.0\n",
            "\n",
            "Quartile Range\n",
            " 0.25    1211309.0\n",
            "0.50    2303811.0\n",
            "0.75    3307504.0\n",
            "Name: TotalSocialMediaDataVolume, dtype: float64\n"
          ],
          "name": "stdout"
        }
      ]
    },
    {
      "cell_type": "markdown",
      "metadata": {
        "id": "yxzmjTikLPpD",
        "colab_type": "text"
      },
      "source": [
        "Non-Graphical Univariate Analysis for  the totaldata volume (in Bytes) of Google showing the: Minimum Value, Maximum Value, Mean, Mode, Median, Standard Deviation, Variance, Skewness, Kurtosis, Range and Quartile Range."
      ]
    },
    {
      "cell_type": "code",
      "metadata": {
        "id": "16ohbwW7LPpH",
        "colab_type": "code",
        "colab": {
          "base_uri": "https://localhost:8080/",
          "height": 602
        },
        "outputId": "66ca4891-aaa3-4c6a-a2dd-0553558112d7"
      },
      "source": [
        "print(\"Minimum\", df.groupby('MSISDN/Number')['TotalGoogleDataVolume'].sum().min())\n",
        "print(\"\")\n",
        "print(\"Maximum\", df.groupby('MSISDN/Number')['TotalGoogleDataVolume'].sum().max())\n",
        "print(\"\")\n",
        "print(\"Mean\", df.groupby('MSISDN/Number')['TotalGoogleDataVolume'].sum().mean())\n",
        "print(\"\")\n",
        "print(\"Mode\", df.groupby('MSISDN/Number')['TotalGoogleDataVolume'].sum().mode())\n",
        "print(\"\")\n",
        "print(\"Median\", df.groupby('MSISDN/Number')['TotalGoogleDataVolume'].sum().median())\n",
        "print(\"\")\n",
        "print(\"Standard Deviation\", df.groupby('MSISDN/Number')['TotalGoogleDataVolume'].sum().std())\n",
        "print(\"\")\n",
        "print(\"Variance\", df.groupby('MSISDN/Number')['TotalGoogleDataVolume'].sum().var())\n",
        "print(\"\")\n",
        "print(\"Skewness\", df.groupby('MSISDN/Number')['TotalGoogleDataVolume'].sum().skew())\n",
        "print(\"\")\n",
        "print(\"Kurtosis\", df.groupby('MSISDN/Number')['TotalGoogleDataVolume'].sum().kurtosis())\n",
        "print(\"\")\n",
        "print(\"Range\", (df.groupby('MSISDN/Number')['TotalGoogleDataVolume'].sum().max() - df.groupby('MSISDN/Number')['TotalGoogleDataVolume'].sum().min()))\n",
        "print(\"\")\n",
        "print(\"Quartile Range\\n\", df.groupby('MSISDN/Number')['TotalGoogleDataVolume'].sum().quantile([0.25, 0.50, 0.75], interpolation='nearest'))"
      ],
      "execution_count": null,
      "outputs": [
        {
          "output_type": "stream",
          "text": [
            "Minimum 40330.0\n",
            "\n",
            "Maximum 152191852.0\n",
            "\n",
            "Mean 10882434.418469716\n",
            "\n",
            "Mode 0        330562.0\n",
            "1       1050099.0\n",
            "2       1218260.0\n",
            "3       1810553.0\n",
            "4       2116621.0\n",
            "          ...    \n",
            "314    18494891.0\n",
            "315    20496267.0\n",
            "316    24063125.0\n",
            "317    24128053.0\n",
            "318    29030323.0\n",
            "Length: 319, dtype: float64\n",
            "\n",
            "Median 9586153.0\n",
            "\n",
            "Standard Deviation 7544861.436829419\n",
            "\n",
            "Variance 56924934100955.69\n",
            "\n",
            "Skewness 2.4012212064678575\n",
            "\n",
            "Kurtosis 12.622354344531711\n",
            "\n",
            "Range 152151522.0\n",
            "\n",
            "Quartile Range\n",
            " 0.25     5942683.0\n",
            "0.50     9586186.0\n",
            "0.75    13214668.0\n",
            "Name: TotalGoogleDataVolume, dtype: float64\n"
          ],
          "name": "stdout"
        }
      ]
    },
    {
      "cell_type": "markdown",
      "metadata": {
        "id": "Vdee2Id0LPpM",
        "colab_type": "text"
      },
      "source": [
        "Non-Graphical Univariate Analysis for  the total data volume (in Bytes) of Email showing the: Minimum Value, Maximum Value, Mean, Mode, Median, Standard Deviation, Variance, Skewness, Kurtosis, Range and Quartile Range."
      ]
    },
    {
      "cell_type": "code",
      "metadata": {
        "id": "s4ZptOF5LPpN",
        "colab_type": "code",
        "colab": {
          "base_uri": "https://localhost:8080/",
          "height": 553
        },
        "outputId": "2eab1d14-e3d2-43b3-b53c-22d8141b28ce"
      },
      "source": [
        "print(\"Minimum\", df.groupby('MSISDN/Number')['TotalEmailDataVolume'].sum().min())\n",
        "print(\"\")\n",
        "print(\"Maximum\", df.groupby('MSISDN/Number')['TotalEmailDataVolume'].sum().max())\n",
        "print(\"\")\n",
        "print(\"Mean\", df.groupby('MSISDN/Number')['TotalEmailDataVolume'].sum().mean())\n",
        "print(\"\")\n",
        "print(\"Mode\", df.groupby('MSISDN/Number')['TotalEmailDataVolume'].sum().mode())\n",
        "print(\"\")\n",
        "print(\"Median\", df.groupby('MSISDN/Number')['TotalEmailDataVolume'].sum().median())\n",
        "print(\"\")\n",
        "print(\"Standard Deviation\", df.groupby('MSISDN/Number')['TotalEmailDataVolume'].sum().std())\n",
        "print(\"\")\n",
        "print(\"Variance\", df.groupby('MSISDN/Number')['TotalEmailDataVolume'].sum().var())\n",
        "print(\"\")\n",
        "print(\"Skewness\", df.groupby('MSISDN/Number')['TotalEmailDataVolume'].sum().skew())\n",
        "print(\"\")\n",
        "print(\"Kurtosis\", df.groupby('MSISDN/Number')['TotalEmailDataVolume'].sum().kurtosis())\n",
        "print(\"\")\n",
        "print(\"Range\", (df.groupby('MSISDN/Number')['TotalEmailDataVolume'].sum().max() - df.groupby('MSISDN/Number')['TotalEmailDataVolume'].sum().min()))\n",
        "print(\"\")\n",
        "print(\"Quartile Range\\n\", df.groupby('MSISDN/Number')['TotalEmailDataVolume'].sum().quantile([0.25, 0.50, 0.75], interpolation='nearest'))"
      ],
      "execution_count": null,
      "outputs": [
        {
          "output_type": "stream",
          "text": [
            "Minimum 18176.0\n",
            "\n",
            "Maximum 42418782.0\n",
            "\n",
            "Mean 3148795.810838886\n",
            "\n",
            "Mode 0     648993.0\n",
            "1     836833.0\n",
            "2    1801836.0\n",
            "3    2204920.0\n",
            "4    2300925.0\n",
            "5    3332714.0\n",
            "6    3510377.0\n",
            "7    3559336.0\n",
            "dtype: float64\n",
            "\n",
            "Median 2799824.5\n",
            "\n",
            "Standard Deviation 2222400.099580454\n",
            "\n",
            "Variance 4939062202615.212\n",
            "\n",
            "Skewness 2.3745210362714477\n",
            "\n",
            "Kurtosis 12.599693462968796\n",
            "\n",
            "Range 42400606.0\n",
            "\n",
            "Quartile Range\n",
            " 0.25    1674484.0\n",
            "0.50    2799854.0\n",
            "0.75    3847195.0\n",
            "Name: TotalEmailDataVolume, dtype: float64\n"
          ],
          "name": "stdout"
        }
      ]
    },
    {
      "cell_type": "markdown",
      "metadata": {
        "id": "UypC3gIhLPpS",
        "colab_type": "text"
      },
      "source": [
        "Non-Graphical Univariate Analysis for  the total data volume (in Bytes) of Youtube showing the: Minimum Value, Maximum Value, Mean, Mode, Median, Standard Deviation, Variance, Skewness, Kurtosis, Range and Quartile Range."
      ]
    },
    {
      "cell_type": "code",
      "metadata": {
        "id": "JlFt7z2_LPpT",
        "colab_type": "code",
        "colab": {
          "base_uri": "https://localhost:8080/",
          "height": 440
        },
        "outputId": "183eb24a-a4ce-478a-83e8-c38935cd79e6"
      },
      "source": [
        "print(\"Minimum\", df.groupby('MSISDN/Number')['TotalYoutubeDataVolume'].sum().min())\n",
        "print(\"\")\n",
        "print(\"Maximum\", df.groupby('MSISDN/Number')['TotalYoutubeDataVolume'].sum().max())\n",
        "print(\"\")\n",
        "print(\"Mean\", df.groupby('MSISDN/Number')['TotalYoutubeDataVolume'].sum().mean())\n",
        "print(\"\")\n",
        "print(\"Mode\", df.groupby('MSISDN/Number')['TotalYoutubeDataVolume'].sum().mode())\n",
        "print(\"\")\n",
        "print(\"Median\", df.groupby('MSISDN/Number')['TotalYoutubeDataVolume'].sum().median())\n",
        "print(\"\")\n",
        "print(\"Standard Deviation\", df.groupby('MSISDN/Number')['TotalYoutubeDataVolume'].sum().std())\n",
        "print(\"\")\n",
        "print(\"Variance\", df.groupby('MSISDN/Number')['TotalYoutubeDataVolume'].sum().var())\n",
        "print(\"\")\n",
        "print(\"Skewness\", df.groupby('MSISDN/Number')['TotalYoutubeDataVolume'].sum().skew())\n",
        "print(\"\")\n",
        "print(\"Kurtosis\", df.groupby('MSISDN/Number')['TotalYoutubeDataVolume'].sum().kurtosis())\n",
        "print(\"\")\n",
        "print(\"Range\", (df.groupby('MSISDN/Number')['TotalYoutubeDataVolume'].sum().max() - df.groupby('MSISDN/Number')['TotalYoutubeDataVolume'].sum().min()))\n",
        "print(\"\")\n",
        "print(\"Quartile Range\\n\", df.groupby('MSISDN/Number')['TotalYoutubeDataVolume'].sum().quantile([0.25, 0.50, 0.75], interpolation='nearest'))"
      ],
      "execution_count": null,
      "outputs": [
        {
          "output_type": "stream",
          "text": [
            "Minimum 78903.0\n",
            "\n",
            "Maximum 452958769.0\n",
            "\n",
            "Mean 31558399.279095232\n",
            "\n",
            "Mode 0    34003356.0\n",
            "dtype: float64\n",
            "\n",
            "Median 26800376.0\n",
            "\n",
            "Standard Deviation 21294917.681802288\n",
            "\n",
            "Variance 453473519074735.75\n",
            "\n",
            "Skewness 2.539667384384391\n",
            "\n",
            "Kurtosis 13.96731245618334\n",
            "\n",
            "Range 452879866.0\n",
            "\n",
            "Quartile Range\n",
            " 0.25    18631449.0\n",
            "0.50    26800403.0\n",
            "0.75    37927872.0\n",
            "Name: TotalYoutubeDataVolume, dtype: float64\n"
          ],
          "name": "stdout"
        }
      ]
    },
    {
      "cell_type": "markdown",
      "metadata": {
        "id": "9DuegH_ALPpX",
        "colab_type": "text"
      },
      "source": [
        "Non-Graphical Univariate Analysis for  the total data volume (in Bytes) of Netflix showing the: Minimum Value, Maximum Value, Mean, Mode, Median, Standard Deviation, Variance, Skewness, Kurtosis, Range and Quartile Range."
      ]
    },
    {
      "cell_type": "code",
      "metadata": {
        "id": "vnbN5Z4sLPpY",
        "colab_type": "code",
        "colab": {
          "base_uri": "https://localhost:8080/",
          "height": 602
        },
        "outputId": "1353e270-ab4d-4abc-e909-f0e6244e284b"
      },
      "source": [
        "print(\"Minimum\", df.groupby('MSISDN/Number')['TotalNetflixDataVolume'].sum().min())\n",
        "print(\"\")\n",
        "print(\"Maximum\", df.groupby('MSISDN/Number')['TotalNetflixDataVolume'].sum().max())\n",
        "print(\"\")\n",
        "print(\"Mean\", df.groupby('MSISDN/Number')['TotalNetflixDataVolume'].sum().mean())\n",
        "print(\"\")\n",
        "print(\"Mode\", df.groupby('MSISDN/Number')['TotalNetflixDataVolume'].sum().mode())\n",
        "print(\"\")\n",
        "print(\"Median\", df.groupby('MSISDN/Number')['TotalNetflixDataVolume'].sum().median())\n",
        "print(\"\")\n",
        "print(\"Standard Deviation\", df.groupby('MSISDN/Number')['TotalNetflixDataVolume'].sum().std())\n",
        "print(\"\")\n",
        "print(\"Variance\", df.groupby('MSISDN/Number')['TotalNetflixDataVolume'].sum().var())\n",
        "print(\"\")\n",
        "print(\"Skewness\", df.groupby('MSISDN/Number')['TotalNetflixDataVolume'].sum().skew())\n",
        "print(\"\")\n",
        "print(\"Kurtosis\", df.groupby('MSISDN/Number')['TotalNetflixDataVolume'].sum().kurtosis())\n",
        "print(\"\")\n",
        "print(\"Range\", (df.groupby('MSISDN/Number')['TotalNetflixDataVolume'].sum().max() - df.groupby('MSISDN/Number')['TotalNetflixDataVolume'].sum().min()))\n",
        "print(\"\")\n",
        "print(\"Quartile Range\\n\", df.groupby('MSISDN/Number')['TotalNetflixDataVolume'].sum().quantile([0.25, 0.50, 0.75], interpolation='nearest'))"
      ],
      "execution_count": null,
      "outputs": [
        {
          "output_type": "stream",
          "text": [
            "Minimum 184569.0\n",
            "\n",
            "Maximum 399519079.0\n",
            "\n",
            "Mean 31538332.309257317\n",
            "\n",
            "Mode 0       3192097.0\n",
            "1       3276471.0\n",
            "2       3592917.0\n",
            "3       8093178.0\n",
            "4       8355475.0\n",
            "          ...    \n",
            "119    47985355.0\n",
            "120    50433433.0\n",
            "121    52021303.0\n",
            "122    61400596.0\n",
            "123    64969935.0\n",
            "Length: 124, dtype: float64\n",
            "\n",
            "Median 26718889.5\n",
            "\n",
            "Standard Deviation 21289556.969838105\n",
            "\n",
            "Variance 453245235971982.25\n",
            "\n",
            "Skewness 2.47857080824592\n",
            "\n",
            "Kurtosis 12.692311746695008\n",
            "\n",
            "Range 399334510.0\n",
            "\n",
            "Quartile Range\n",
            " 0.25    18556067.0\n",
            "0.50    26719548.0\n",
            "0.75    37976871.0\n",
            "Name: TotalNetflixDataVolume, dtype: float64\n"
          ],
          "name": "stdout"
        }
      ]
    },
    {
      "cell_type": "markdown",
      "metadata": {
        "id": "rAKxoR6bLPpl",
        "colab_type": "text"
      },
      "source": [
        "Non-Graphical Univariate Analysis for  the total data volume (in Bytes) of Gaming showing the: Minimum Value, Maximum Value, Mean, Mode, Median, Standard Deviation, Variance, Skewness, Kurtosis, Range and Quartile Range."
      ]
    },
    {
      "cell_type": "code",
      "metadata": {
        "id": "8knXYXCZLPpm",
        "colab_type": "code",
        "colab": {
          "base_uri": "https://localhost:8080/",
          "height": 488
        },
        "outputId": "80178ce2-4052-443b-cca2-1497cf9342d4"
      },
      "source": [
        "print(\"Minimum\", df.groupby('MSISDN/Number')['TotalGamingDataVolume'].sum().min())\n",
        "print(\"\")\n",
        "print(\"Maximum\", df.groupby('MSISDN/Number')['TotalGamingDataVolume'].sum().max())\n",
        "print(\"\")\n",
        "print(\"Mean\", df.groupby('MSISDN/Number')['TotalGamingDataVolume'].sum().mean())\n",
        "print(\"\")\n",
        "print(\"Mode\", df.groupby('MSISDN/Number')['TotalGamingDataVolume'].sum().mode())\n",
        "print(\"\")\n",
        "print(\"Median\", df.groupby('MSISDN/Number')['TotalGamingDataVolume'].sum().median())\n",
        "print(\"\")\n",
        "print(\"Standard Deviation\", df.groupby('MSISDN/Number')['TotalGamingDataVolume'].sum().std())\n",
        "print(\"\")\n",
        "print(\"Variance\", df.groupby('MSISDN/Number')['TotalGamingDataVolume'].sum().var())\n",
        "print(\"\")\n",
        "print(\"Skewness\", df.groupby('MSISDN/Number')['TotalGamingDataVolume'].sum().skew())\n",
        "print(\"\")\n",
        "print(\"Kurtosis\", df.groupby('MSISDN/Number')['TotalGamingDataVolume'].sum().kurtosis())\n",
        "print(\"\")\n",
        "print(\"Range\", (df.groupby('MSISDN/Number')['TotalGamingDataVolume'].sum().max() - df.groupby('MSISDN/Number')['TotalGamingDataVolume'].sum().min()))\n",
        "print(\"\")\n",
        "print(\"Quartile Range\\n\", df.groupby('MSISDN/Number')['TotalGamingDataVolume'].sum().quantile([0.25, 0.50, 0.75], interpolation='nearest'))"
      ],
      "execution_count": null,
      "outputs": [
        {
          "output_type": "stream",
          "text": [
            "Minimum 306358.0\n",
            "\n",
            "Maximum 7749432234.0\n",
            "\n",
            "Mean 599769010.7173393\n",
            "\n",
            "Mode 0    268338338.0\n",
            "1    339013838.0\n",
            "2    515040171.0\n",
            "3    789563635.0\n",
            "dtype: float64\n",
            "\n",
            "Median 542349206.5\n",
            "\n",
            "Standard Deviation 449150462.4004246\n",
            "\n",
            "Variance 2.0173613787451523e+17\n",
            "\n",
            "Skewness 2.0681880884156922\n",
            "\n",
            "Kurtosis 10.068305295508717\n",
            "\n",
            "Range 7749125876.0\n",
            "\n",
            "Quartile Range\n",
            " 0.25    288066639.0\n",
            "0.50    542350112.0\n",
            "0.75    777301670.0\n",
            "Name: TotalGamingDataVolume, dtype: float64\n"
          ],
          "name": "stdout"
        }
      ]
    },
    {
      "cell_type": "markdown",
      "metadata": {
        "id": "RY5LlpSJlAUC",
        "colab_type": "text"
      },
      "source": [
        "Non-Graphical Univariate Analysis for  the total data volume (in Bytes) of Others showing the: Minimum Value, Maximum Value, Mean, Mode, Median, Standard Deviation, Variance, Skewness, Kurtosis, Range and Quartile Range."
      ]
    },
    {
      "cell_type": "code",
      "metadata": {
        "id": "Kjjfa5kPkq5H",
        "colab_type": "code",
        "colab": {
          "base_uri": "https://localhost:8080/",
          "height": 521
        },
        "outputId": "ecc80a1f-985b-4d59-ccd8-ccc52d1cd787"
      },
      "source": [
        "print(\"Minimum\", df.groupby('MSISDN/Number')['TotalOtherDataVolume'].sum().min())\n",
        "print(\"\")\n",
        "print(\"Maximum\", df.groupby('MSISDN/Number')['TotalOtherDataVolume'].sum().max())\n",
        "print(\"\")\n",
        "print(\"Mean\", df.groupby('MSISDN/Number')['TotalOtherDataVolume'].sum().mean())\n",
        "print(\"\")\n",
        "print(\"Mode\\n\", df.groupby('MSISDN/Number')['TotalOtherDataVolume'].sum().mode())\n",
        "print(\"\")\n",
        "print(\"Median\", df.groupby('MSISDN/Number')['TotalOtherDataVolume'].sum().median())\n",
        "print(\"\")\n",
        "print(\"Standard Deviation\", df.groupby('MSISDN/Number')['TotalOtherDataVolume'].sum().std())\n",
        "print(\"\")\n",
        "print(\"Variance\", df.groupby('MSISDN/Number')['TotalOtherDataVolume'].sum().div(1000000).var())\n",
        "print(\"\")\n",
        "print(\"Skewness\", df.groupby('MSISDN/Number')['TotalOtherDataVolume'].sum().skew())\n",
        "print(\"\")\n",
        "print(\"Kurtosis\", df.groupby('MSISDN/Number')['TotalOtherDataVolume'].sum().kurtosis())\n",
        "print(\"\")\n",
        "print(\"Range\", (df.groupby('MSISDN/Number')['TotalOtherDataVolume'].sum().max() - df.groupby('MSISDN/Number')['TotalOtherDataVolume'].sum().min()))\n",
        "print(\"\")\n",
        "print(\"Quartile Range\\n\", df.groupby('MSISDN/Number')['TotalOtherDataVolume'].sum().quantile([0.25, 0.50, 0.75], interpolation='nearest'))"
      ],
      "execution_count": null,
      "outputs": [
        {
          "output_type": "stream",
          "text": [
            "Minimum 149045.0\n",
            "\n",
            "Maximum 8167877776.0\n",
            "\n",
            "Mean 598508764.2792356\n",
            "\n",
            "Mode\n",
            " 0    162783729.0\n",
            "1    269036790.0\n",
            "2    322296644.0\n",
            "3    586399206.0\n",
            "4    833721372.0\n",
            "dtype: float64\n",
            "\n",
            "Median 539832343.0\n",
            "\n",
            "Standard Deviation 448922110.04362017\n",
            "\n",
            "Variance 201531.06088601827\n",
            "\n",
            "Skewness 2.0072673233215697\n",
            "\n",
            "Kurtosis 9.01710828077709\n",
            "\n",
            "Range 8167728731.0\n",
            "\n",
            "Quartile Range\n",
            " 0.25    285564882.0\n",
            "0.50    539840096.0\n",
            "0.75    775390399.0\n",
            "Name: TotalOtherDataVolume, dtype: float64\n"
          ],
          "name": "stdout"
        }
      ]
    },
    {
      "cell_type": "markdown",
      "metadata": {
        "id": "CsKEdjMddmW_",
        "colab_type": "text"
      },
      "source": [
        "#### Creating a Dataframe to store all my Non-Graphical Univariate Analysis I got from the above calculation by computing position & dispersion parameters for each quantitative variable"
      ]
    },
    {
      "cell_type": "code",
      "metadata": {
        "id": "2qFdHh_fn-g0",
        "colab_type": "code",
        "colab": {
          "base_uri": "https://localhost:8080/",
          "height": 371
        },
        "outputId": "bb751473-9042-4287-cc3e-5bdbf3ed3238"
      },
      "source": [
        "import pandas as pd\n",
        "\n",
        "data = {\n",
        "        'Application': ['Session duration','Total download (DL) and upload (UL) data','Social Media', 'Google', 'Email', 'Youtube', 'Netflix', 'Gaming', 'Others'],\n",
        "        'Minimum Value': [7142.0,33249009.0,1563.0,40330.0,18176.0,78903.0,184569.0, 306358.0, 149045.0],\n",
        "        'Maximum Value': [18553754.0,8846226494.0,43374779.0,152191852.0,42418782.0,452958769.0,399519079.0, 7749432234.0, 8167877776.0],\n",
        "        'Mean': [146167.1563225275,690962103.3077506,2547966.816014075,10882434.418469716,3148795.810838886,31558399.279095232,31538332.309257317,599769010.7173393, 598508764.2792356],\n",
        "        'Mode': [86399.0,[321294586.0,375293583.0,477037375.0,637726002.0],[1231643.0,1402627.0,1423535.0,2424396.0],[330562.0,1050099.0,1218260.0,1810553.0],[648993.0,836833.0,1801836.0,2204920.0],34003356.0,[3192097.0,3276471.0,3592917.0,8093178.0],[268338338.0, 339013838.0,515040171.0,789563635.0],[162783729.0,269036790.0,322296644.0,586399206.0,833721372.0]],\n",
        "        'Median': [102740.0,617923138.0,2303756.0,9586153.0,2799824.5,26800376.0,26718889.5,542349206.5,539832343.0],\n",
        "        'Standard Deviation': [186358.66967530473,491055891.07422215,1908038.0421556635,7544861.436829419,2222400.099580454,21294917.681802288,21289556.969838105,449150462.4004246,448922110.04362017],\n",
        "        'Variance': [34729553763.149345,2.411358881586983e+17,3640609170313.2173,56924934100955.69,4939062202615.212,453473519074735.75,453245235971982.25,2.0173613787451523e+17,201531.06088601827],\n",
        "        'Skewness': [20.539550876917446,2.2695746999307143,2.0904588413667082,2.4012212064678575,2.3745210362714477,2.539667384384391,2.47857080824592,2.0681880884156922,2.0072673233215697],\n",
        "        'Kurtosis': [1237.8325752550745,11.615909574361327,11.519748473838053,12.622354344531711,12.599693462968796,13.96731245618334,12.692311746695008,10.068305295508717,9.01710828077709],\n",
        "        'Range': [18546612.0,8812977485.0,43373216.0,152151522.0,42400606.0,452879866.0,399334510.0,7749125876.0,8167728731.0],\n",
        "        '1st Quartile': [71309.0,358552970.0,1211309.0,5942683.0,1674484.0,18631449.0,18556067.0,288066639.0,285564882.0],\n",
        "        '2nd Quartile': [102741.0,617923242.0,2303811.0,9586186.0,2799854.0,26800403.0,26719548.0,542350112.0,539840096.0],\n",
        "        '3rd Quartile': [172799.0,857434938.0,3307504.0,13214668.0,3847195.0,37927872.0,37976871.0,777301670.0,775390399.0]\n",
        "        }\n",
        "\n",
        "df_new = pd.DataFrame (data, columns = ['Application', 'Minimum Value', 'Maximum Value', 'Mean', 'Mode', 'Median', 'Standard Deviation', 'Variance', 'Skewness', 'Kurtosis', 'Range', '1st Quartile', '2nd Quartile', '3rd Quartile'])\n",
        "df_new"
      ],
      "execution_count": null,
      "outputs": [
        {
          "output_type": "execute_result",
          "data": {
            "text/html": [
              "<div>\n",
              "<style scoped>\n",
              "    .dataframe tbody tr th:only-of-type {\n",
              "        vertical-align: middle;\n",
              "    }\n",
              "\n",
              "    .dataframe tbody tr th {\n",
              "        vertical-align: top;\n",
              "    }\n",
              "\n",
              "    .dataframe thead th {\n",
              "        text-align: right;\n",
              "    }\n",
              "</style>\n",
              "<table border=\"1\" class=\"dataframe\">\n",
              "  <thead>\n",
              "    <tr style=\"text-align: right;\">\n",
              "      <th></th>\n",
              "      <th>Application</th>\n",
              "      <th>Minimum Value</th>\n",
              "      <th>Maximum Value</th>\n",
              "      <th>Mean</th>\n",
              "      <th>Mode</th>\n",
              "      <th>Median</th>\n",
              "      <th>Standard Deviation</th>\n",
              "      <th>Variance</th>\n",
              "      <th>Skewness</th>\n",
              "      <th>Kurtosis</th>\n",
              "      <th>Range</th>\n",
              "      <th>1st Quartile</th>\n",
              "      <th>2nd Quartile</th>\n",
              "      <th>3rd Quartile</th>\n",
              "    </tr>\n",
              "  </thead>\n",
              "  <tbody>\n",
              "    <tr>\n",
              "      <th>0</th>\n",
              "      <td>Session duration</td>\n",
              "      <td>7142.0</td>\n",
              "      <td>1.855375e+07</td>\n",
              "      <td>1.461672e+05</td>\n",
              "      <td>86399</td>\n",
              "      <td>102740.0</td>\n",
              "      <td>1.863587e+05</td>\n",
              "      <td>3.472955e+10</td>\n",
              "      <td>20.539551</td>\n",
              "      <td>1237.832575</td>\n",
              "      <td>1.854661e+07</td>\n",
              "      <td>71309.0</td>\n",
              "      <td>102741.0</td>\n",
              "      <td>172799.0</td>\n",
              "    </tr>\n",
              "    <tr>\n",
              "      <th>1</th>\n",
              "      <td>Total download (DL) and upload (UL) data</td>\n",
              "      <td>33249009.0</td>\n",
              "      <td>8.846226e+09</td>\n",
              "      <td>6.909621e+08</td>\n",
              "      <td>[321294586.0, 375293583.0, 477037375.0, 637726...</td>\n",
              "      <td>617923138.0</td>\n",
              "      <td>4.910559e+08</td>\n",
              "      <td>2.411359e+17</td>\n",
              "      <td>2.269575</td>\n",
              "      <td>11.615910</td>\n",
              "      <td>8.812977e+09</td>\n",
              "      <td>358552970.0</td>\n",
              "      <td>617923242.0</td>\n",
              "      <td>857434938.0</td>\n",
              "    </tr>\n",
              "    <tr>\n",
              "      <th>2</th>\n",
              "      <td>Social Media</td>\n",
              "      <td>1563.0</td>\n",
              "      <td>4.337478e+07</td>\n",
              "      <td>2.547967e+06</td>\n",
              "      <td>[1231643.0, 1402627.0, 1423535.0, 2424396.0]</td>\n",
              "      <td>2303756.0</td>\n",
              "      <td>1.908038e+06</td>\n",
              "      <td>3.640609e+12</td>\n",
              "      <td>2.090459</td>\n",
              "      <td>11.519748</td>\n",
              "      <td>4.337322e+07</td>\n",
              "      <td>1211309.0</td>\n",
              "      <td>2303811.0</td>\n",
              "      <td>3307504.0</td>\n",
              "    </tr>\n",
              "    <tr>\n",
              "      <th>3</th>\n",
              "      <td>Google</td>\n",
              "      <td>40330.0</td>\n",
              "      <td>1.521919e+08</td>\n",
              "      <td>1.088243e+07</td>\n",
              "      <td>[330562.0, 1050099.0, 1218260.0, 1810553.0]</td>\n",
              "      <td>9586153.0</td>\n",
              "      <td>7.544861e+06</td>\n",
              "      <td>5.692493e+13</td>\n",
              "      <td>2.401221</td>\n",
              "      <td>12.622354</td>\n",
              "      <td>1.521515e+08</td>\n",
              "      <td>5942683.0</td>\n",
              "      <td>9586186.0</td>\n",
              "      <td>13214668.0</td>\n",
              "    </tr>\n",
              "    <tr>\n",
              "      <th>4</th>\n",
              "      <td>Email</td>\n",
              "      <td>18176.0</td>\n",
              "      <td>4.241878e+07</td>\n",
              "      <td>3.148796e+06</td>\n",
              "      <td>[648993.0, 836833.0, 1801836.0, 2204920.0]</td>\n",
              "      <td>2799824.5</td>\n",
              "      <td>2.222400e+06</td>\n",
              "      <td>4.939062e+12</td>\n",
              "      <td>2.374521</td>\n",
              "      <td>12.599693</td>\n",
              "      <td>4.240061e+07</td>\n",
              "      <td>1674484.0</td>\n",
              "      <td>2799854.0</td>\n",
              "      <td>3847195.0</td>\n",
              "    </tr>\n",
              "    <tr>\n",
              "      <th>5</th>\n",
              "      <td>Youtube</td>\n",
              "      <td>78903.0</td>\n",
              "      <td>4.529588e+08</td>\n",
              "      <td>3.155840e+07</td>\n",
              "      <td>3.40034e+07</td>\n",
              "      <td>26800376.0</td>\n",
              "      <td>2.129492e+07</td>\n",
              "      <td>4.534735e+14</td>\n",
              "      <td>2.539667</td>\n",
              "      <td>13.967312</td>\n",
              "      <td>4.528799e+08</td>\n",
              "      <td>18631449.0</td>\n",
              "      <td>26800403.0</td>\n",
              "      <td>37927872.0</td>\n",
              "    </tr>\n",
              "    <tr>\n",
              "      <th>6</th>\n",
              "      <td>Netflix</td>\n",
              "      <td>184569.0</td>\n",
              "      <td>3.995191e+08</td>\n",
              "      <td>3.153833e+07</td>\n",
              "      <td>[3192097.0, 3276471.0, 3592917.0, 8093178.0]</td>\n",
              "      <td>26718889.5</td>\n",
              "      <td>2.128956e+07</td>\n",
              "      <td>4.532452e+14</td>\n",
              "      <td>2.478571</td>\n",
              "      <td>12.692312</td>\n",
              "      <td>3.993345e+08</td>\n",
              "      <td>18556067.0</td>\n",
              "      <td>26719548.0</td>\n",
              "      <td>37976871.0</td>\n",
              "    </tr>\n",
              "    <tr>\n",
              "      <th>7</th>\n",
              "      <td>Gaming</td>\n",
              "      <td>306358.0</td>\n",
              "      <td>7.749432e+09</td>\n",
              "      <td>5.997690e+08</td>\n",
              "      <td>[268338338.0, 339013838.0, 515040171.0, 789563...</td>\n",
              "      <td>542349206.5</td>\n",
              "      <td>4.491505e+08</td>\n",
              "      <td>2.017361e+17</td>\n",
              "      <td>2.068188</td>\n",
              "      <td>10.068305</td>\n",
              "      <td>7.749126e+09</td>\n",
              "      <td>288066639.0</td>\n",
              "      <td>542350112.0</td>\n",
              "      <td>777301670.0</td>\n",
              "    </tr>\n",
              "    <tr>\n",
              "      <th>8</th>\n",
              "      <td>Others</td>\n",
              "      <td>149045.0</td>\n",
              "      <td>8.167878e+09</td>\n",
              "      <td>5.985088e+08</td>\n",
              "      <td>[162783729.0, 269036790.0, 322296644.0, 586399...</td>\n",
              "      <td>539832343.0</td>\n",
              "      <td>4.489221e+08</td>\n",
              "      <td>2.015311e+05</td>\n",
              "      <td>2.007267</td>\n",
              "      <td>9.017108</td>\n",
              "      <td>8.167729e+09</td>\n",
              "      <td>285564882.0</td>\n",
              "      <td>539840096.0</td>\n",
              "      <td>775390399.0</td>\n",
              "    </tr>\n",
              "  </tbody>\n",
              "</table>\n",
              "</div>"
            ],
            "text/plain": [
              "                                Application  ...  3rd Quartile\n",
              "0                          Session duration  ...      172799.0\n",
              "1  Total download (DL) and upload (UL) data  ...   857434938.0\n",
              "2                              Social Media  ...     3307504.0\n",
              "3                                    Google  ...    13214668.0\n",
              "4                                     Email  ...     3847195.0\n",
              "5                                   Youtube  ...    37927872.0\n",
              "6                                   Netflix  ...    37976871.0\n",
              "7                                    Gaming  ...   777301670.0\n",
              "8                                    Others  ...   775390399.0\n",
              "\n",
              "[9 rows x 14 columns]"
            ]
          },
          "metadata": {
            "tags": []
          },
          "execution_count": 2
        }
      ]
    },
    {
      "cell_type": "markdown",
      "metadata": {
        "id": "jbOzDWm7YwDx",
        "colab_type": "text"
      },
      "source": [
        "####Convert from Bytes to MegatBytes for easy interpretation, we divide each column by 1000"
      ]
    },
    {
      "cell_type": "markdown",
      "metadata": {
        "id": "DtNglkVkLPpq",
        "colab_type": "text"
      },
      "source": [
        "### Univariate Plot for the Minimum Value, Maximum Value, Mean, Mode, Median, Standard Deviation, Variance, Skewness, Kurtosis, Range and Quartile Range for the Session Duration using a Bar Plot¶"
      ]
    },
    {
      "cell_type": "code",
      "metadata": {
        "id": "2oHyxQbdokGI",
        "colab_type": "code",
        "colab": {
          "base_uri": "https://localhost:8080/",
          "height": 420
        },
        "outputId": "f77503e8-538f-40d4-9328-36c0f34b146c"
      },
      "source": [
        "ses_freq = df.groupby(['MSISDN/Number'], sort=False)['Dur. (ms)'].agg(['sum'])\n",
        "ses_freq.columns = [\"Num of users\"]\n",
        "ses_freq"
      ],
      "execution_count": null,
      "outputs": [
        {
          "output_type": "execute_result",
          "data": {
            "text/html": [
              "<div>\n",
              "<style scoped>\n",
              "    .dataframe tbody tr th:only-of-type {\n",
              "        vertical-align: middle;\n",
              "    }\n",
              "\n",
              "    .dataframe tbody tr th {\n",
              "        vertical-align: top;\n",
              "    }\n",
              "\n",
              "    .dataframe thead th {\n",
              "        text-align: right;\n",
              "    }\n",
              "</style>\n",
              "<table border=\"1\" class=\"dataframe\">\n",
              "  <thead>\n",
              "    <tr style=\"text-align: right;\">\n",
              "      <th></th>\n",
              "      <th>Num of users</th>\n",
              "    </tr>\n",
              "    <tr>\n",
              "      <th>MSISDN/Number</th>\n",
              "      <th></th>\n",
              "    </tr>\n",
              "  </thead>\n",
              "  <tbody>\n",
              "    <tr>\n",
              "      <th>3.366496e+10</th>\n",
              "      <td>2083209.0</td>\n",
              "    </tr>\n",
              "    <tr>\n",
              "      <th>3.368185e+10</th>\n",
              "      <td>1698167.0</td>\n",
              "    </tr>\n",
              "    <tr>\n",
              "      <th>3.376063e+10</th>\n",
              "      <td>1361762.0</td>\n",
              "    </tr>\n",
              "    <tr>\n",
              "      <th>3.375034e+10</th>\n",
              "      <td>1321509.0</td>\n",
              "    </tr>\n",
              "    <tr>\n",
              "      <th>3.369980e+10</th>\n",
              "      <td>1089009.0</td>\n",
              "    </tr>\n",
              "    <tr>\n",
              "      <th>...</th>\n",
              "      <td>...</td>\n",
              "    </tr>\n",
              "    <tr>\n",
              "      <th>3.364566e+10</th>\n",
              "      <td>113545.0</td>\n",
              "    </tr>\n",
              "    <tr>\n",
              "      <th>3.366865e+10</th>\n",
              "      <td>59587.0</td>\n",
              "    </tr>\n",
              "    <tr>\n",
              "      <th>3.365069e+10</th>\n",
              "      <td>81230.0</td>\n",
              "    </tr>\n",
              "    <tr>\n",
              "      <th>3.362189e+10</th>\n",
              "      <td>98249.0</td>\n",
              "    </tr>\n",
              "    <tr>\n",
              "      <th>3.361962e+10</th>\n",
              "      <td>97910.0</td>\n",
              "    </tr>\n",
              "  </tbody>\n",
              "</table>\n",
              "<p>106857 rows × 1 columns</p>\n",
              "</div>"
            ],
            "text/plain": [
              "               Num of users\n",
              "MSISDN/Number              \n",
              "3.366496e+10      2083209.0\n",
              "3.368185e+10      1698167.0\n",
              "3.376063e+10      1361762.0\n",
              "3.375034e+10      1321509.0\n",
              "3.369980e+10      1089009.0\n",
              "...                     ...\n",
              "3.364566e+10       113545.0\n",
              "3.366865e+10        59587.0\n",
              "3.365069e+10        81230.0\n",
              "3.362189e+10        98249.0\n",
              "3.361962e+10        97910.0\n",
              "\n",
              "[106857 rows x 1 columns]"
            ]
          },
          "metadata": {
            "tags": []
          },
          "execution_count": 73
        }
      ]
    },
    {
      "cell_type": "code",
      "metadata": {
        "id": "3mj223-VokAU",
        "colab_type": "code",
        "colab": {
          "base_uri": "https://localhost:8080/",
          "height": 158
        },
        "outputId": "cb577a92-4914-4cf7-c03b-1f69a4f8b29c"
      },
      "source": [
        "session_duration.hist(column='Session_duration')"
      ],
      "execution_count": null,
      "outputs": [
        {
          "output_type": "error",
          "ename": "NameError",
          "evalue": "ignored",
          "traceback": [
            "\u001b[0;31m---------------------------------------------------------------------------\u001b[0m",
            "\u001b[0;31mNameError\u001b[0m                                 Traceback (most recent call last)",
            "\u001b[0;32m<ipython-input-3-d6d68bca1120>\u001b[0m in \u001b[0;36m<module>\u001b[0;34m()\u001b[0m\n\u001b[0;32m----> 1\u001b[0;31m \u001b[0msession_duration\u001b[0m\u001b[0;34m.\u001b[0m\u001b[0mhist\u001b[0m\u001b[0;34m(\u001b[0m\u001b[0mcolumn\u001b[0m\u001b[0;34m=\u001b[0m\u001b[0;34m'Session_duration'\u001b[0m\u001b[0;34m)\u001b[0m\u001b[0;34m\u001b[0m\u001b[0;34m\u001b[0m\u001b[0m\n\u001b[0m",
            "\u001b[0;31mNameError\u001b[0m: name 'session_duration' is not defined"
          ]
        }
      ]
    },
    {
      "cell_type": "markdown",
      "metadata": {
        "id": "2icfcs3SLPp5",
        "colab_type": "text"
      },
      "source": [
        "### Univariate Plot for the Minimum value, the Maximum value, the Average, the 1st, 2nd & 3rd Quartile for the average of the total download (DL) and upload (UL) data"
      ]
    },
    {
      "cell_type": "code",
      "metadata": {
        "id": "dY4qg3V8LPp6",
        "colab_type": "code",
        "colab": {
          "base_uri": "https://localhost:8080/",
          "height": 326
        },
        "outputId": "1fa37dd3-75ee-4439-93cc-4e0d02e7f082"
      },
      "source": [
        "df.hist(column='TotalDLandUL')"
      ],
      "execution_count": null,
      "outputs": [
        {
          "output_type": "execute_result",
          "data": {
            "text/plain": [
              "array([[<matplotlib.axes._subplots.AxesSubplot object at 0x7f2a5a701240>]],\n",
              "      dtype=object)"
            ]
          },
          "metadata": {
            "tags": []
          },
          "execution_count": 18
        },
        {
          "output_type": "display_data",
          "data": {
            "image/png": "[encoded data removed]",
            "text/plain": [
              "<Figure size 432x288 with 1 Axes>"
            ]
          },
          "metadata": {
            "tags": [],
            "needs_background": "light"
          }
        }
      ]
    },
    {
      "cell_type": "markdown",
      "metadata": {
        "id": "E_NtsG0YLPqC",
        "colab_type": "text"
      },
      "source": [
        "### Univariate Plot for the Minimum value, the Maximum value, the Average, the 1st, 2nd & 3rd Quartile for the total data volume (in Bytes) of Social Media"
      ]
    },
    {
      "cell_type": "code",
      "metadata": {
        "id": "cJNqGkjXLPqF",
        "colab_type": "code",
        "colab": {
          "base_uri": "https://localhost:8080/",
          "height": 326
        },
        "outputId": "701fad31-90e8-4433-ff93-7f0b81ee5107"
      },
      "source": [
        "df.hist(column='TotalSocialMediaDataVolume')"
      ],
      "execution_count": null,
      "outputs": [
        {
          "output_type": "execute_result",
          "data": {
            "text/plain": [
              "array([[<matplotlib.axes._subplots.AxesSubplot object at 0x7f2a58552f98>]],\n",
              "      dtype=object)"
            ]
          },
          "metadata": {
            "tags": []
          },
          "execution_count": 21
        },
        {
          "output_type": "display_data",
          "data": {
            "image/png": "[encoded data removed]",
            "text/plain": [
              "<Figure size 432x288 with 1 Axes>"
            ]
          },
          "metadata": {
            "tags": [],
            "needs_background": "light"
          }
        }
      ]
    },
    {
      "cell_type": "markdown",
      "metadata": {
        "id": "TX-PIlemLPqT",
        "colab_type": "text"
      },
      "source": [
        "### Univariate Plot for the Minimum value, the Maximum value, the Average, the 1st, 2nd & 3rd Quartile for the total data volume (in Bytes) of Google"
      ]
    },
    {
      "cell_type": "code",
      "metadata": {
        "id": "PWck4yCDLPqb",
        "colab_type": "code",
        "colab": {
          "base_uri": "https://localhost:8080/",
          "height": 326
        },
        "outputId": "0f0ecf34-39a7-4cb9-a2e0-4c46d29f2322"
      },
      "source": [
        "df.hist(column='TotalGoogleDataVolume')"
      ],
      "execution_count": null,
      "outputs": [
        {
          "output_type": "execute_result",
          "data": {
            "text/plain": [
              "array([[<matplotlib.axes._subplots.AxesSubplot object at 0x7f2a58398dd8>]],\n",
              "      dtype=object)"
            ]
          },
          "metadata": {
            "tags": []
          },
          "execution_count": 22
        },
        {
          "output_type": "display_data",
          "data": {
            "image/png": "[encoded data removed]",
            "text/plain": [
              "<Figure size 432x288 with 1 Axes>"
            ]
          },
          "metadata": {
            "tags": [],
            "needs_background": "light"
          }
        }
      ]
    },
    {
      "cell_type": "markdown",
      "metadata": {
        "id": "-7XkvjGkLPqk",
        "colab_type": "text"
      },
      "source": [
        "### Univariate Plot for the Minimum value, the Maximum value, the Average, the 1st, 2nd & 3rd Quartile for the total data volume (in Bytes) of Email"
      ]
    },
    {
      "cell_type": "code",
      "metadata": {
        "id": "MKM5qo9GLPqv",
        "colab_type": "code",
        "colab": {
          "base_uri": "https://localhost:8080/",
          "height": 326
        },
        "outputId": "641a093c-b00a-4ff3-e345-abf89cfc5698"
      },
      "source": [
        "df.hist(column='TotalEmailDataVolume')"
      ],
      "execution_count": null,
      "outputs": [
        {
          "output_type": "execute_result",
          "data": {
            "text/plain": [
              "array([[<matplotlib.axes._subplots.AxesSubplot object at 0x7f2a589244a8>]],\n",
              "      dtype=object)"
            ]
          },
          "metadata": {
            "tags": []
          },
          "execution_count": 23
        },
        {
          "output_type": "display_data",
          "data": {
            "image/png": "[encoded data removed]",
            "text/plain": [
              "<Figure size 432x288 with 1 Axes>"
            ]
          },
          "metadata": {
            "tags": [],
            "needs_background": "light"
          }
        }
      ]
    },
    {
      "cell_type": "markdown",
      "metadata": {
        "id": "ZFbRh0i4LPq_",
        "colab_type": "text"
      },
      "source": [
        "### Univariate Plot for the Minimum value, the Maximum value, the Average, the 1st, 2nd & 3rd Quartile for the total data volume (in Bytes) of Youtube"
      ]
    },
    {
      "cell_type": "code",
      "metadata": {
        "id": "crAIMeusLPrE",
        "colab_type": "code",
        "colab": {
          "base_uri": "https://localhost:8080/",
          "height": 326
        },
        "outputId": "3bd518c7-b30c-48ef-8e2a-632af667f0ec"
      },
      "source": [
        "df.hist(column='TotalYoutubeDataVolume')"
      ],
      "execution_count": null,
      "outputs": [
        {
          "output_type": "execute_result",
          "data": {
            "text/plain": [
              "array([[<matplotlib.axes._subplots.AxesSubplot object at 0x7f1e8b79fa20>]],\n",
              "      dtype=object)"
            ]
          },
          "metadata": {
            "tags": []
          },
          "execution_count": 57
        },
        {
          "output_type": "display_data",
          "data": {
            "image/png": "[encoded data removed]",
            "text/plain": [
              "<Figure size 432x288 with 1 Axes>"
            ]
          },
          "metadata": {
            "tags": [],
            "needs_background": "light"
          }
        }
      ]
    },
    {
      "cell_type": "markdown",
      "metadata": {
        "id": "0f3B3d14LPrM",
        "colab_type": "text"
      },
      "source": [
        "### Univariate Plot for the Minimum value, the Maximum value, the Average, the 1st, 2nd & 3rd Quartile for the total data volume (in Bytes) of Netflix"
      ]
    },
    {
      "cell_type": "code",
      "metadata": {
        "id": "wCYU1sE0LPrN",
        "colab_type": "code",
        "colab": {
          "base_uri": "https://localhost:8080/",
          "height": 326
        },
        "outputId": "5420ccf0-0a0d-4d2e-c46f-5e8b531e1174"
      },
      "source": [
        "df.hist(column='TotalNetflixDataVolume')"
      ],
      "execution_count": null,
      "outputs": [
        {
          "output_type": "execute_result",
          "data": {
            "text/plain": [
              "array([[<matplotlib.axes._subplots.AxesSubplot object at 0x7f1e8b6fd748>]],\n",
              "      dtype=object)"
            ]
          },
          "metadata": {
            "tags": []
          },
          "execution_count": 56
        },
        {
          "output_type": "display_data",
          "data": {
            "image/png": "[encoded data removed]",
            "text/plain": [
              "<Figure size 432x288 with 1 Axes>"
            ]
          },
          "metadata": {
            "tags": [],
            "needs_background": "light"
          }
        }
      ]
    },
    {
      "cell_type": "markdown",
      "metadata": {
        "id": "1kwH44-6LPrV",
        "colab_type": "text"
      },
      "source": [
        "### Univariate Plot for the Minimum value, the Maximum value, the Average, the 1st, 2nd & 3rd Quartile for the total data volume (in Bytes) of Gaming"
      ]
    },
    {
      "cell_type": "code",
      "metadata": {
        "id": "IBEyFLC6LPrX",
        "colab_type": "code",
        "colab": {
          "base_uri": "https://localhost:8080/",
          "height": 326
        },
        "outputId": "1503cc44-904e-4f29-e879-8463fef70fbc"
      },
      "source": [
        "df.hist(column='TotalGamingDataVolume')"
      ],
      "execution_count": null,
      "outputs": [
        {
          "output_type": "execute_result",
          "data": {
            "text/plain": [
              "array([[<matplotlib.axes._subplots.AxesSubplot object at 0x7f2a5882ee10>]],\n",
              "      dtype=object)"
            ]
          },
          "metadata": {
            "tags": []
          },
          "execution_count": 24
        },
        {
          "output_type": "display_data",
          "data": {
            "image/png": "[encoded data removed]",
            "text/plain": [
              "<Figure size 432x288 with 1 Axes>"
            ]
          },
          "metadata": {
            "tags": [],
            "needs_background": "light"
          }
        }
      ]
    },
    {
      "cell_type": "markdown",
      "metadata": {
        "id": "JZ62C8fKlfnV",
        "colab_type": "text"
      },
      "source": [
        "#### Univariate Plot for the Minimum value, the Maximum value, the Average, the 1st, 2nd & 3rd Quartile for the total data volume (in Bytes) of Others\n"
      ]
    },
    {
      "cell_type": "code",
      "metadata": {
        "id": "0al-PtT6leeQ",
        "colab_type": "code",
        "colab": {
          "base_uri": "https://localhost:8080/",
          "height": 326
        },
        "outputId": "89631de9-1e8e-44b5-b0f1-a880cdb47b00"
      },
      "source": [
        "df.hist(column='TotalOtherDataVolume')"
      ],
      "execution_count": null,
      "outputs": [
        {
          "output_type": "execute_result",
          "data": {
            "text/plain": [
              "array([[<matplotlib.axes._subplots.AxesSubplot object at 0x7f2a58c70da0>]],\n",
              "      dtype=object)"
            ]
          },
          "metadata": {
            "tags": []
          },
          "execution_count": 25
        },
        {
          "output_type": "display_data",
          "data": {
            "image/png": "[encoded data removed]",
            "text/plain": [
              "<Figure size 432x288 with 1 Axes>"
            ]
          },
          "metadata": {
            "tags": [],
            "needs_background": "light"
          }
        }
      ]
    },
    {
      "cell_type": "markdown",
      "metadata": {
        "id": "XG-Xoaq7LPr3",
        "colab_type": "text"
      },
      "source": [
        "### Bivariate Analysis – explore the relationship between each application & the total DL+UL data using appropriate methods and interpret your findings."
      ]
    },
    {
      "cell_type": "code",
      "metadata": {
        "id": "952l4h8FLPr9",
        "colab_type": "code",
        "colab": {
          "base_uri": "https://localhost:8080/",
          "height": 248
        },
        "outputId": "eca0002c-5b5f-4d3a-ad07-37864a7c82a1"
      },
      "source": [
        "from pandas import DataFrame\n",
        "import matplotlib.pyplot as plt\n",
        "import pandas as pd\n",
        "\n",
        "data = {\n",
        "        'Application': ['Social Media', 'Google', 'Email', 'Youtube', 'Netflix', 'Gaming', 'Others'],\n",
        "        'TotalBytesofEachApplication': [df[\"TotalSocialMediaDataVolume\"].max(),df[\"TotalGoogleDataVolume\"].max(),df[\"TotalEmailDataVolume\"].max(),df[\"TotalYoutubeDataVolume\"].max(),df[\"TotalNetflixDataVolume\"].max(), df[\"TotalGamingDataVolume\"].max(), df[\"TotalOtherDataVolume\"].max()],\n",
        "        'TotalDLandUL': [df[\"TotalDLandUL\"].max(), df[\"TotalDLandUL\"].max(), df[\"TotalDLandUL\"].max(), df[\"TotalDLandUL\"].max(), df[\"TotalDLandUL\"].max(), df[\"TotalDLandUL\"].max(), df[\"TotalDLandUL\"].max()]\n",
        "        }\n",
        "\n",
        "df_bivariate = pd.DataFrame (data, columns = ['Application', 'TotalBytesofEachApplication', 'TotalDLandUL'])\n",
        "df_bivariate"
      ],
      "execution_count": null,
      "outputs": [
        {
          "output_type": "execute_result",
          "data": {
            "text/html": [
              "<div>\n",
              "<style scoped>\n",
              "    .dataframe tbody tr th:only-of-type {\n",
              "        vertical-align: middle;\n",
              "    }\n",
              "\n",
              "    .dataframe tbody tr th {\n",
              "        vertical-align: top;\n",
              "    }\n",
              "\n",
              "    .dataframe thead th {\n",
              "        text-align: right;\n",
              "    }\n",
              "</style>\n",
              "<table border=\"1\" class=\"dataframe\">\n",
              "  <thead>\n",
              "    <tr style=\"text-align: right;\">\n",
              "      <th></th>\n",
              "      <th>Application</th>\n",
              "      <th>TotalBytesofEachApplication</th>\n",
              "      <th>TotalDLandUL</th>\n",
              "    </tr>\n",
              "  </thead>\n",
              "  <tbody>\n",
              "    <tr>\n",
              "      <th>0</th>\n",
              "      <td>Social Media</td>\n",
              "      <td>3650861.0</td>\n",
              "      <td>955984776.0</td>\n",
              "    </tr>\n",
              "    <tr>\n",
              "      <th>1</th>\n",
              "      <td>Google</td>\n",
              "      <td>15528782.0</td>\n",
              "      <td>955984776.0</td>\n",
              "    </tr>\n",
              "    <tr>\n",
              "      <th>2</th>\n",
              "      <td>Email</td>\n",
              "      <td>4518036.0</td>\n",
              "      <td>955984776.0</td>\n",
              "    </tr>\n",
              "    <tr>\n",
              "      <th>3</th>\n",
              "      <td>Youtube</td>\n",
              "      <td>45190078.0</td>\n",
              "      <td>955984776.0</td>\n",
              "    </tr>\n",
              "    <tr>\n",
              "      <th>4</th>\n",
              "      <td>Netflix</td>\n",
              "      <td>45198153.0</td>\n",
              "      <td>955984776.0</td>\n",
              "    </tr>\n",
              "    <tr>\n",
              "      <th>5</th>\n",
              "      <td>Gaming</td>\n",
              "      <td>859202784.0</td>\n",
              "      <td>955984776.0</td>\n",
              "    </tr>\n",
              "    <tr>\n",
              "      <th>6</th>\n",
              "      <td>Others</td>\n",
              "      <td>859520934.0</td>\n",
              "      <td>955984776.0</td>\n",
              "    </tr>\n",
              "  </tbody>\n",
              "</table>\n",
              "</div>"
            ],
            "text/plain": [
              "    Application  TotalBytesofEachApplication  TotalDLandUL\n",
              "0  Social Media                    3650861.0   955984776.0\n",
              "1        Google                   15528782.0   955984776.0\n",
              "2         Email                    4518036.0   955984776.0\n",
              "3       Youtube                   45190078.0   955984776.0\n",
              "4       Netflix                   45198153.0   955984776.0\n",
              "5        Gaming                  859202784.0   955984776.0\n",
              "6        Others                  859520934.0   955984776.0"
            ]
          },
          "metadata": {
            "tags": []
          },
          "execution_count": 26
        }
      ]
    },
    {
      "cell_type": "code",
      "metadata": {
        "id": "g1SUUChZ_NWw",
        "colab_type": "code",
        "colab": {
          "base_uri": "https://localhost:8080/",
          "height": 358
        },
        "outputId": "b4a262de-5c3b-4772-e884-2c8eed3b2a21"
      },
      "source": [
        "df_bivariate.plot(x=\"Application\", y=['TotalBytesofEachApplication', 'TotalDLandUL'], kind=\"bar\")"
      ],
      "execution_count": null,
      "outputs": [
        {
          "output_type": "execute_result",
          "data": {
            "text/plain": [
              "<matplotlib.axes._subplots.AxesSubplot at 0x7f2a58df0be0>"
            ]
          },
          "metadata": {
            "tags": []
          },
          "execution_count": 27
        },
        {
          "output_type": "display_data",
          "data": {
            "image/png": "[encoded data removed]",
            "text/plain": [
              "<Figure size 432x288 with 1 Axes>"
            ]
          },
          "metadata": {
            "tags": [],
            "needs_background": "light"
          }
        }
      ]
    },
    {
      "cell_type": "code",
      "metadata": {
        "id": "k733Qh058UIZ",
        "colab_type": "code",
        "colab": {
          "base_uri": "https://localhost:8080/",
          "height": 358
        },
        "outputId": "89eee4f9-d07a-492c-fcfb-d74db59ef181"
      },
      "source": [
        "df_bivariate.plot(x=\"Application\", y=['TotalBytesofEachApplication', 'TotalDLandUL'], kind=\"bar\", stacked=True)"
      ],
      "execution_count": null,
      "outputs": [
        {
          "output_type": "execute_result",
          "data": {
            "text/plain": [
              "<matplotlib.axes._subplots.AxesSubplot at 0x7f2a5886f0f0>"
            ]
          },
          "metadata": {
            "tags": []
          },
          "execution_count": 29
        },
        {
          "output_type": "display_data",
          "data": {
            "image/png": "[encoded data removed]",
            "text/plain": [
              "<Figure size 432x288 with 1 Axes>"
            ]
          },
          "metadata": {
            "tags": [],
            "needs_background": "light"
          }
        }
      ]
    },
    {
      "cell_type": "markdown",
      "metadata": {
        "id": "TVhIz6zV2ITD",
        "colab_type": "text"
      },
      "source": [
        "#### Variable transformations – segment the users into top five decile classes based on the total duration for all sessions and compute the total data (DL+UL) per decile class."
      ]
    },
    {
      "cell_type": "markdown",
      "metadata": {
        "id": "0sgxXaNNgvIO",
        "colab_type": "text"
      },
      "source": [
        "1. Create a new dataframe with MSISDN and one engagement metric"
      ]
    },
    {
      "cell_type": "code",
      "metadata": {
        "id": "MvgXoLaQg89o",
        "colab_type": "code",
        "colab": {
          "base_uri": "https://localhost:8080/",
          "height": 391
        },
        "outputId": "25d078a5-59e9-4dfe-b0b1-132e79c8d600"
      },
      "source": [
        "import pandas as pd\n",
        "\n",
        "new_dataset = df.loc[:, ['TotalSocialMediaDataVolume','TotalGoogleDataVolume', 'TotalEmailDataVolume', 'TotalYoutubeDataVolume', 'TotalNetflixDataVolume', 'TotalGamingDataVolume', 'TotalOtherDataVolume', 'TotalDLandUL']]\n",
        "new_dataset"
      ],
      "execution_count": null,
      "outputs": [
        {
          "output_type": "execute_result",
          "data": {
            "text/html": [
              "<div>\n",
              "<style scoped>\n",
              "    .dataframe tbody tr th:only-of-type {\n",
              "        vertical-align: middle;\n",
              "    }\n",
              "\n",
              "    .dataframe tbody tr th {\n",
              "        vertical-align: top;\n",
              "    }\n",
              "\n",
              "    .dataframe thead th {\n",
              "        text-align: right;\n",
              "    }\n",
              "</style>\n",
              "<table border=\"1\" class=\"dataframe\">\n",
              "  <thead>\n",
              "    <tr style=\"text-align: right;\">\n",
              "      <th></th>\n",
              "      <th>TotalSocialMediaDataVolume</th>\n",
              "      <th>TotalGoogleDataVolume</th>\n",
              "      <th>TotalEmailDataVolume</th>\n",
              "      <th>TotalYoutubeDataVolume</th>\n",
              "      <th>TotalNetflixDataVolume</th>\n",
              "      <th>TotalGamingDataVolume</th>\n",
              "      <th>TotalOtherDataVolume</th>\n",
              "      <th>TotalDLandUL</th>\n",
              "    </tr>\n",
              "  </thead>\n",
              "  <tbody>\n",
              "    <tr>\n",
              "      <th>0</th>\n",
              "      <td>1.570185e+06</td>\n",
              "      <td>2.905912e+06</td>\n",
              "      <td>3.701304e+06</td>\n",
              "      <td>1.835594e+07</td>\n",
              "      <td>1.785519e+07</td>\n",
              "      <td>2.924265e+08</td>\n",
              "      <td>1.805588e+08</td>\n",
              "      <td>3.456294e+08</td>\n",
              "    </tr>\n",
              "    <tr>\n",
              "      <th>1</th>\n",
              "      <td>1.933278e+06</td>\n",
              "      <td>4.414096e+06</td>\n",
              "      <td>9.373850e+05</td>\n",
              "      <td>3.935912e+07</td>\n",
              "      <td>3.556554e+07</td>\n",
              "      <td>6.099208e+08</td>\n",
              "      <td>5.419594e+08</td>\n",
              "      <td>7.071854e+08</td>\n",
              "    </tr>\n",
              "    <tr>\n",
              "      <th>2</th>\n",
              "      <td>1.726277e+06</td>\n",
              "      <td>1.022912e+07</td>\n",
              "      <td>3.363124e+06</td>\n",
              "      <td>3.442524e+07</td>\n",
              "      <td>2.375120e+07</td>\n",
              "      <td>2.299803e+08</td>\n",
              "      <td>4.149084e+08</td>\n",
              "      <td>3.076910e+08</td>\n",
              "    </tr>\n",
              "    <tr>\n",
              "      <th>3</th>\n",
              "      <td>6.574930e+05</td>\n",
              "      <td>1.181176e+07</td>\n",
              "      <td>2.070983e+06</td>\n",
              "      <td>3.653476e+07</td>\n",
              "      <td>1.509259e+07</td>\n",
              "      <td>8.103879e+08</td>\n",
              "      <td>7.618372e+08</td>\n",
              "      <td>8.893527e+08</td>\n",
              "    </tr>\n",
              "    <tr>\n",
              "      <th>4</th>\n",
              "      <td>9.127880e+05</td>\n",
              "      <td>7.748843e+06</td>\n",
              "      <td>2.110349e+06</td>\n",
              "      <td>3.422225e+07</td>\n",
              "      <td>1.753980e+07</td>\n",
              "      <td>5.312370e+08</td>\n",
              "      <td>5.646198e+08</td>\n",
              "      <td>6.076814e+08</td>\n",
              "    </tr>\n",
              "    <tr>\n",
              "      <th>...</th>\n",
              "      <td>...</td>\n",
              "      <td>...</td>\n",
              "      <td>...</td>\n",
              "      <td>...</td>\n",
              "      <td>...</td>\n",
              "      <td>...</td>\n",
              "      <td>...</td>\n",
              "      <td>...</td>\n",
              "    </tr>\n",
              "    <tr>\n",
              "      <th>149996</th>\n",
              "      <td>3.517065e+06</td>\n",
              "      <td>1.278491e+07</td>\n",
              "      <td>6.908760e+05</td>\n",
              "      <td>2.795510e+07</td>\n",
              "      <td>3.756186e+07</td>\n",
              "      <td>5.358069e+08</td>\n",
              "      <td>1.675193e+07</td>\n",
              "      <td>6.318041e+08</td>\n",
              "    </tr>\n",
              "    <tr>\n",
              "      <th>149997</th>\n",
              "      <td>2.352181e+06</td>\n",
              "      <td>4.415361e+06</td>\n",
              "      <td>2.121718e+06</td>\n",
              "      <td>2.216552e+07</td>\n",
              "      <td>4.064329e+07</td>\n",
              "      <td>6.316281e+08</td>\n",
              "      <td>7.146381e+08</td>\n",
              "      <td>7.057839e+08</td>\n",
              "    </tr>\n",
              "    <tr>\n",
              "      <th>149998</th>\n",
              "      <td>1.260239e+06</td>\n",
              "      <td>6.585469e+06</td>\n",
              "      <td>2.058277e+06</td>\n",
              "      <td>2.451641e+07</td>\n",
              "      <td>1.502970e+07</td>\n",
              "      <td>5.669338e+08</td>\n",
              "      <td>1.324156e+08</td>\n",
              "      <td>6.276986e+08</td>\n",
              "    </tr>\n",
              "    <tr>\n",
              "      <th>149999</th>\n",
              "      <td>8.231090e+05</td>\n",
              "      <td>7.757267e+06</td>\n",
              "      <td>2.850914e+06</td>\n",
              "      <td>1.712251e+07</td>\n",
              "      <td>1.649484e+07</td>\n",
              "      <td>3.550664e+08</td>\n",
              "      <td>8.161200e+08</td>\n",
              "      <td>4.015220e+08</td>\n",
              "    </tr>\n",
              "    <tr>\n",
              "      <th>150000</th>\n",
              "      <td>1.828250e+06</td>\n",
              "      <td>7.807295e+06</td>\n",
              "      <td>2.259102e+06</td>\n",
              "      <td>2.264348e+07</td>\n",
              "      <td>2.262861e+07</td>\n",
              "      <td>4.303331e+08</td>\n",
              "      <td>4.293653e+08</td>\n",
              "      <td>4.957646e+08</td>\n",
              "    </tr>\n",
              "  </tbody>\n",
              "</table>\n",
              "<p>150001 rows × 8 columns</p>\n",
              "</div>"
            ],
            "text/plain": [
              "        TotalSocialMediaDataVolume  ...  TotalDLandUL\n",
              "0                     1.570185e+06  ...  3.456294e+08\n",
              "1                     1.933278e+06  ...  7.071854e+08\n",
              "2                     1.726277e+06  ...  3.076910e+08\n",
              "3                     6.574930e+05  ...  8.893527e+08\n",
              "4                     9.127880e+05  ...  6.076814e+08\n",
              "...                            ...  ...           ...\n",
              "149996                3.517065e+06  ...  6.318041e+08\n",
              "149997                2.352181e+06  ...  7.057839e+08\n",
              "149998                1.260239e+06  ...  6.276986e+08\n",
              "149999                8.231090e+05  ...  4.015220e+08\n",
              "150000                1.828250e+06  ...  4.957646e+08\n",
              "\n",
              "[150001 rows x 8 columns]"
            ]
          },
          "metadata": {
            "tags": []
          },
          "execution_count": 30
        }
      ]
    },
    {
      "cell_type": "code",
      "metadata": {
        "id": "vhBQj1doYXd4",
        "colab_type": "code",
        "colab": {
          "base_uri": "https://localhost:8080/",
          "height": 393
        },
        "outputId": "76f489a5-695b-4d60-9e8e-71c955fd3924"
      },
      "source": [
        "mssisnd_gaming_dataframe = df.groupby(['MSISDN/Number'], sort=False)['TotalGamingDataVolume', 'TotalDLandUL'].agg(['sum'])\n",
        "mssisnd_gaming_dataframe\n"
      ],
      "execution_count": null,
      "outputs": [
        {
          "output_type": "stream",
          "text": [
            "/usr/local/lib/python3.6/dist-packages/ipykernel_launcher.py:1: FutureWarning: Indexing with multiple keys (implicitly converted to a tuple of keys) will be deprecated, use a list instead.\n",
            "  \"\"\"Entry point for launching an IPython kernel.\n"
          ],
          "name": "stderr"
        },
        {
          "output_type": "error",
          "ename": "ValueError",
          "evalue": "ignored",
          "traceback": [
            "\u001b[0;31m---------------------------------------------------------------------------\u001b[0m",
            "\u001b[0;31mValueError\u001b[0m                                Traceback (most recent call last)",
            "\u001b[0;32m<ipython-input-42-485d6e32a98d>\u001b[0m in \u001b[0;36m<module>\u001b[0;34m()\u001b[0m\n\u001b[1;32m      1\u001b[0m \u001b[0mgaming_dataframe\u001b[0m \u001b[0;34m=\u001b[0m \u001b[0mdf\u001b[0m\u001b[0;34m.\u001b[0m\u001b[0mgroupby\u001b[0m\u001b[0;34m(\u001b[0m\u001b[0;34m[\u001b[0m\u001b[0;34m'MSISDN/Number'\u001b[0m\u001b[0;34m]\u001b[0m\u001b[0;34m,\u001b[0m \u001b[0msort\u001b[0m\u001b[0;34m=\u001b[0m\u001b[0;32mFalse\u001b[0m\u001b[0;34m)\u001b[0m\u001b[0;34m[\u001b[0m\u001b[0;34m'TotalGamingDataVolume'\u001b[0m\u001b[0;34m,\u001b[0m \u001b[0;34m'TotalDLandUL'\u001b[0m\u001b[0;34m]\u001b[0m\u001b[0;34m.\u001b[0m\u001b[0magg\u001b[0m\u001b[0;34m(\u001b[0m\u001b[0;34m[\u001b[0m\u001b[0;34m'sum'\u001b[0m\u001b[0;34m]\u001b[0m\u001b[0;34m)\u001b[0m\u001b[0;34m\u001b[0m\u001b[0;34m\u001b[0m\u001b[0m\n\u001b[0;32m----> 2\u001b[0;31m \u001b[0mgaming_dataframe\u001b[0m\u001b[0;34m.\u001b[0m\u001b[0mcolumns\u001b[0m \u001b[0;34m=\u001b[0m \u001b[0;34m[\u001b[0m\u001b[0;34m\"Session_duration\"\u001b[0m\u001b[0;34m]\u001b[0m\u001b[0;34m\u001b[0m\u001b[0;34m\u001b[0m\u001b[0m\n\u001b[0m\u001b[1;32m      3\u001b[0m \u001b[0mgaming_dataframe\u001b[0m\u001b[0;34m\u001b[0m\u001b[0;34m\u001b[0m\u001b[0m\n",
            "\u001b[0;32m/usr/local/lib/python3.6/dist-packages/pandas/core/generic.py\u001b[0m in \u001b[0;36m__setattr__\u001b[0;34m(self, name, value)\u001b[0m\n\u001b[1;32m   5285\u001b[0m         \u001b[0;32mtry\u001b[0m\u001b[0;34m:\u001b[0m\u001b[0;34m\u001b[0m\u001b[0;34m\u001b[0m\u001b[0m\n\u001b[1;32m   5286\u001b[0m             \u001b[0mobject\u001b[0m\u001b[0;34m.\u001b[0m\u001b[0m__getattribute__\u001b[0m\u001b[0;34m(\u001b[0m\u001b[0mself\u001b[0m\u001b[0;34m,\u001b[0m \u001b[0mname\u001b[0m\u001b[0;34m)\u001b[0m\u001b[0;34m\u001b[0m\u001b[0;34m\u001b[0m\u001b[0m\n\u001b[0;32m-> 5287\u001b[0;31m             \u001b[0;32mreturn\u001b[0m \u001b[0mobject\u001b[0m\u001b[0;34m.\u001b[0m\u001b[0m__setattr__\u001b[0m\u001b[0;34m(\u001b[0m\u001b[0mself\u001b[0m\u001b[0;34m,\u001b[0m \u001b[0mname\u001b[0m\u001b[0;34m,\u001b[0m \u001b[0mvalue\u001b[0m\u001b[0;34m)\u001b[0m\u001b[0;34m\u001b[0m\u001b[0;34m\u001b[0m\u001b[0m\n\u001b[0m\u001b[1;32m   5288\u001b[0m         \u001b[0;32mexcept\u001b[0m \u001b[0mAttributeError\u001b[0m\u001b[0;34m:\u001b[0m\u001b[0;34m\u001b[0m\u001b[0;34m\u001b[0m\u001b[0m\n\u001b[1;32m   5289\u001b[0m             \u001b[0;32mpass\u001b[0m\u001b[0;34m\u001b[0m\u001b[0;34m\u001b[0m\u001b[0m\n",
            "\u001b[0;32mpandas/_libs/properties.pyx\u001b[0m in \u001b[0;36mpandas._libs.properties.AxisProperty.__set__\u001b[0;34m()\u001b[0m\n",
            "\u001b[0;32m/usr/local/lib/python3.6/dist-packages/pandas/core/generic.py\u001b[0m in \u001b[0;36m_set_axis\u001b[0;34m(self, axis, labels)\u001b[0m\n\u001b[1;32m    659\u001b[0m \u001b[0;34m\u001b[0m\u001b[0m\n\u001b[1;32m    660\u001b[0m     \u001b[0;32mdef\u001b[0m \u001b[0m_set_axis\u001b[0m\u001b[0;34m(\u001b[0m\u001b[0mself\u001b[0m\u001b[0;34m,\u001b[0m \u001b[0maxis\u001b[0m\u001b[0;34m,\u001b[0m \u001b[0mlabels\u001b[0m\u001b[0;34m)\u001b[0m \u001b[0;34m->\u001b[0m \u001b[0;32mNone\u001b[0m\u001b[0;34m:\u001b[0m\u001b[0;34m\u001b[0m\u001b[0;34m\u001b[0m\u001b[0m\n\u001b[0;32m--> 661\u001b[0;31m         \u001b[0mself\u001b[0m\u001b[0;34m.\u001b[0m\u001b[0m_data\u001b[0m\u001b[0;34m.\u001b[0m\u001b[0mset_axis\u001b[0m\u001b[0;34m(\u001b[0m\u001b[0maxis\u001b[0m\u001b[0;34m,\u001b[0m \u001b[0mlabels\u001b[0m\u001b[0;34m)\u001b[0m\u001b[0;34m\u001b[0m\u001b[0;34m\u001b[0m\u001b[0m\n\u001b[0m\u001b[1;32m    662\u001b[0m         \u001b[0mself\u001b[0m\u001b[0;34m.\u001b[0m\u001b[0m_clear_item_cache\u001b[0m\u001b[0;34m(\u001b[0m\u001b[0;34m)\u001b[0m\u001b[0;34m\u001b[0m\u001b[0;34m\u001b[0m\u001b[0m\n\u001b[1;32m    663\u001b[0m \u001b[0;34m\u001b[0m\u001b[0m\n",
            "\u001b[0;32m/usr/local/lib/python3.6/dist-packages/pandas/core/internals/managers.py\u001b[0m in \u001b[0;36mset_axis\u001b[0;34m(self, axis, new_labels)\u001b[0m\n\u001b[1;32m    176\u001b[0m         \u001b[0;32mif\u001b[0m \u001b[0mnew_len\u001b[0m \u001b[0;34m!=\u001b[0m \u001b[0mold_len\u001b[0m\u001b[0;34m:\u001b[0m\u001b[0;34m\u001b[0m\u001b[0;34m\u001b[0m\u001b[0m\n\u001b[1;32m    177\u001b[0m             raise ValueError(\n\u001b[0;32m--> 178\u001b[0;31m                 \u001b[0;34mf\"Length mismatch: Expected axis has {old_len} elements, new \"\u001b[0m\u001b[0;34m\u001b[0m\u001b[0;34m\u001b[0m\u001b[0m\n\u001b[0m\u001b[1;32m    179\u001b[0m                 \u001b[0;34mf\"values have {new_len} elements\"\u001b[0m\u001b[0;34m\u001b[0m\u001b[0;34m\u001b[0m\u001b[0m\n\u001b[1;32m    180\u001b[0m             )\n",
            "\u001b[0;31mValueError\u001b[0m: Length mismatch: Expected axis has 2 elements, new values have 1 elements"
          ]
        }
      ]
    },
    {
      "cell_type": "code",
      "metadata": {
        "id": "C7l4lVTd97Gc",
        "colab_type": "code",
        "colab": {}
      },
      "source": [
        "index_list = []\n",
        "another_index_list = []\n",
        "\n",
        "for index,row in sorted_gaming.iterrows():\n",
        "  index_list.append(index)\n",
        "  for i in index_list:\n",
        "    if i in range(0,10):\n",
        "      another_index_list.append(1)\n",
        "    elif i in range(10,20):\n",
        "      another_index_list.append(2)\n",
        "    elif i in range(20,30):\n",
        "      another_index_list.append(3)\n",
        "    elif i in range(30,40):\n",
        "      another_index_list.append(4)\n",
        "    elif i in range(40,50):\n",
        "      another_index_list.append(5)\n",
        "    else:\n",
        "      another_index_list.append(6)"
      ],
      "execution_count": null,
      "outputs": []
    },
    {
      "cell_type": "code",
      "metadata": {
        "id": "wuwgq9x1srrJ",
        "colab_type": "code",
        "colab": {}
      },
      "source": [
        "gaming_dataframe = pd.concat([df['TotalGamingDataVolume'], df[\"TotalDLandUL\"]], axis=1)\n",
        "gaming_dataframe['Decile Ranking'] = gaming_dataframe = pd.concat([df['TotalGamingDataVolume'], df[\"TotalDLandUL\"]], axis=1)\n",
        "gaming_dataframe['Decile Ranking'] = "
      ],
      "execution_count": null,
      "outputs": []
    },
    {
      "cell_type": "markdown",
      "metadata": {
        "id": "Dh2ni-oh35Se",
        "colab_type": "text"
      },
      "source": [
        "#### Correlation Analysis – compute a correlation matrix for the following variables and interpret your findings: Social Media data, Google data, Email data, Youtube data, Netflix data, Gaming data, Other data"
      ]
    },
    {
      "cell_type": "markdown",
      "metadata": {
        "id": "Baryg881CSMc",
        "colab_type": "text"
      },
      "source": [
        "Original Data"
      ]
    },
    {
      "cell_type": "code",
      "metadata": {
        "id": "5gkPihF6bqCS",
        "colab_type": "code",
        "colab": {
          "base_uri": "https://localhost:8080/",
          "height": 391
        },
        "outputId": "22e5d209-61ab-433e-bd91-af546e4230d7"
      },
      "source": [
        "new_dataset = df.loc[:, ['TotalSocialMediaDataVolume','TotalGoogleDataVolume', 'TotalEmailDataVolume', 'TotalYoutubeDataVolume', 'TotalNetflixDataVolume', 'TotalGamingDataVolume', 'TotalOtherDataVolume']]\n",
        "new_dataset"
      ],
      "execution_count": null,
      "outputs": [
        {
          "output_type": "execute_result",
          "data": {
            "text/html": [
              "<div>\n",
              "<style scoped>\n",
              "    .dataframe tbody tr th:only-of-type {\n",
              "        vertical-align: middle;\n",
              "    }\n",
              "\n",
              "    .dataframe tbody tr th {\n",
              "        vertical-align: top;\n",
              "    }\n",
              "\n",
              "    .dataframe thead th {\n",
              "        text-align: right;\n",
              "    }\n",
              "</style>\n",
              "<table border=\"1\" class=\"dataframe\">\n",
              "  <thead>\n",
              "    <tr style=\"text-align: right;\">\n",
              "      <th></th>\n",
              "      <th>TotalSocialMediaDataVolume</th>\n",
              "      <th>TotalGoogleDataVolume</th>\n",
              "      <th>TotalEmailDataVolume</th>\n",
              "      <th>TotalYoutubeDataVolume</th>\n",
              "      <th>TotalNetflixDataVolume</th>\n",
              "      <th>TotalGamingDataVolume</th>\n",
              "      <th>TotalOtherDataVolume</th>\n",
              "    </tr>\n",
              "  </thead>\n",
              "  <tbody>\n",
              "    <tr>\n",
              "      <th>0</th>\n",
              "      <td>1.570185e+06</td>\n",
              "      <td>2.905912e+06</td>\n",
              "      <td>3.701304e+06</td>\n",
              "      <td>1.835594e+07</td>\n",
              "      <td>1.785519e+07</td>\n",
              "      <td>2.924265e+08</td>\n",
              "      <td>1.805588e+08</td>\n",
              "    </tr>\n",
              "    <tr>\n",
              "      <th>1</th>\n",
              "      <td>1.933278e+06</td>\n",
              "      <td>4.414096e+06</td>\n",
              "      <td>9.373850e+05</td>\n",
              "      <td>3.935912e+07</td>\n",
              "      <td>3.556554e+07</td>\n",
              "      <td>6.099208e+08</td>\n",
              "      <td>5.419594e+08</td>\n",
              "    </tr>\n",
              "    <tr>\n",
              "      <th>2</th>\n",
              "      <td>1.726277e+06</td>\n",
              "      <td>1.022912e+07</td>\n",
              "      <td>3.363124e+06</td>\n",
              "      <td>3.442524e+07</td>\n",
              "      <td>2.375120e+07</td>\n",
              "      <td>2.299803e+08</td>\n",
              "      <td>4.149084e+08</td>\n",
              "    </tr>\n",
              "    <tr>\n",
              "      <th>3</th>\n",
              "      <td>6.574930e+05</td>\n",
              "      <td>1.181176e+07</td>\n",
              "      <td>2.070983e+06</td>\n",
              "      <td>3.653476e+07</td>\n",
              "      <td>1.509259e+07</td>\n",
              "      <td>8.103879e+08</td>\n",
              "      <td>7.618372e+08</td>\n",
              "    </tr>\n",
              "    <tr>\n",
              "      <th>4</th>\n",
              "      <td>9.127880e+05</td>\n",
              "      <td>7.748843e+06</td>\n",
              "      <td>2.110349e+06</td>\n",
              "      <td>3.422225e+07</td>\n",
              "      <td>1.753980e+07</td>\n",
              "      <td>5.312370e+08</td>\n",
              "      <td>5.646198e+08</td>\n",
              "    </tr>\n",
              "    <tr>\n",
              "      <th>...</th>\n",
              "      <td>...</td>\n",
              "      <td>...</td>\n",
              "      <td>...</td>\n",
              "      <td>...</td>\n",
              "      <td>...</td>\n",
              "      <td>...</td>\n",
              "      <td>...</td>\n",
              "    </tr>\n",
              "    <tr>\n",
              "      <th>149996</th>\n",
              "      <td>3.517065e+06</td>\n",
              "      <td>1.278491e+07</td>\n",
              "      <td>6.908760e+05</td>\n",
              "      <td>2.795510e+07</td>\n",
              "      <td>3.756186e+07</td>\n",
              "      <td>5.358069e+08</td>\n",
              "      <td>1.675193e+07</td>\n",
              "    </tr>\n",
              "    <tr>\n",
              "      <th>149997</th>\n",
              "      <td>2.352181e+06</td>\n",
              "      <td>4.415361e+06</td>\n",
              "      <td>2.121718e+06</td>\n",
              "      <td>2.216552e+07</td>\n",
              "      <td>4.064329e+07</td>\n",
              "      <td>6.316281e+08</td>\n",
              "      <td>7.146381e+08</td>\n",
              "    </tr>\n",
              "    <tr>\n",
              "      <th>149998</th>\n",
              "      <td>1.260239e+06</td>\n",
              "      <td>6.585469e+06</td>\n",
              "      <td>2.058277e+06</td>\n",
              "      <td>2.451641e+07</td>\n",
              "      <td>1.502970e+07</td>\n",
              "      <td>5.669338e+08</td>\n",
              "      <td>1.324156e+08</td>\n",
              "    </tr>\n",
              "    <tr>\n",
              "      <th>149999</th>\n",
              "      <td>8.231090e+05</td>\n",
              "      <td>7.757267e+06</td>\n",
              "      <td>2.850914e+06</td>\n",
              "      <td>1.712251e+07</td>\n",
              "      <td>1.649484e+07</td>\n",
              "      <td>3.550664e+08</td>\n",
              "      <td>8.161200e+08</td>\n",
              "    </tr>\n",
              "    <tr>\n",
              "      <th>150000</th>\n",
              "      <td>1.828250e+06</td>\n",
              "      <td>7.807295e+06</td>\n",
              "      <td>2.259102e+06</td>\n",
              "      <td>2.264348e+07</td>\n",
              "      <td>2.262861e+07</td>\n",
              "      <td>4.303331e+08</td>\n",
              "      <td>4.293653e+08</td>\n",
              "    </tr>\n",
              "  </tbody>\n",
              "</table>\n",
              "<p>150001 rows × 7 columns</p>\n",
              "</div>"
            ],
            "text/plain": [
              "        TotalSocialMediaDataVolume  ...  TotalOtherDataVolume\n",
              "0                     1.570185e+06  ...          1.805588e+08\n",
              "1                     1.933278e+06  ...          5.419594e+08\n",
              "2                     1.726277e+06  ...          4.149084e+08\n",
              "3                     6.574930e+05  ...          7.618372e+08\n",
              "4                     9.127880e+05  ...          5.646198e+08\n",
              "...                            ...  ...                   ...\n",
              "149996                3.517065e+06  ...          1.675193e+07\n",
              "149997                2.352181e+06  ...          7.146381e+08\n",
              "149998                1.260239e+06  ...          1.324156e+08\n",
              "149999                8.231090e+05  ...          8.161200e+08\n",
              "150000                1.828250e+06  ...          4.293653e+08\n",
              "\n",
              "[150001 rows x 7 columns]"
            ]
          },
          "metadata": {
            "tags": []
          },
          "execution_count": 31
        }
      ]
    },
    {
      "cell_type": "markdown",
      "metadata": {
        "id": "hW2TQi0warPT",
        "colab_type": "text"
      },
      "source": [
        "After using pearson correlation"
      ]
    },
    {
      "cell_type": "code",
      "metadata": {
        "id": "0ePCAxCx36wY",
        "colab_type": "code",
        "colab": {
          "base_uri": "https://localhost:8080/",
          "height": 248
        },
        "outputId": "544b4df2-ffdc-4424-9a6f-51e8d89a7ff3"
      },
      "source": [
        "new_dataset.corr(method ='pearson')"
      ],
      "execution_count": null,
      "outputs": [
        {
          "output_type": "execute_result",
          "data": {
            "text/html": [
              "<div>\n",
              "<style scoped>\n",
              "    .dataframe tbody tr th:only-of-type {\n",
              "        vertical-align: middle;\n",
              "    }\n",
              "\n",
              "    .dataframe tbody tr th {\n",
              "        vertical-align: top;\n",
              "    }\n",
              "\n",
              "    .dataframe thead th {\n",
              "        text-align: right;\n",
              "    }\n",
              "</style>\n",
              "<table border=\"1\" class=\"dataframe\">\n",
              "  <thead>\n",
              "    <tr style=\"text-align: right;\">\n",
              "      <th></th>\n",
              "      <th>TotalSocialMediaDataVolume</th>\n",
              "      <th>TotalGoogleDataVolume</th>\n",
              "      <th>TotalEmailDataVolume</th>\n",
              "      <th>TotalYoutubeDataVolume</th>\n",
              "      <th>TotalNetflixDataVolume</th>\n",
              "      <th>TotalGamingDataVolume</th>\n",
              "      <th>TotalOtherDataVolume</th>\n",
              "    </tr>\n",
              "  </thead>\n",
              "  <tbody>\n",
              "    <tr>\n",
              "      <th>TotalSocialMediaDataVolume</th>\n",
              "      <td>1.000000</td>\n",
              "      <td>-0.001708</td>\n",
              "      <td>0.004032</td>\n",
              "      <td>0.000548</td>\n",
              "      <td>0.001013</td>\n",
              "      <td>0.001082</td>\n",
              "      <td>0.006065</td>\n",
              "    </tr>\n",
              "    <tr>\n",
              "      <th>TotalGoogleDataVolume</th>\n",
              "      <td>-0.001708</td>\n",
              "      <td>1.000000</td>\n",
              "      <td>-0.000412</td>\n",
              "      <td>0.002277</td>\n",
              "      <td>-0.001902</td>\n",
              "      <td>-0.000994</td>\n",
              "      <td>-0.001727</td>\n",
              "    </tr>\n",
              "    <tr>\n",
              "      <th>TotalEmailDataVolume</th>\n",
              "      <td>0.004032</td>\n",
              "      <td>-0.000412</td>\n",
              "      <td>1.000000</td>\n",
              "      <td>-0.002919</td>\n",
              "      <td>0.001029</td>\n",
              "      <td>-0.000644</td>\n",
              "      <td>-0.001299</td>\n",
              "    </tr>\n",
              "    <tr>\n",
              "      <th>TotalYoutubeDataVolume</th>\n",
              "      <td>0.000548</td>\n",
              "      <td>0.002277</td>\n",
              "      <td>-0.002919</td>\n",
              "      <td>1.000000</td>\n",
              "      <td>0.002882</td>\n",
              "      <td>-0.002999</td>\n",
              "      <td>0.002969</td>\n",
              "    </tr>\n",
              "    <tr>\n",
              "      <th>TotalNetflixDataVolume</th>\n",
              "      <td>0.001013</td>\n",
              "      <td>-0.001902</td>\n",
              "      <td>0.001029</td>\n",
              "      <td>0.002882</td>\n",
              "      <td>1.000000</td>\n",
              "      <td>-0.003109</td>\n",
              "      <td>-0.009033</td>\n",
              "    </tr>\n",
              "    <tr>\n",
              "      <th>TotalGamingDataVolume</th>\n",
              "      <td>0.001082</td>\n",
              "      <td>-0.000994</td>\n",
              "      <td>-0.000644</td>\n",
              "      <td>-0.002999</td>\n",
              "      <td>-0.003109</td>\n",
              "      <td>1.000000</td>\n",
              "      <td>-0.002661</td>\n",
              "    </tr>\n",
              "    <tr>\n",
              "      <th>TotalOtherDataVolume</th>\n",
              "      <td>0.006065</td>\n",
              "      <td>-0.001727</td>\n",
              "      <td>-0.001299</td>\n",
              "      <td>0.002969</td>\n",
              "      <td>-0.009033</td>\n",
              "      <td>-0.002661</td>\n",
              "      <td>1.000000</td>\n",
              "    </tr>\n",
              "  </tbody>\n",
              "</table>\n",
              "</div>"
            ],
            "text/plain": [
              "                            TotalSocialMediaDataVolume  ...  TotalOtherDataVolume\n",
              "TotalSocialMediaDataVolume                    1.000000  ...              0.006065\n",
              "TotalGoogleDataVolume                        -0.001708  ...             -0.001727\n",
              "TotalEmailDataVolume                          0.004032  ...             -0.001299\n",
              "TotalYoutubeDataVolume                        0.000548  ...              0.002969\n",
              "TotalNetflixDataVolume                        0.001013  ...             -0.009033\n",
              "TotalGamingDataVolume                         0.001082  ...             -0.002661\n",
              "TotalOtherDataVolume                          0.006065  ...              1.000000\n",
              "\n",
              "[7 rows x 7 columns]"
            ]
          },
          "metadata": {
            "tags": []
          },
          "execution_count": 32
        }
      ]
    },
    {
      "cell_type": "markdown",
      "metadata": {
        "id": "Jy18O9un37ME",
        "colab_type": "text"
      },
      "source": [
        "#### Dimensionality Reduction – perform a principal component analysis to reduce the dimensions of your data and provide a useful interpretation of the results (Provide your interpretation in four (4) bullet points-maximum). - (jupyter notebook + slide )\n"
      ]
    },
    {
      "cell_type": "markdown",
      "metadata": {
        "id": "CTBWyRLoeaYZ",
        "colab_type": "text"
      },
      "source": [
        "All the variables should be on the same scale before applying PCA, otherwise, a feature with large values will dominate the result.  Below I use StandardScaler in scikit-learn to standardize the dataset’s features onto the unit scale (mean = 0 and variance = 1)."
      ]
    },
    {
      "cell_type": "code",
      "metadata": {
        "id": "ZLxU27p0kYFh",
        "colab_type": "code",
        "colab": {
          "base_uri": "https://localhost:8080/",
          "height": 391
        },
        "outputId": "f8b31dff-516c-4714-b453-18f48f46ff15"
      },
      "source": [
        "import numpy as np\n",
        "import matplotlib.pyplot as plt \n",
        "import pandas as pd  \n",
        "import seaborn as sns \n",
        "\n",
        "from sklearn.preprocessing import StandardScaler\n",
        "\n",
        "features = ['TotalSocialMediaDataVolume','TotalGoogleDataVolume', 'TotalEmailDataVolume', 'TotalYoutubeDataVolume', 'TotalNetflixDataVolume', 'TotalGamingDataVolume', 'TotalOtherDataVolume']\n",
        "\n",
        "# Separating out the features\n",
        "x = df.loc[:, features].values\n",
        "\n",
        "# Standardizing the features\n",
        "x = StandardScaler().fit_transform(x)\n",
        "x = pd.DataFrame(x)\n",
        "x"
      ],
      "execution_count": null,
      "outputs": [
        {
          "output_type": "execute_result",
          "data": {
            "text/html": [
              "<div>\n",
              "<style scoped>\n",
              "    .dataframe tbody tr th:only-of-type {\n",
              "        vertical-align: middle;\n",
              "    }\n",
              "\n",
              "    .dataframe tbody tr th {\n",
              "        vertical-align: top;\n",
              "    }\n",
              "\n",
              "    .dataframe thead th {\n",
              "        text-align: right;\n",
              "    }\n",
              "</style>\n",
              "<table border=\"1\" class=\"dataframe\">\n",
              "  <thead>\n",
              "    <tr style=\"text-align: right;\">\n",
              "      <th></th>\n",
              "      <th>0</th>\n",
              "      <th>1</th>\n",
              "      <th>2</th>\n",
              "      <th>3</th>\n",
              "      <th>4</th>\n",
              "      <th>5</th>\n",
              "      <th>6</th>\n",
              "    </tr>\n",
              "  </thead>\n",
              "  <tbody>\n",
              "    <tr>\n",
              "      <th>0</th>\n",
              "      <td>-0.249184</td>\n",
              "      <td>-1.393860e+00</td>\n",
              "      <td>1.346461</td>\n",
              "      <td>-0.463680</td>\n",
              "      <td>-5.154441e-01</td>\n",
              "      <td>-0.565147</td>\n",
              "      <td>-1.022770e+00</td>\n",
              "    </tr>\n",
              "    <tr>\n",
              "      <th>1</th>\n",
              "      <td>0.101413</td>\n",
              "      <td>-9.649614e-01</td>\n",
              "      <td>-1.233975</td>\n",
              "      <td>1.807728</td>\n",
              "      <td>1.396959e+00</td>\n",
              "      <td>0.735957</td>\n",
              "      <td>4.628409e-01</td>\n",
              "    </tr>\n",
              "    <tr>\n",
              "      <th>2</th>\n",
              "      <td>-0.098464</td>\n",
              "      <td>6.887210e-01</td>\n",
              "      <td>1.030731</td>\n",
              "      <td>1.274148</td>\n",
              "      <td>1.212203e-01</td>\n",
              "      <td>-0.821054</td>\n",
              "      <td>-5.942843e-02</td>\n",
              "    </tr>\n",
              "    <tr>\n",
              "      <th>3</th>\n",
              "      <td>-1.130464</td>\n",
              "      <td>1.138794e+00</td>\n",
              "      <td>-0.175631</td>\n",
              "      <td>1.502285</td>\n",
              "      <td>-8.137555e-01</td>\n",
              "      <td>1.557480</td>\n",
              "      <td>1.366694e+00</td>\n",
              "    </tr>\n",
              "    <tr>\n",
              "      <th>4</th>\n",
              "      <td>-0.883956</td>\n",
              "      <td>-1.662251e-02</td>\n",
              "      <td>-0.138878</td>\n",
              "      <td>1.252196</td>\n",
              "      <td>-5.495004e-01</td>\n",
              "      <td>0.413508</td>\n",
              "      <td>5.559913e-01</td>\n",
              "    </tr>\n",
              "    <tr>\n",
              "      <th>...</th>\n",
              "      <td>...</td>\n",
              "      <td>...</td>\n",
              "      <td>...</td>\n",
              "      <td>...</td>\n",
              "      <td>...</td>\n",
              "      <td>...</td>\n",
              "      <td>...</td>\n",
              "    </tr>\n",
              "    <tr>\n",
              "      <th>149996</th>\n",
              "      <td>1.630693</td>\n",
              "      <td>1.415541e+00</td>\n",
              "      <td>-1.464119</td>\n",
              "      <td>0.574429</td>\n",
              "      <td>1.612525e+00</td>\n",
              "      <td>0.432236</td>\n",
              "      <td>-1.696132e+00</td>\n",
              "    </tr>\n",
              "    <tr>\n",
              "      <th>149997</th>\n",
              "      <td>0.505899</td>\n",
              "      <td>-9.646017e-01</td>\n",
              "      <td>-0.128264</td>\n",
              "      <td>-0.051690</td>\n",
              "      <td>1.945265e+00</td>\n",
              "      <td>0.824915</td>\n",
              "      <td>1.172672e+00</td>\n",
              "    </tr>\n",
              "    <tr>\n",
              "      <th>149998</th>\n",
              "      <td>-0.548463</td>\n",
              "      <td>-3.474641e-01</td>\n",
              "      <td>-0.187493</td>\n",
              "      <td>0.202550</td>\n",
              "      <td>-8.205461e-01</td>\n",
              "      <td>0.559795</td>\n",
              "      <td>-1.220673e+00</td>\n",
              "    </tr>\n",
              "    <tr>\n",
              "      <th>149999</th>\n",
              "      <td>-0.970548</td>\n",
              "      <td>-1.422689e-02</td>\n",
              "      <td>0.552524</td>\n",
              "      <td>-0.597071</td>\n",
              "      <td>-6.623371e-01</td>\n",
              "      <td>-0.308446</td>\n",
              "      <td>1.589835e+00</td>\n",
              "    </tr>\n",
              "    <tr>\n",
              "      <th>150000</th>\n",
              "      <td>0.000000</td>\n",
              "      <td>-2.648505e-16</td>\n",
              "      <td>0.000000</td>\n",
              "      <td>0.000000</td>\n",
              "      <td>-4.022649e-16</td>\n",
              "      <td>0.000000</td>\n",
              "      <td>2.450171e-16</td>\n",
              "    </tr>\n",
              "  </tbody>\n",
              "</table>\n",
              "<p>150001 rows × 7 columns</p>\n",
              "</div>"
            ],
            "text/plain": [
              "               0             1         2  ...             4         5             6\n",
              "0      -0.249184 -1.393860e+00  1.346461  ... -5.154441e-01 -0.565147 -1.022770e+00\n",
              "1       0.101413 -9.649614e-01 -1.233975  ...  1.396959e+00  0.735957  4.628409e-01\n",
              "2      -0.098464  6.887210e-01  1.030731  ...  1.212203e-01 -0.821054 -5.942843e-02\n",
              "3      -1.130464  1.138794e+00 -0.175631  ... -8.137555e-01  1.557480  1.366694e+00\n",
              "4      -0.883956 -1.662251e-02 -0.138878  ... -5.495004e-01  0.413508  5.559913e-01\n",
              "...          ...           ...       ...  ...           ...       ...           ...\n",
              "149996  1.630693  1.415541e+00 -1.464119  ...  1.612525e+00  0.432236 -1.696132e+00\n",
              "149997  0.505899 -9.646017e-01 -0.128264  ...  1.945265e+00  0.824915  1.172672e+00\n",
              "149998 -0.548463 -3.474641e-01 -0.187493  ... -8.205461e-01  0.559795 -1.220673e+00\n",
              "149999 -0.970548 -1.422689e-02  0.552524  ... -6.623371e-01 -0.308446  1.589835e+00\n",
              "150000  0.000000 -2.648505e-16  0.000000  ... -4.022649e-16  0.000000  2.450171e-16\n",
              "\n",
              "[150001 rows x 7 columns]"
            ]
          },
          "metadata": {
            "tags": []
          },
          "execution_count": 35
        }
      ]
    },
    {
      "cell_type": "code",
      "metadata": {
        "id": "6sS0GdoJIBK4",
        "colab_type": "code",
        "colab": {
          "base_uri": "https://localhost:8080/",
          "height": 391
        },
        "outputId": "80c0d845-dc65-4a47-b008-f47a38cf7c47"
      },
      "source": [
        "from sklearn.decomposition import PCA\n",
        "pca = PCA(n_components=7)\n",
        "x_pca = pca.fit_transform(x)\n",
        "x_pca = pd.DataFrame(x_pca)\n",
        "x_pca"
      ],
      "execution_count": null,
      "outputs": [
        {
          "output_type": "execute_result",
          "data": {
            "text/html": [
              "<div>\n",
              "<style scoped>\n",
              "    .dataframe tbody tr th:only-of-type {\n",
              "        vertical-align: middle;\n",
              "    }\n",
              "\n",
              "    .dataframe tbody tr th {\n",
              "        vertical-align: top;\n",
              "    }\n",
              "\n",
              "    .dataframe thead th {\n",
              "        text-align: right;\n",
              "    }\n",
              "</style>\n",
              "<table border=\"1\" class=\"dataframe\">\n",
              "  <thead>\n",
              "    <tr style=\"text-align: right;\">\n",
              "      <th></th>\n",
              "      <th>0</th>\n",
              "      <th>1</th>\n",
              "      <th>2</th>\n",
              "      <th>3</th>\n",
              "      <th>4</th>\n",
              "      <th>5</th>\n",
              "      <th>6</th>\n",
              "    </tr>\n",
              "  </thead>\n",
              "  <tbody>\n",
              "    <tr>\n",
              "      <th>0</th>\n",
              "      <td>-5.074593e-01</td>\n",
              "      <td>-1.227157e+00</td>\n",
              "      <td>5.317994e-01</td>\n",
              "      <td>-5.936810e-02</td>\n",
              "      <td>-1.279046e+00</td>\n",
              "      <td>-9.595632e-01</td>\n",
              "      <td>1.028368e+00</td>\n",
              "    </tr>\n",
              "    <tr>\n",
              "      <th>1</th>\n",
              "      <td>-2.237921e-01</td>\n",
              "      <td>1.207905e+00</td>\n",
              "      <td>6.706560e-01</td>\n",
              "      <td>-2.033470e+00</td>\n",
              "      <td>1.334596e+00</td>\n",
              "      <td>-4.475735e-01</td>\n",
              "      <td>-6.033159e-01</td>\n",
              "    </tr>\n",
              "    <tr>\n",
              "      <th>2</th>\n",
              "      <td>-1.505479e-01</td>\n",
              "      <td>9.912913e-01</td>\n",
              "      <td>9.009066e-01</td>\n",
              "      <td>1.097659e+00</td>\n",
              "      <td>-2.019019e-03</td>\n",
              "      <td>-8.989525e-01</td>\n",
              "      <td>1.797665e-01</td>\n",
              "    </tr>\n",
              "    <tr>\n",
              "      <th>3</th>\n",
              "      <td>1.065456e+00</td>\n",
              "      <td>1.090465e+00</td>\n",
              "      <td>-1.473854e+00</td>\n",
              "      <td>4.078578e-01</td>\n",
              "      <td>1.333387e+00</td>\n",
              "      <td>-1.478023e+00</td>\n",
              "      <td>-1.092210e+00</td>\n",
              "    </tr>\n",
              "    <tr>\n",
              "      <th>4</th>\n",
              "      <td>4.643879e-01</td>\n",
              "      <td>9.043207e-01</td>\n",
              "      <td>-6.117943e-01</td>\n",
              "      <td>-2.472777e-01</td>\n",
              "      <td>2.979408e-01</td>\n",
              "      <td>-1.246819e+00</td>\n",
              "      <td>-1.969438e-01</td>\n",
              "    </tr>\n",
              "    <tr>\n",
              "      <th>...</th>\n",
              "      <td>...</td>\n",
              "      <td>...</td>\n",
              "      <td>...</td>\n",
              "      <td>...</td>\n",
              "      <td>...</td>\n",
              "      <td>...</td>\n",
              "      <td>...</td>\n",
              "    </tr>\n",
              "    <tr>\n",
              "      <th>149996</th>\n",
              "      <td>-1.572851e+00</td>\n",
              "      <td>7.641016e-01</td>\n",
              "      <td>5.741748e-01</td>\n",
              "      <td>4.828384e-02</td>\n",
              "      <td>2.327711e+00</td>\n",
              "      <td>1.889176e+00</td>\n",
              "      <td>6.507794e-01</td>\n",
              "    </tr>\n",
              "    <tr>\n",
              "      <th>149997</th>\n",
              "      <td>1.352603e-02</td>\n",
              "      <td>-4.318346e-01</td>\n",
              "      <td>1.199428e+00</td>\n",
              "      <td>-1.399000e+00</td>\n",
              "      <td>6.445793e-01</td>\n",
              "      <td>2.518680e-01</td>\n",
              "      <td>-1.727368e+00</td>\n",
              "    </tr>\n",
              "    <tr>\n",
              "      <th>149998</th>\n",
              "      <td>-5.837626e-01</td>\n",
              "      <td>-3.040117e-01</td>\n",
              "      <td>-9.645328e-01</td>\n",
              "      <td>-2.703817e-01</td>\n",
              "      <td>1.847461e-01</td>\n",
              "      <td>-6.516907e-01</td>\n",
              "      <td>1.038734e+00</td>\n",
              "    </tr>\n",
              "    <tr>\n",
              "      <th>149999</th>\n",
              "      <td>1.125085e+00</td>\n",
              "      <td>-6.720132e-02</td>\n",
              "      <td>-5.273745e-01</td>\n",
              "      <td>3.876185e-01</td>\n",
              "      <td>-1.245677e+00</td>\n",
              "      <td>-5.006770e-01</td>\n",
              "      <td>-1.079006e+00</td>\n",
              "    </tr>\n",
              "    <tr>\n",
              "      <th>150000</th>\n",
              "      <td>2.645995e-16</td>\n",
              "      <td>4.428037e-17</td>\n",
              "      <td>-2.646755e-16</td>\n",
              "      <td>-7.542126e-17</td>\n",
              "      <td>-8.222471e-17</td>\n",
              "      <td>1.006624e-16</td>\n",
              "      <td>1.176069e-16</td>\n",
              "    </tr>\n",
              "  </tbody>\n",
              "</table>\n",
              "<p>150001 rows × 7 columns</p>\n",
              "</div>"
            ],
            "text/plain": [
              "                   0             1  ...             5             6\n",
              "0      -5.074593e-01 -1.227157e+00  ... -9.595632e-01  1.028368e+00\n",
              "1      -2.237921e-01  1.207905e+00  ... -4.475735e-01 -6.033159e-01\n",
              "2      -1.505479e-01  9.912913e-01  ... -8.989525e-01  1.797665e-01\n",
              "3       1.065456e+00  1.090465e+00  ... -1.478023e+00 -1.092210e+00\n",
              "4       4.643879e-01  9.043207e-01  ... -1.246819e+00 -1.969438e-01\n",
              "...              ...           ...  ...           ...           ...\n",
              "149996 -1.572851e+00  7.641016e-01  ...  1.889176e+00  6.507794e-01\n",
              "149997  1.352603e-02 -4.318346e-01  ...  2.518680e-01 -1.727368e+00\n",
              "149998 -5.837626e-01 -3.040117e-01  ... -6.516907e-01  1.038734e+00\n",
              "149999  1.125085e+00 -6.720132e-02  ... -5.006770e-01 -1.079006e+00\n",
              "150000  2.645995e-16  4.428037e-17  ...  1.006624e-16  1.176069e-16\n",
              "\n",
              "[150001 rows x 7 columns]"
            ]
          },
          "metadata": {
            "tags": []
          },
          "execution_count": 53
        }
      ]
    },
    {
      "cell_type": "markdown",
      "metadata": {
        "id": "jcGL8epuJMbP",
        "colab_type": "text"
      },
      "source": [
        "The shape of my pca"
      ]
    },
    {
      "cell_type": "code",
      "metadata": {
        "id": "R8vIkD3QI9I-",
        "colab_type": "code",
        "colab": {
          "base_uri": "https://localhost:8080/",
          "height": 33
        },
        "outputId": "8d82a999-90a9-45b4-fc10-7b1c0bf06dd4"
      },
      "source": [
        "x_pca.shape"
      ],
      "execution_count": null,
      "outputs": [
        {
          "output_type": "execute_result",
          "data": {
            "text/plain": [
              "(150001, 7)"
            ]
          },
          "metadata": {
            "tags": []
          },
          "execution_count": 54
        }
      ]
    },
    {
      "cell_type": "markdown",
      "metadata": {
        "id": "u-niblpkI2oB",
        "colab_type": "text"
      },
      "source": [
        "What are the variances explained by each of the principal components? Use pca.explained_variance_ratio_ to return a vector of the variance:"
      ]
    },
    {
      "cell_type": "markdown",
      "metadata": {
        "id": "0job1OSaJIc-",
        "colab_type": "text"
      },
      "source": [
        "Explained variance is the amount of variance explained by each of the selected components. This attribute is associated with the sklearn PCA model as explained_variance_"
      ]
    },
    {
      "cell_type": "code",
      "metadata": {
        "id": "U6AqCnOcJWvp",
        "colab_type": "code",
        "colab": {
          "base_uri": "https://localhost:8080/",
          "height": 50
        },
        "outputId": "d868dcd9-5386-4261-e7bd-2f91a2d0deb3"
      },
      "source": [
        "pca.explained_variance_ "
      ],
      "execution_count": null,
      "outputs": [
        {
          "output_type": "execute_result",
          "data": {
            "text/plain": [
              "array([1.0105263 , 1.00626495, 1.00522925, 1.00018846, 0.99837738,\n",
              "       0.99319859, 0.98626173])"
            ]
          },
          "metadata": {
            "tags": []
          },
          "execution_count": 55
        }
      ]
    },
    {
      "cell_type": "markdown",
      "metadata": {
        "id": "v5Qaj0M8Jetg",
        "colab_type": "text"
      },
      "source": [
        "\n",
        "\n",
        "Explained variance ratio is the percentage of variance explained by each of the selected components. It’s attribute is explained_variance_ratio_"
      ]
    },
    {
      "cell_type": "code",
      "metadata": {
        "id": "ynQWc3yxIMqz",
        "colab_type": "code",
        "colab": {
          "base_uri": "https://localhost:8080/",
          "height": 50
        },
        "outputId": "f018fc28-9d7e-4854-abe6-0090888e7f90"
      },
      "source": [
        "pca.explained_variance_ratio_"
      ],
      "execution_count": null,
      "outputs": [
        {
          "output_type": "execute_result",
          "data": {
            "text/plain": [
              "array([0.14435994, 0.14375118, 0.14360322, 0.14288311, 0.14262439,\n",
              "       0.14188457, 0.14089359])"
            ]
          },
          "metadata": {
            "tags": []
          },
          "execution_count": 56
        }
      ]
    },
    {
      "cell_type": "markdown",
      "metadata": {
        "id": "nHppbKjaOHhJ",
        "colab_type": "text"
      },
      "source": [
        "It shows the first principal component accounts for 14.435% variance, the second, third and fourth account for 14.437%, 14.360%, 14.288%, 14.264%, 14.188% and 14.089% variance respectively. We can say 14.435 + 14.437 = 28.872% of the information is captured by the first and second principal components. \n",
        "\n",
        "So that means, performing the dimensionality reduction to reduce my features from 55 to 7 led to 100-(28.872%) loss in features which is bad\n",
        "\n",
        "We often want to keep only the significant features and drop the insignificant ones. A rule of thumb is to keep the top principal components that capture significant variance and ignore the small ones."
      ]
    },
    {
      "cell_type": "code",
      "metadata": {
        "id": "B75jX45pnWG_",
        "colab_type": "code",
        "colab": {
          "base_uri": "https://localhost:8080/",
          "height": 295
        },
        "outputId": "0a41ac48-95ad-41b2-81b9-162ab7877954"
      },
      "source": [
        "plt.bar(range(1,len(pca.explained_variance_ )+1),pca.explained_variance_ )\n",
        "plt.ylabel('Explained variance')\n",
        "plt.xlabel('Components')\n",
        "plt.plot(range(1,len(pca.explained_variance_ )+1),\n",
        "         np.cumsum(pca.explained_variance_),\n",
        "         c='red',\n",
        "         label=\"Cumulative Explained Variance\")\n",
        "plt.legend(loc='upper left')"
      ],
      "execution_count": null,
      "outputs": [
        {
          "output_type": "execute_result",
          "data": {
            "text/plain": [
              "<matplotlib.legend.Legend at 0x7f2a58d1ff60>"
            ]
          },
          "metadata": {
            "tags": []
          },
          "execution_count": 57
        },
        {
          "output_type": "display_data",
          "data": {
            "image/png": "[encoded data removed]",
            "text/plain": [
              "<Figure size 432x288 with 1 Axes>"
            ]
          },
          "metadata": {
            "tags": [],
            "needs_background": "light"
          }
        }
      ]
    },
    {
      "cell_type": "code",
      "metadata": {
        "id": "SkjpaDRQnerr",
        "colab_type": "code",
        "colab": {
          "base_uri": "https://localhost:8080/",
          "height": 278
        },
        "outputId": "e770078d-c1b3-4745-b9c6-88f703df08d5"
      },
      "source": [
        "plt.plot(pca.explained_variance_)\n",
        "plt.xlabel('number of components')\n",
        "plt.ylabel('cumulative explained variance')\n",
        "plt.show()"
      ],
      "execution_count": null,
      "outputs": [
        {
          "output_type": "display_data",
          "data": {
            "image/png": "[encoded data removed]",
            "text/plain": [
              "<Figure size 432x288 with 1 Axes>"
            ]
          },
          "metadata": {
            "tags": [],
            "needs_background": "light"
          }
        }
      ]
    },
    {
      "cell_type": "markdown",
      "metadata": {
        "id": "rAwoPpsBQyA9",
        "colab_type": "text"
      },
      "source": [
        "## TASK 2"
      ]
    },
    {
      "cell_type": "markdown",
      "metadata": {
        "id": "aAEkeyy4Q90q",
        "colab_type": "text"
      },
      "source": [
        "In the current dataset you’re expected to track the user’s engagement using the following engagement metrics:\n",
        "\n",
        "sessions frequency\n",
        "\n",
        "the duration of the session\n",
        "\n",
        "the sessions total traffic (download and upload (bytes))\n",
        "\n"
      ]
    },
    {
      "cell_type": "markdown",
      "metadata": {
        "id": "ibNCPaLWRHWw",
        "colab_type": "text"
      },
      "source": [
        "Aggregate the sessions frequency"
      ]
    },
    {
      "cell_type": "code",
      "metadata": {
        "id": "ybTQIYTYQ_9T",
        "colab_type": "code",
        "colab": {
          "base_uri": "https://localhost:8080/",
          "height": 420
        },
        "outputId": "767af70b-b597-430f-a762-c91317a22c25"
      },
      "source": [
        "session_frequency = df.groupby(['Bearer Id'], sort=False)['MSISDN/Number'].agg(['count'])\n",
        "session_frequency.columns = [\"Num of users\"]\n",
        "session_frequency"
      ],
      "execution_count": 100,
      "outputs": [
        {
          "output_type": "execute_result",
          "data": {
            "text/html": [
              "<div>\n",
              "<style scoped>\n",
              "    .dataframe tbody tr th:only-of-type {\n",
              "        vertical-align: middle;\n",
              "    }\n",
              "\n",
              "    .dataframe tbody tr th {\n",
              "        vertical-align: top;\n",
              "    }\n",
              "\n",
              "    .dataframe thead th {\n",
              "        text-align: right;\n",
              "    }\n",
              "</style>\n",
              "<table border=\"1\" class=\"dataframe\">\n",
              "  <thead>\n",
              "    <tr style=\"text-align: right;\">\n",
              "      <th></th>\n",
              "      <th>Num of users</th>\n",
              "    </tr>\n",
              "    <tr>\n",
              "      <th>Bearer Id</th>\n",
              "      <th></th>\n",
              "    </tr>\n",
              "  </thead>\n",
              "  <tbody>\n",
              "    <tr>\n",
              "      <th>13114483460844900352</th>\n",
              "      <td>1</td>\n",
              "    </tr>\n",
              "    <tr>\n",
              "      <th>13114483482878900224</th>\n",
              "      <td>1</td>\n",
              "    </tr>\n",
              "    <tr>\n",
              "      <th>13114483484080500736</th>\n",
              "      <td>1</td>\n",
              "    </tr>\n",
              "    <tr>\n",
              "      <th>13114483485442799616</th>\n",
              "      <td>1</td>\n",
              "    </tr>\n",
              "    <tr>\n",
              "      <th>13114483499480700928</th>\n",
              "      <td>1</td>\n",
              "    </tr>\n",
              "    <tr>\n",
              "      <th>...</th>\n",
              "      <td>...</td>\n",
              "    </tr>\n",
              "    <tr>\n",
              "      <th>13114483573367199744</th>\n",
              "      <td>2</td>\n",
              "    </tr>\n",
              "    <tr>\n",
              "      <th>13042425979329300480</th>\n",
              "      <td>1</td>\n",
              "    </tr>\n",
              "    <tr>\n",
              "      <th>7277825670196679680</th>\n",
              "      <td>1</td>\n",
              "    </tr>\n",
              "    <tr>\n",
              "      <th>7349883264234609664</th>\n",
              "      <td>1</td>\n",
              "    </tr>\n",
              "    <tr>\n",
              "      <th>13114483573367300096</th>\n",
              "      <td>2</td>\n",
              "    </tr>\n",
              "  </tbody>\n",
              "</table>\n",
              "<p>134709 rows × 1 columns</p>\n",
              "</div>"
            ],
            "text/plain": [
              "                      Num of users\n",
              "Bearer Id                         \n",
              "13114483460844900352             1\n",
              "13114483482878900224             1\n",
              "13114483484080500736             1\n",
              "13114483485442799616             1\n",
              "13114483499480700928             1\n",
              "...                            ...\n",
              "13114483573367199744             2\n",
              "13042425979329300480             1\n",
              "7277825670196679680              1\n",
              "7349883264234609664              1\n",
              "13114483573367300096             2\n",
              "\n",
              "[134709 rows x 1 columns]"
            ]
          },
          "metadata": {
            "tags": []
          },
          "execution_count": 100
        }
      ]
    },
    {
      "cell_type": "markdown",
      "metadata": {
        "id": "zU6P3svBRJEs",
        "colab_type": "text"
      },
      "source": [
        "Aggregate the duration of the session"
      ]
    },
    {
      "cell_type": "code",
      "metadata": {
        "id": "wAqeyJcwRCuu",
        "colab_type": "code",
        "colab": {
          "base_uri": "https://localhost:8080/",
          "height": 420
        },
        "outputId": "09379dd4-4706-4129-9ddb-29608573d311"
      },
      "source": [
        "session_duration = df.groupby(['MSISDN/Number'], sort=False)['Dur. (ms)'].agg(['sum'])\n",
        "session_duration.columns = [\"Session Duration\"]\n",
        "session_duration"
      ],
      "execution_count": null,
      "outputs": [
        {
          "output_type": "execute_result",
          "data": {
            "text/html": [
              "<div>\n",
              "<style scoped>\n",
              "    .dataframe tbody tr th:only-of-type {\n",
              "        vertical-align: middle;\n",
              "    }\n",
              "\n",
              "    .dataframe tbody tr th {\n",
              "        vertical-align: top;\n",
              "    }\n",
              "\n",
              "    .dataframe thead th {\n",
              "        text-align: right;\n",
              "    }\n",
              "</style>\n",
              "<table border=\"1\" class=\"dataframe\">\n",
              "  <thead>\n",
              "    <tr style=\"text-align: right;\">\n",
              "      <th></th>\n",
              "      <th>Session Duration</th>\n",
              "    </tr>\n",
              "    <tr>\n",
              "      <th>MSISDN/Number</th>\n",
              "      <th></th>\n",
              "    </tr>\n",
              "  </thead>\n",
              "  <tbody>\n",
              "    <tr>\n",
              "      <th>3.366496e+10</th>\n",
              "      <td>2083209.0</td>\n",
              "    </tr>\n",
              "    <tr>\n",
              "      <th>3.368185e+10</th>\n",
              "      <td>1698167.0</td>\n",
              "    </tr>\n",
              "    <tr>\n",
              "      <th>3.376063e+10</th>\n",
              "      <td>1361762.0</td>\n",
              "    </tr>\n",
              "    <tr>\n",
              "      <th>3.375034e+10</th>\n",
              "      <td>1321509.0</td>\n",
              "    </tr>\n",
              "    <tr>\n",
              "      <th>3.369980e+10</th>\n",
              "      <td>1089009.0</td>\n",
              "    </tr>\n",
              "    <tr>\n",
              "      <th>...</th>\n",
              "      <td>...</td>\n",
              "    </tr>\n",
              "    <tr>\n",
              "      <th>3.364566e+10</th>\n",
              "      <td>113545.0</td>\n",
              "    </tr>\n",
              "    <tr>\n",
              "      <th>3.366865e+10</th>\n",
              "      <td>59587.0</td>\n",
              "    </tr>\n",
              "    <tr>\n",
              "      <th>3.365069e+10</th>\n",
              "      <td>81230.0</td>\n",
              "    </tr>\n",
              "    <tr>\n",
              "      <th>3.362189e+10</th>\n",
              "      <td>98249.0</td>\n",
              "    </tr>\n",
              "    <tr>\n",
              "      <th>3.361962e+10</th>\n",
              "      <td>97910.0</td>\n",
              "    </tr>\n",
              "  </tbody>\n",
              "</table>\n",
              "<p>106857 rows × 1 columns</p>\n",
              "</div>"
            ],
            "text/plain": [
              "               Session Duration\n",
              "MSISDN/Number                  \n",
              "3.366496e+10          2083209.0\n",
              "3.368185e+10          1698167.0\n",
              "3.376063e+10          1361762.0\n",
              "3.375034e+10          1321509.0\n",
              "3.369980e+10          1089009.0\n",
              "...                         ...\n",
              "3.364566e+10           113545.0\n",
              "3.366865e+10            59587.0\n",
              "3.365069e+10            81230.0\n",
              "3.362189e+10            98249.0\n",
              "3.361962e+10            97910.0\n",
              "\n",
              "[106857 rows x 1 columns]"
            ]
          },
          "metadata": {
            "tags": []
          },
          "execution_count": 60
        }
      ]
    },
    {
      "cell_type": "markdown",
      "metadata": {
        "id": "jdB5wBMcRPap",
        "colab_type": "text"
      },
      "source": [
        "Aggregate the sessions total traffic (download and upload (bytes))\n"
      ]
    },
    {
      "cell_type": "code",
      "metadata": {
        "id": "wdT8Fhl0RSG5",
        "colab_type": "code",
        "colab": {
          "base_uri": "https://localhost:8080/",
          "height": 420
        },
        "outputId": "086be546-fa6e-40da-efe9-d48f3b4fe55c"
      },
      "source": [
        "df[\"TotalDLandUL\"]=df[\"Total DL (Bytes)\"]+df[\"Total UL (Bytes)\"]\n",
        "session_total_traffic = df.groupby(\"MSISDN/Number\")['TotalDLandUL'].agg(['sum'])\n",
        "session_total_traffic.columns = [\"TotalDLandUL\"]\n",
        "session_total_traffic"
      ],
      "execution_count": 97,
      "outputs": [
        {
          "output_type": "execute_result",
          "data": {
            "text/html": [
              "<div>\n",
              "<style scoped>\n",
              "    .dataframe tbody tr th:only-of-type {\n",
              "        vertical-align: middle;\n",
              "    }\n",
              "\n",
              "    .dataframe tbody tr th {\n",
              "        vertical-align: top;\n",
              "    }\n",
              "\n",
              "    .dataframe thead th {\n",
              "        text-align: right;\n",
              "    }\n",
              "</style>\n",
              "<table border=\"1\" class=\"dataframe\">\n",
              "  <thead>\n",
              "    <tr style=\"text-align: right;\">\n",
              "      <th></th>\n",
              "      <th>TotalDLandUL</th>\n",
              "    </tr>\n",
              "    <tr>\n",
              "      <th>MSISDN/Number</th>\n",
              "      <th></th>\n",
              "    </tr>\n",
              "  </thead>\n",
              "  <tbody>\n",
              "    <tr>\n",
              "      <th>3.360100e+10</th>\n",
              "      <td>8.786906e+08</td>\n",
              "    </tr>\n",
              "    <tr>\n",
              "      <th>3.360100e+10</th>\n",
              "      <td>1.568596e+08</td>\n",
              "    </tr>\n",
              "    <tr>\n",
              "      <th>3.360100e+10</th>\n",
              "      <td>5.959665e+08</td>\n",
              "    </tr>\n",
              "    <tr>\n",
              "      <th>3.360101e+10</th>\n",
              "      <td>4.223207e+08</td>\n",
              "    </tr>\n",
              "    <tr>\n",
              "      <th>3.360101e+10</th>\n",
              "      <td>1.457411e+09</td>\n",
              "    </tr>\n",
              "    <tr>\n",
              "      <th>...</th>\n",
              "      <td>...</td>\n",
              "    </tr>\n",
              "    <tr>\n",
              "      <th>3.379000e+10</th>\n",
              "      <td>4.803073e+08</td>\n",
              "    </tr>\n",
              "    <tr>\n",
              "      <th>4.188282e+10</th>\n",
              "      <td>5.317447e+11</td>\n",
              "    </tr>\n",
              "    <tr>\n",
              "      <th>3.197021e+12</th>\n",
              "      <td>2.321240e+08</td>\n",
              "    </tr>\n",
              "    <tr>\n",
              "      <th>3.370000e+14</th>\n",
              "      <td>5.962878e+08</td>\n",
              "    </tr>\n",
              "    <tr>\n",
              "      <th>8.823971e+14</th>\n",
              "      <td>1.391536e+08</td>\n",
              "    </tr>\n",
              "  </tbody>\n",
              "</table>\n",
              "<p>106857 rows × 1 columns</p>\n",
              "</div>"
            ],
            "text/plain": [
              "               TotalDLandUL\n",
              "MSISDN/Number              \n",
              "3.360100e+10   8.786906e+08\n",
              "3.360100e+10   1.568596e+08\n",
              "3.360100e+10   5.959665e+08\n",
              "3.360101e+10   4.223207e+08\n",
              "3.360101e+10   1.457411e+09\n",
              "...                     ...\n",
              "3.379000e+10   4.803073e+08\n",
              "4.188282e+10   5.317447e+11\n",
              "3.197021e+12   2.321240e+08\n",
              "3.370000e+14   5.962878e+08\n",
              "8.823971e+14   1.391536e+08\n",
              "\n",
              "[106857 rows x 1 columns]"
            ]
          },
          "metadata": {
            "tags": []
          },
          "execution_count": 97
        }
      ]
    },
    {
      "cell_type": "markdown",
      "metadata": {
        "id": "40XdwMLHRZKX",
        "colab_type": "text"
      },
      "source": [
        "## Task 2 - User Engagement analysis\n"
      ]
    },
    {
      "cell_type": "markdown",
      "metadata": {
        "id": "BPuGhJ2fRhjg",
        "colab_type": "text"
      },
      "source": [
        "Aggregate the above metrics per customer id (MSISDN) and report the top 10 customers per engagement metric"
      ]
    },
    {
      "cell_type": "markdown",
      "metadata": {
        "id": "nXYk-1qhSPvw",
        "colab_type": "text"
      },
      "source": [
        "sessions frequency \n"
      ]
    },
    {
      "cell_type": "code",
      "metadata": {
        "id": "MttQ7HGKRk4a",
        "colab_type": "code",
        "colab": {
          "base_uri": "https://localhost:8080/",
          "height": 363
        },
        "outputId": "097c9cfa-6b3b-468b-a0ea-a1e60482e419"
      },
      "source": [
        "top_10_customers_per_session_frequency = df.groupby(['MSISDN/Number'], sort=False)['Bearer Id'].agg(['count'])\n",
        "top_10_customers_per_session_frequency.columns = [\"Top_10_Customer_Per_Session_Frequency\"]\n",
        "top_10_customers_per_session_frequency.sort_values(by='Top_10_Customer_Per_Session_Frequency', ascending=False).head(10)"
      ],
      "execution_count": null,
      "outputs": [
        {
          "output_type": "execute_result",
          "data": {
            "text/html": [
              "<div>\n",
              "<style scoped>\n",
              "    .dataframe tbody tr th:only-of-type {\n",
              "        vertical-align: middle;\n",
              "    }\n",
              "\n",
              "    .dataframe tbody tr th {\n",
              "        vertical-align: top;\n",
              "    }\n",
              "\n",
              "    .dataframe thead th {\n",
              "        text-align: right;\n",
              "    }\n",
              "</style>\n",
              "<table border=\"1\" class=\"dataframe\">\n",
              "  <thead>\n",
              "    <tr style=\"text-align: right;\">\n",
              "      <th></th>\n",
              "      <th>Top_10_Customer_Per_Session_Frequency</th>\n",
              "    </tr>\n",
              "    <tr>\n",
              "      <th>MSISDN/Number</th>\n",
              "      <th></th>\n",
              "    </tr>\n",
              "  </thead>\n",
              "  <tbody>\n",
              "    <tr>\n",
              "      <th>4.188282e+10</th>\n",
              "      <td>1066</td>\n",
              "    </tr>\n",
              "    <tr>\n",
              "      <th>3.362632e+10</th>\n",
              "      <td>18</td>\n",
              "    </tr>\n",
              "    <tr>\n",
              "      <th>3.361489e+10</th>\n",
              "      <td>17</td>\n",
              "    </tr>\n",
              "    <tr>\n",
              "      <th>3.362578e+10</th>\n",
              "      <td>17</td>\n",
              "    </tr>\n",
              "    <tr>\n",
              "      <th>3.365973e+10</th>\n",
              "      <td>16</td>\n",
              "    </tr>\n",
              "    <tr>\n",
              "      <th>3.376054e+10</th>\n",
              "      <td>15</td>\n",
              "    </tr>\n",
              "    <tr>\n",
              "      <th>3.367588e+10</th>\n",
              "      <td>15</td>\n",
              "    </tr>\n",
              "    <tr>\n",
              "      <th>3.366716e+10</th>\n",
              "      <td>13</td>\n",
              "    </tr>\n",
              "    <tr>\n",
              "      <th>3.360452e+10</th>\n",
              "      <td>12</td>\n",
              "    </tr>\n",
              "    <tr>\n",
              "      <th>3.360313e+10</th>\n",
              "      <td>12</td>\n",
              "    </tr>\n",
              "  </tbody>\n",
              "</table>\n",
              "</div>"
            ],
            "text/plain": [
              "               Top_10_Customer_Per_Session_Frequency\n",
              "MSISDN/Number                                       \n",
              "4.188282e+10                                    1066\n",
              "3.362632e+10                                      18\n",
              "3.361489e+10                                      17\n",
              "3.362578e+10                                      17\n",
              "3.365973e+10                                      16\n",
              "3.376054e+10                                      15\n",
              "3.367588e+10                                      15\n",
              "3.366716e+10                                      13\n",
              "3.360452e+10                                      12\n",
              "3.360313e+10                                      12"
            ]
          },
          "metadata": {
            "tags": []
          },
          "execution_count": 62
        }
      ]
    },
    {
      "cell_type": "markdown",
      "metadata": {
        "id": "76M3XsVxRohi",
        "colab_type": "text"
      },
      "source": [
        "the duration of the session \n"
      ]
    },
    {
      "cell_type": "code",
      "metadata": {
        "id": "GLe23872RwJ9",
        "colab_type": "code",
        "colab": {
          "base_uri": "https://localhost:8080/",
          "height": 363
        },
        "outputId": "30567f6e-7a90-4412-f441-38a29e06bd2b"
      },
      "source": [
        "top_10_customers_per_session_duration = df.groupby(['MSISDN/Number'], sort=False)['Dur. (ms)'].agg(['sum'])\n",
        "top_10_customers_per_session_duration.columns = [\"Top_10_Customer_Per_Session_Duration\"]\n",
        "top_10_customers_per_session_duration.sort_values(by='Top_10_Customer_Per_Session_Duration', ascending=False).head(10)"
      ],
      "execution_count": null,
      "outputs": [
        {
          "output_type": "execute_result",
          "data": {
            "text/html": [
              "<div>\n",
              "<style scoped>\n",
              "    .dataframe tbody tr th:only-of-type {\n",
              "        vertical-align: middle;\n",
              "    }\n",
              "\n",
              "    .dataframe tbody tr th {\n",
              "        vertical-align: top;\n",
              "    }\n",
              "\n",
              "    .dataframe thead th {\n",
              "        text-align: right;\n",
              "    }\n",
              "</style>\n",
              "<table border=\"1\" class=\"dataframe\">\n",
              "  <thead>\n",
              "    <tr style=\"text-align: right;\">\n",
              "      <th></th>\n",
              "      <th>Top_10_Customer_Per_Session_Duration</th>\n",
              "    </tr>\n",
              "    <tr>\n",
              "      <th>MSISDN/Number</th>\n",
              "      <th></th>\n",
              "    </tr>\n",
              "  </thead>\n",
              "  <tbody>\n",
              "    <tr>\n",
              "      <th>4.188282e+10</th>\n",
              "      <td>7.255100e+07</td>\n",
              "    </tr>\n",
              "    <tr>\n",
              "      <th>3.362578e+10</th>\n",
              "      <td>1.855375e+07</td>\n",
              "    </tr>\n",
              "    <tr>\n",
              "      <th>3.361489e+10</th>\n",
              "      <td>9.966898e+06</td>\n",
              "    </tr>\n",
              "    <tr>\n",
              "      <th>3.376054e+10</th>\n",
              "      <td>9.279434e+06</td>\n",
              "    </tr>\n",
              "    <tr>\n",
              "      <th>3.362632e+10</th>\n",
              "      <td>8.791927e+06</td>\n",
              "    </tr>\n",
              "    <tr>\n",
              "      <th>3.366716e+10</th>\n",
              "      <td>8.744914e+06</td>\n",
              "    </tr>\n",
              "    <tr>\n",
              "      <th>3.366284e+10</th>\n",
              "      <td>6.614270e+06</td>\n",
              "    </tr>\n",
              "    <tr>\n",
              "      <th>3.366469e+10</th>\n",
              "      <td>6.288730e+06</td>\n",
              "    </tr>\n",
              "    <tr>\n",
              "      <th>3.360313e+10</th>\n",
              "      <td>6.287761e+06</td>\n",
              "    </tr>\n",
              "    <tr>\n",
              "      <th>3.366746e+10</th>\n",
              "      <td>5.649882e+06</td>\n",
              "    </tr>\n",
              "  </tbody>\n",
              "</table>\n",
              "</div>"
            ],
            "text/plain": [
              "               Top_10_Customer_Per_Session_Duration\n",
              "MSISDN/Number                                      \n",
              "4.188282e+10                           7.255100e+07\n",
              "3.362578e+10                           1.855375e+07\n",
              "3.361489e+10                           9.966898e+06\n",
              "3.376054e+10                           9.279434e+06\n",
              "3.362632e+10                           8.791927e+06\n",
              "3.366716e+10                           8.744914e+06\n",
              "3.366284e+10                           6.614270e+06\n",
              "3.366469e+10                           6.288730e+06\n",
              "3.360313e+10                           6.287761e+06\n",
              "3.366746e+10                           5.649882e+06"
            ]
          },
          "metadata": {
            "tags": []
          },
          "execution_count": 64
        }
      ]
    },
    {
      "cell_type": "markdown",
      "metadata": {
        "id": "9HAOkGofSsSc",
        "colab_type": "text"
      },
      "source": [
        "the sessions total traffic (download and upload (bytes))\n"
      ]
    },
    {
      "cell_type": "code",
      "metadata": {
        "id": "lWOEUdjiSiD8",
        "colab_type": "code",
        "colab": {
          "base_uri": "https://localhost:8080/",
          "height": 363
        },
        "outputId": "0177946f-f441-45f8-a81c-8cb3e802c888"
      },
      "source": [
        "top_10_customers_per_session_total_traffic = df.groupby(['MSISDN/Number'], sort=False)['TotalDLandUL'].agg(['sum'])\n",
        "top_10_customers_per_session_total_traffic.columns = [\"Top_10_Customer_Per_Session_Total_Traffic\"]\n",
        "top_10_customers_per_session_total_traffic.sort_values(by='Top_10_Customer_Per_Session_Total_Traffic', ascending=False).head(10)"
      ],
      "execution_count": null,
      "outputs": [
        {
          "output_type": "execute_result",
          "data": {
            "text/html": [
              "<div>\n",
              "<style scoped>\n",
              "    .dataframe tbody tr th:only-of-type {\n",
              "        vertical-align: middle;\n",
              "    }\n",
              "\n",
              "    .dataframe tbody tr th {\n",
              "        vertical-align: top;\n",
              "    }\n",
              "\n",
              "    .dataframe thead th {\n",
              "        text-align: right;\n",
              "    }\n",
              "</style>\n",
              "<table border=\"1\" class=\"dataframe\">\n",
              "  <thead>\n",
              "    <tr style=\"text-align: right;\">\n",
              "      <th></th>\n",
              "      <th>Top_10_Customer_Per_Session_Total_Traffic</th>\n",
              "    </tr>\n",
              "    <tr>\n",
              "      <th>MSISDN/Number</th>\n",
              "      <th></th>\n",
              "    </tr>\n",
              "  </thead>\n",
              "  <tbody>\n",
              "    <tr>\n",
              "      <th>4.188282e+10</th>\n",
              "      <td>5.317447e+11</td>\n",
              "    </tr>\n",
              "    <tr>\n",
              "      <th>3.361489e+10</th>\n",
              "      <td>8.846226e+09</td>\n",
              "    </tr>\n",
              "    <tr>\n",
              "      <th>3.376054e+10</th>\n",
              "      <td>8.514774e+09</td>\n",
              "    </tr>\n",
              "    <tr>\n",
              "      <th>3.362578e+10</th>\n",
              "      <td>8.499621e+09</td>\n",
              "    </tr>\n",
              "    <tr>\n",
              "      <th>3.362632e+10</th>\n",
              "      <td>7.971167e+09</td>\n",
              "    </tr>\n",
              "    <tr>\n",
              "      <th>3.367588e+10</th>\n",
              "      <td>7.891111e+09</td>\n",
              "    </tr>\n",
              "    <tr>\n",
              "      <th>3.365973e+10</th>\n",
              "      <td>7.705863e+09</td>\n",
              "    </tr>\n",
              "    <tr>\n",
              "      <th>3.366646e+10</th>\n",
              "      <td>7.308501e+09</td>\n",
              "    </tr>\n",
              "    <tr>\n",
              "      <th>3.376041e+10</th>\n",
              "      <td>7.132371e+09</td>\n",
              "    </tr>\n",
              "    <tr>\n",
              "      <th>3.366471e+10</th>\n",
              "      <td>6.872018e+09</td>\n",
              "    </tr>\n",
              "  </tbody>\n",
              "</table>\n",
              "</div>"
            ],
            "text/plain": [
              "               Top_10_Customer_Per_Session_Total_Traffic\n",
              "MSISDN/Number                                           \n",
              "4.188282e+10                                5.317447e+11\n",
              "3.361489e+10                                8.846226e+09\n",
              "3.376054e+10                                8.514774e+09\n",
              "3.362578e+10                                8.499621e+09\n",
              "3.362632e+10                                7.971167e+09\n",
              "3.367588e+10                                7.891111e+09\n",
              "3.365973e+10                                7.705863e+09\n",
              "3.366646e+10                                7.308501e+09\n",
              "3.376041e+10                                7.132371e+09\n",
              "3.366471e+10                                6.872018e+09"
            ]
          },
          "metadata": {
            "tags": []
          },
          "execution_count": 66
        }
      ]
    },
    {
      "cell_type": "markdown",
      "metadata": {
        "id": "HrRf0JNhSw3u",
        "colab_type": "text"
      },
      "source": [
        "*Create* a new data frame that has only the engagement metrics (that is session frequency, duration and total data)"
      ]
    },
    {
      "cell_type": "code",
      "metadata": {
        "id": "D7GawnwgSjgD",
        "colab_type": "code",
        "colab": {
          "base_uri": "https://localhost:8080/",
          "height": 420
        },
        "outputId": "3f9a7b94-8c59-4c91-a509-15444552c130"
      },
      "source": [
        "final_df = pd.concat([top_10_customers_per_session_frequency['Top_10_Customer_Per_Session_Frequency'], top_10_customers_per_session_duration['Top_10_Customer_Per_Session_Duration'], top_10_customers_per_session_total_traffic['Top_10_Customer_Per_Session_Total_Traffic']], axis=1)\n",
        "final_df"
      ],
      "execution_count": null,
      "outputs": [
        {
          "output_type": "execute_result",
          "data": {
            "text/html": [
              "<div>\n",
              "<style scoped>\n",
              "    .dataframe tbody tr th:only-of-type {\n",
              "        vertical-align: middle;\n",
              "    }\n",
              "\n",
              "    .dataframe tbody tr th {\n",
              "        vertical-align: top;\n",
              "    }\n",
              "\n",
              "    .dataframe thead th {\n",
              "        text-align: right;\n",
              "    }\n",
              "</style>\n",
              "<table border=\"1\" class=\"dataframe\">\n",
              "  <thead>\n",
              "    <tr style=\"text-align: right;\">\n",
              "      <th></th>\n",
              "      <th>Top_10_Customer_Per_Session_Frequency</th>\n",
              "      <th>Top_10_Customer_Per_Session_Duration</th>\n",
              "      <th>Top_10_Customer_Per_Session_Total_Traffic</th>\n",
              "    </tr>\n",
              "    <tr>\n",
              "      <th>MSISDN/Number</th>\n",
              "      <th></th>\n",
              "      <th></th>\n",
              "      <th></th>\n",
              "    </tr>\n",
              "  </thead>\n",
              "  <tbody>\n",
              "    <tr>\n",
              "      <th>3.366496e+10</th>\n",
              "      <td>2</td>\n",
              "      <td>2083209.0</td>\n",
              "      <td>626149824.0</td>\n",
              "    </tr>\n",
              "    <tr>\n",
              "      <th>3.368185e+10</th>\n",
              "      <td>2</td>\n",
              "      <td>1698167.0</td>\n",
              "      <td>930950812.0</td>\n",
              "    </tr>\n",
              "    <tr>\n",
              "      <th>3.376063e+10</th>\n",
              "      <td>1</td>\n",
              "      <td>1361762.0</td>\n",
              "      <td>307690973.0</td>\n",
              "    </tr>\n",
              "    <tr>\n",
              "      <th>3.375034e+10</th>\n",
              "      <td>1</td>\n",
              "      <td>1321509.0</td>\n",
              "      <td>889352748.0</td>\n",
              "    </tr>\n",
              "    <tr>\n",
              "      <th>3.369980e+10</th>\n",
              "      <td>1</td>\n",
              "      <td>1089009.0</td>\n",
              "      <td>607681403.0</td>\n",
              "    </tr>\n",
              "    <tr>\n",
              "      <th>...</th>\n",
              "      <td>...</td>\n",
              "      <td>...</td>\n",
              "      <td>...</td>\n",
              "    </tr>\n",
              "    <tr>\n",
              "      <th>3.364566e+10</th>\n",
              "      <td>1</td>\n",
              "      <td>113545.0</td>\n",
              "      <td>922173944.0</td>\n",
              "    </tr>\n",
              "    <tr>\n",
              "      <th>3.366865e+10</th>\n",
              "      <td>1</td>\n",
              "      <td>59587.0</td>\n",
              "      <td>872761860.0</td>\n",
              "    </tr>\n",
              "    <tr>\n",
              "      <th>3.365069e+10</th>\n",
              "      <td>1</td>\n",
              "      <td>81230.0</td>\n",
              "      <td>631804110.0</td>\n",
              "    </tr>\n",
              "    <tr>\n",
              "      <th>3.362189e+10</th>\n",
              "      <td>1</td>\n",
              "      <td>98249.0</td>\n",
              "      <td>627698629.0</td>\n",
              "    </tr>\n",
              "    <tr>\n",
              "      <th>3.361962e+10</th>\n",
              "      <td>1</td>\n",
              "      <td>97910.0</td>\n",
              "      <td>401522016.0</td>\n",
              "    </tr>\n",
              "  </tbody>\n",
              "</table>\n",
              "<p>106857 rows × 3 columns</p>\n",
              "</div>"
            ],
            "text/plain": [
              "               Top_10_Customer_Per_Session_Frequency  ...  Top_10_Customer_Per_Session_Total_Traffic\n",
              "MSISDN/Number                                         ...                                           \n",
              "3.366496e+10                                       2  ...                                626149824.0\n",
              "3.368185e+10                                       2  ...                                930950812.0\n",
              "3.376063e+10                                       1  ...                                307690973.0\n",
              "3.375034e+10                                       1  ...                                889352748.0\n",
              "3.369980e+10                                       1  ...                                607681403.0\n",
              "...                                              ...  ...                                        ...\n",
              "3.364566e+10                                       1  ...                                922173944.0\n",
              "3.366865e+10                                       1  ...                                872761860.0\n",
              "3.365069e+10                                       1  ...                                631804110.0\n",
              "3.362189e+10                                       1  ...                                627698629.0\n",
              "3.361962e+10                                       1  ...                                401522016.0\n",
              "\n",
              "[106857 rows x 3 columns]"
            ]
          },
          "metadata": {
            "tags": []
          },
          "execution_count": 67
        }
      ]
    },
    {
      "cell_type": "markdown",
      "metadata": {
        "id": "iFKEYfc_ScOf",
        "colab_type": "text"
      },
      "source": [
        "Normalize each engagement metric and run a k-means (k=3) to classify customers in three groups of engagement."
      ]
    },
    {
      "cell_type": "code",
      "metadata": {
        "id": "rWKnr3NmS6P8",
        "colab_type": "code",
        "colab": {
          "base_uri": "https://localhost:8080/",
          "height": 420
        },
        "outputId": "ee3cf350-47e3-4576-d064-54c393bb9a07"
      },
      "source": [
        "import pandas as pd\n",
        "from sklearn import preprocessing\n",
        "\n",
        "normalized_df=(final_df-final_df.mean())/final_df.std()\n",
        "normalized_df"
      ],
      "execution_count": null,
      "outputs": [
        {
          "output_type": "execute_result",
          "data": {
            "text/html": [
              "<div>\n",
              "<style scoped>\n",
              "    .dataframe tbody tr th:only-of-type {\n",
              "        vertical-align: middle;\n",
              "    }\n",
              "\n",
              "    .dataframe tbody tr th {\n",
              "        vertical-align: top;\n",
              "    }\n",
              "\n",
              "    .dataframe thead th {\n",
              "        text-align: right;\n",
              "    }\n",
              "</style>\n",
              "<table border=\"1\" class=\"dataframe\">\n",
              "  <thead>\n",
              "    <tr style=\"text-align: right;\">\n",
              "      <th></th>\n",
              "      <th>Top_10_Customer_Per_Session_Frequency</th>\n",
              "      <th>Top_10_Customer_Per_Session_Duration</th>\n",
              "      <th>Top_10_Customer_Per_Session_Total_Traffic</th>\n",
              "    </tr>\n",
              "    <tr>\n",
              "      <th>MSISDN/Number</th>\n",
              "      <th></th>\n",
              "      <th></th>\n",
              "      <th></th>\n",
              "    </tr>\n",
              "  </thead>\n",
              "  <tbody>\n",
              "    <tr>\n",
              "      <th>3.366496e+10</th>\n",
              "      <td>0.177717</td>\n",
              "      <td>6.689468</td>\n",
              "      <td>-0.041117</td>\n",
              "    </tr>\n",
              "    <tr>\n",
              "      <th>3.368185e+10</th>\n",
              "      <td>0.177717</td>\n",
              "      <td>5.359281</td>\n",
              "      <td>0.138478</td>\n",
              "    </tr>\n",
              "    <tr>\n",
              "      <th>3.376063e+10</th>\n",
              "      <td>-0.120343</td>\n",
              "      <td>4.197119</td>\n",
              "      <td>-0.228759</td>\n",
              "    </tr>\n",
              "    <tr>\n",
              "      <th>3.375034e+10</th>\n",
              "      <td>-0.120343</td>\n",
              "      <td>4.058058</td>\n",
              "      <td>0.113968</td>\n",
              "    </tr>\n",
              "    <tr>\n",
              "      <th>3.369980e+10</th>\n",
              "      <td>-0.120343</td>\n",
              "      <td>3.254851</td>\n",
              "      <td>-0.051999</td>\n",
              "    </tr>\n",
              "    <tr>\n",
              "      <th>...</th>\n",
              "      <td>...</td>\n",
              "      <td>...</td>\n",
              "      <td>...</td>\n",
              "    </tr>\n",
              "    <tr>\n",
              "      <th>3.364566e+10</th>\n",
              "      <td>-0.120343</td>\n",
              "      <td>-0.115039</td>\n",
              "      <td>0.133306</td>\n",
              "    </tr>\n",
              "    <tr>\n",
              "      <th>3.366865e+10</th>\n",
              "      <td>-0.120343</td>\n",
              "      <td>-0.301445</td>\n",
              "      <td>0.104192</td>\n",
              "    </tr>\n",
              "    <tr>\n",
              "      <th>3.365069e+10</th>\n",
              "      <td>-0.120343</td>\n",
              "      <td>-0.226676</td>\n",
              "      <td>-0.037785</td>\n",
              "    </tr>\n",
              "    <tr>\n",
              "      <th>3.362189e+10</th>\n",
              "      <td>-0.120343</td>\n",
              "      <td>-0.167881</td>\n",
              "      <td>-0.040204</td>\n",
              "    </tr>\n",
              "    <tr>\n",
              "      <th>3.361962e+10</th>\n",
              "      <td>-0.120343</td>\n",
              "      <td>-0.169053</td>\n",
              "      <td>-0.173472</td>\n",
              "    </tr>\n",
              "  </tbody>\n",
              "</table>\n",
              "<p>106857 rows × 3 columns</p>\n",
              "</div>"
            ],
            "text/plain": [
              "               Top_10_Customer_Per_Session_Frequency  ...  Top_10_Customer_Per_Session_Total_Traffic\n",
              "MSISDN/Number                                         ...                                           \n",
              "3.366496e+10                                0.177717  ...                                  -0.041117\n",
              "3.368185e+10                                0.177717  ...                                   0.138478\n",
              "3.376063e+10                               -0.120343  ...                                  -0.228759\n",
              "3.375034e+10                               -0.120343  ...                                   0.113968\n",
              "3.369980e+10                               -0.120343  ...                                  -0.051999\n",
              "...                                              ...  ...                                        ...\n",
              "3.364566e+10                               -0.120343  ...                                   0.133306\n",
              "3.366865e+10                               -0.120343  ...                                   0.104192\n",
              "3.365069e+10                               -0.120343  ...                                  -0.037785\n",
              "3.362189e+10                               -0.120343  ...                                  -0.040204\n",
              "3.361962e+10                               -0.120343  ...                                  -0.173472\n",
              "\n",
              "[106857 rows x 3 columns]"
            ]
          },
          "metadata": {
            "tags": []
          },
          "execution_count": 69
        }
      ]
    },
    {
      "cell_type": "code",
      "metadata": {
        "id": "nOiypu2dTJk0",
        "colab_type": "code",
        "colab": {
          "base_uri": "https://localhost:8080/",
          "height": 313
        },
        "outputId": "afb682fa-9262-4004-ffcf-95cabb0b05d5"
      },
      "source": [
        "import pandas as pd\n",
        "import numpy as np\n",
        "from sklearn.cluster import KMeans\n",
        "from sklearn.preprocessing import LabelEncoder\n",
        "from sklearn.preprocessing import MinMaxScaler\n",
        "import seaborn as sns\n",
        "import matplotlib.pyplot as plt\n",
        "%matplotlib inline\n",
        "\n",
        "kmeans = KMeans(n_clusters=3).fit(normalized_df)\n",
        "centroids = kmeans.cluster_centers_\n",
        "print(centroids)\n",
        "\n",
        "plt.scatter(normalized_df.iloc[:,0],normalized_df.iloc[:,1], c=kmeans.labels_, cmap='rainbow')\n",
        "plt.show()"
      ],
      "execution_count": null,
      "outputs": [
        {
          "output_type": "stream",
          "text": [
            "[[ 5.32980307e-01  1.20869984e+00  5.52319780e-01]\n",
            " [ 3.17313336e+02  2.50131313e+02  3.12904816e+02]\n",
            " [-5.36586718e-02 -1.16878778e-01 -5.54426041e-02]]\n"
          ],
          "name": "stdout"
        },
        {
          "output_type": "display_data",
          "data": {
            "image/png": "[encoded data removed]",
            "text/plain": [
              "<Figure size 432x288 with 1 Axes>"
            ]
          },
          "metadata": {
            "tags": [],
            "needs_background": "light"
          }
        }
      ]
    },
    {
      "cell_type": "markdown",
      "metadata": {
        "id": "eOib714zTy5j",
        "colab_type": "text"
      },
      "source": [
        "Compute the minimum, maximum, average & total non- normalized metrics for each cluster. Interpret your results visually with accompanying text."
      ]
    },
    {
      "cell_type": "code",
      "metadata": {
        "id": "iq0ymJwkTzyY",
        "colab_type": "code",
        "colab": {
          "base_uri": "https://localhost:8080/",
          "height": 420
        },
        "outputId": "91b20ee7-ad19-439f-9e43-4a2cd2c58575"
      },
      "source": [
        "final_df['cluster'] = kmeans.labels_\n",
        "final_df"
      ],
      "execution_count": 101,
      "outputs": [
        {
          "output_type": "execute_result",
          "data": {
            "text/html": [
              "<div>\n",
              "<style scoped>\n",
              "    .dataframe tbody tr th:only-of-type {\n",
              "        vertical-align: middle;\n",
              "    }\n",
              "\n",
              "    .dataframe tbody tr th {\n",
              "        vertical-align: top;\n",
              "    }\n",
              "\n",
              "    .dataframe thead th {\n",
              "        text-align: right;\n",
              "    }\n",
              "</style>\n",
              "<table border=\"1\" class=\"dataframe\">\n",
              "  <thead>\n",
              "    <tr style=\"text-align: right;\">\n",
              "      <th></th>\n",
              "      <th>Top_10_Customer_Per_Session_Frequency</th>\n",
              "      <th>Top_10_Customer_Per_Session_Duration</th>\n",
              "      <th>Top_10_Customer_Per_Session_Total_Traffic</th>\n",
              "      <th>cluster</th>\n",
              "    </tr>\n",
              "    <tr>\n",
              "      <th>MSISDN/Number</th>\n",
              "      <th></th>\n",
              "      <th></th>\n",
              "      <th></th>\n",
              "      <th></th>\n",
              "    </tr>\n",
              "  </thead>\n",
              "  <tbody>\n",
              "    <tr>\n",
              "      <th>3.366496e+10</th>\n",
              "      <td>2</td>\n",
              "      <td>2083209.0</td>\n",
              "      <td>626149824.0</td>\n",
              "      <td>0</td>\n",
              "    </tr>\n",
              "    <tr>\n",
              "      <th>3.368185e+10</th>\n",
              "      <td>2</td>\n",
              "      <td>1698167.0</td>\n",
              "      <td>930950812.0</td>\n",
              "      <td>0</td>\n",
              "    </tr>\n",
              "    <tr>\n",
              "      <th>3.376063e+10</th>\n",
              "      <td>1</td>\n",
              "      <td>1361762.0</td>\n",
              "      <td>307690973.0</td>\n",
              "      <td>0</td>\n",
              "    </tr>\n",
              "    <tr>\n",
              "      <th>3.375034e+10</th>\n",
              "      <td>1</td>\n",
              "      <td>1321509.0</td>\n",
              "      <td>889352748.0</td>\n",
              "      <td>0</td>\n",
              "    </tr>\n",
              "    <tr>\n",
              "      <th>3.369980e+10</th>\n",
              "      <td>1</td>\n",
              "      <td>1089009.0</td>\n",
              "      <td>607681403.0</td>\n",
              "      <td>0</td>\n",
              "    </tr>\n",
              "    <tr>\n",
              "      <th>...</th>\n",
              "      <td>...</td>\n",
              "      <td>...</td>\n",
              "      <td>...</td>\n",
              "      <td>...</td>\n",
              "    </tr>\n",
              "    <tr>\n",
              "      <th>3.364566e+10</th>\n",
              "      <td>1</td>\n",
              "      <td>113545.0</td>\n",
              "      <td>922173944.0</td>\n",
              "      <td>2</td>\n",
              "    </tr>\n",
              "    <tr>\n",
              "      <th>3.366865e+10</th>\n",
              "      <td>1</td>\n",
              "      <td>59587.0</td>\n",
              "      <td>872761860.0</td>\n",
              "      <td>2</td>\n",
              "    </tr>\n",
              "    <tr>\n",
              "      <th>3.365069e+10</th>\n",
              "      <td>1</td>\n",
              "      <td>81230.0</td>\n",
              "      <td>631804110.0</td>\n",
              "      <td>2</td>\n",
              "    </tr>\n",
              "    <tr>\n",
              "      <th>3.362189e+10</th>\n",
              "      <td>1</td>\n",
              "      <td>98249.0</td>\n",
              "      <td>627698629.0</td>\n",
              "      <td>2</td>\n",
              "    </tr>\n",
              "    <tr>\n",
              "      <th>3.361962e+10</th>\n",
              "      <td>1</td>\n",
              "      <td>97910.0</td>\n",
              "      <td>401522016.0</td>\n",
              "      <td>2</td>\n",
              "    </tr>\n",
              "  </tbody>\n",
              "</table>\n",
              "<p>106857 rows × 4 columns</p>\n",
              "</div>"
            ],
            "text/plain": [
              "               Top_10_Customer_Per_Session_Frequency  ...  cluster\n",
              "MSISDN/Number                                         ...         \n",
              "3.366496e+10                                       2  ...        0\n",
              "3.368185e+10                                       2  ...        0\n",
              "3.376063e+10                                       1  ...        0\n",
              "3.375034e+10                                       1  ...        0\n",
              "3.369980e+10                                       1  ...        0\n",
              "...                                              ...  ...      ...\n",
              "3.364566e+10                                       1  ...        2\n",
              "3.366865e+10                                       1  ...        2\n",
              "3.365069e+10                                       1  ...        2\n",
              "3.362189e+10                                       1  ...        2\n",
              "3.361962e+10                                       1  ...        2\n",
              "\n",
              "[106857 rows x 4 columns]"
            ]
          },
          "metadata": {
            "tags": []
          },
          "execution_count": 101
        }
      ]
    },
    {
      "cell_type": "markdown",
      "metadata": {
        "id": "kcHKIBJbcLie",
        "colab_type": "text"
      },
      "source": [
        "Minimum for Each Cluster"
      ]
    },
    {
      "cell_type": "code",
      "metadata": {
        "id": "pZQEXDviUHt1",
        "colab_type": "code",
        "colab": {
          "base_uri": "https://localhost:8080/",
          "height": 162
        },
        "outputId": "7a1bd32d-10cd-4994-a97f-7c125b838fc5"
      },
      "source": [
        "cluters_min = final_df.groupby(['cluster'], sort=False)['cluster'].agg(['min'])\n",
        "cluters_min.columns = [\"Cluster\"]\n",
        "cluters_min"
      ],
      "execution_count": 93,
      "outputs": [
        {
          "output_type": "execute_result",
          "data": {
            "text/html": [
              "<div>\n",
              "<style scoped>\n",
              "    .dataframe tbody tr th:only-of-type {\n",
              "        vertical-align: middle;\n",
              "    }\n",
              "\n",
              "    .dataframe tbody tr th {\n",
              "        vertical-align: top;\n",
              "    }\n",
              "\n",
              "    .dataframe thead th {\n",
              "        text-align: right;\n",
              "    }\n",
              "</style>\n",
              "<table border=\"1\" class=\"dataframe\">\n",
              "  <thead>\n",
              "    <tr style=\"text-align: right;\">\n",
              "      <th></th>\n",
              "      <th>Cluster</th>\n",
              "    </tr>\n",
              "    <tr>\n",
              "      <th>cluster</th>\n",
              "      <th></th>\n",
              "    </tr>\n",
              "  </thead>\n",
              "  <tbody>\n",
              "    <tr>\n",
              "      <th>0</th>\n",
              "      <td>0</td>\n",
              "    </tr>\n",
              "    <tr>\n",
              "      <th>2</th>\n",
              "      <td>2</td>\n",
              "    </tr>\n",
              "    <tr>\n",
              "      <th>1</th>\n",
              "      <td>1</td>\n",
              "    </tr>\n",
              "  </tbody>\n",
              "</table>\n",
              "</div>"
            ],
            "text/plain": [
              "         Cluster\n",
              "cluster         \n",
              "0              0\n",
              "2              2\n",
              "1              1"
            ]
          },
          "metadata": {
            "tags": []
          },
          "execution_count": 93
        }
      ]
    },
    {
      "cell_type": "markdown",
      "metadata": {
        "id": "IDkhM4zxcRZi",
        "colab_type": "text"
      },
      "source": [
        "Maximum for Each Cluster"
      ]
    },
    {
      "cell_type": "code",
      "metadata": {
        "id": "TEzwKlB9UIwT",
        "colab_type": "code",
        "colab": {
          "base_uri": "https://localhost:8080/",
          "height": 162
        },
        "outputId": "cc389c53-3a2f-4cff-eaf5-5a6c0cc7f461"
      },
      "source": [
        "cluters_max = final_df.groupby(['cluster'], sort=False)['cluster'].agg(['max'])\n",
        "cluters_max.columns = [\"Cluster\"]\n",
        "cluters_max"
      ],
      "execution_count": 103,
      "outputs": [
        {
          "output_type": "execute_result",
          "data": {
            "text/html": [
              "<div>\n",
              "<style scoped>\n",
              "    .dataframe tbody tr th:only-of-type {\n",
              "        vertical-align: middle;\n",
              "    }\n",
              "\n",
              "    .dataframe tbody tr th {\n",
              "        vertical-align: top;\n",
              "    }\n",
              "\n",
              "    .dataframe thead th {\n",
              "        text-align: right;\n",
              "    }\n",
              "</style>\n",
              "<table border=\"1\" class=\"dataframe\">\n",
              "  <thead>\n",
              "    <tr style=\"text-align: right;\">\n",
              "      <th></th>\n",
              "      <th>Cluster</th>\n",
              "    </tr>\n",
              "    <tr>\n",
              "      <th>cluster</th>\n",
              "      <th></th>\n",
              "    </tr>\n",
              "  </thead>\n",
              "  <tbody>\n",
              "    <tr>\n",
              "      <th>0</th>\n",
              "      <td>0</td>\n",
              "    </tr>\n",
              "    <tr>\n",
              "      <th>2</th>\n",
              "      <td>2</td>\n",
              "    </tr>\n",
              "    <tr>\n",
              "      <th>1</th>\n",
              "      <td>1</td>\n",
              "    </tr>\n",
              "  </tbody>\n",
              "</table>\n",
              "</div>"
            ],
            "text/plain": [
              "         Cluster\n",
              "cluster         \n",
              "0              0\n",
              "2              2\n",
              "1              1"
            ]
          },
          "metadata": {
            "tags": []
          },
          "execution_count": 103
        }
      ]
    },
    {
      "cell_type": "markdown",
      "metadata": {
        "id": "wDHXe9uBcUW0",
        "colab_type": "text"
      },
      "source": [
        "Average for Each Cluster"
      ]
    },
    {
      "cell_type": "code",
      "metadata": {
        "id": "ANjH8pr7UM08",
        "colab_type": "code",
        "colab": {
          "base_uri": "https://localhost:8080/",
          "height": 162
        },
        "outputId": "199f2b11-33da-45ca-8596-a48903792160"
      },
      "source": [
        "cluters_mean = final_df.groupby(['cluster'], sort=False)['cluster'].agg(['mean'])\n",
        "cluters_mean.columns = [\"Cluster\"]\n",
        "cluters_mean"
      ],
      "execution_count": null,
      "outputs": [
        {
          "output_type": "execute_result",
          "data": {
            "text/html": [
              "<div>\n",
              "<style scoped>\n",
              "    .dataframe tbody tr th:only-of-type {\n",
              "        vertical-align: middle;\n",
              "    }\n",
              "\n",
              "    .dataframe tbody tr th {\n",
              "        vertical-align: top;\n",
              "    }\n",
              "\n",
              "    .dataframe thead th {\n",
              "        text-align: right;\n",
              "    }\n",
              "</style>\n",
              "<table border=\"1\" class=\"dataframe\">\n",
              "  <thead>\n",
              "    <tr style=\"text-align: right;\">\n",
              "      <th></th>\n",
              "      <th>Cluster</th>\n",
              "    </tr>\n",
              "    <tr>\n",
              "      <th>cluster</th>\n",
              "      <th></th>\n",
              "    </tr>\n",
              "  </thead>\n",
              "  <tbody>\n",
              "    <tr>\n",
              "      <th>0</th>\n",
              "      <td>0</td>\n",
              "    </tr>\n",
              "    <tr>\n",
              "      <th>2</th>\n",
              "      <td>2</td>\n",
              "    </tr>\n",
              "    <tr>\n",
              "      <th>1</th>\n",
              "      <td>1</td>\n",
              "    </tr>\n",
              "  </tbody>\n",
              "</table>\n",
              "</div>"
            ],
            "text/plain": [
              "         Cluster\n",
              "cluster         \n",
              "0              0\n",
              "2              2\n",
              "1              1"
            ]
          },
          "metadata": {
            "tags": []
          },
          "execution_count": 75
        }
      ]
    },
    {
      "cell_type": "markdown",
      "metadata": {
        "id": "pGk5o60kcWki",
        "colab_type": "text"
      },
      "source": [
        "Total for Each Cluster"
      ]
    },
    {
      "cell_type": "code",
      "metadata": {
        "id": "zXjciX-NUQLG",
        "colab_type": "code",
        "colab": {
          "base_uri": "https://localhost:8080/",
          "height": 162
        },
        "outputId": "3368294f-a0ad-464b-fcf6-08f9b434e022"
      },
      "source": [
        "cluters_sum = final_df.groupby(['cluster'], sort=False)['cluster'].agg(['sum'])\n",
        "cluters_sum.columns = [\"Cluster\"]\n",
        "cluters_sum"
      ],
      "execution_count": 104,
      "outputs": [
        {
          "output_type": "execute_result",
          "data": {
            "text/html": [
              "<div>\n",
              "<style scoped>\n",
              "    .dataframe tbody tr th:only-of-type {\n",
              "        vertical-align: middle;\n",
              "    }\n",
              "\n",
              "    .dataframe tbody tr th {\n",
              "        vertical-align: top;\n",
              "    }\n",
              "\n",
              "    .dataframe thead th {\n",
              "        text-align: right;\n",
              "    }\n",
              "</style>\n",
              "<table border=\"1\" class=\"dataframe\">\n",
              "  <thead>\n",
              "    <tr style=\"text-align: right;\">\n",
              "      <th></th>\n",
              "      <th>Cluster</th>\n",
              "    </tr>\n",
              "    <tr>\n",
              "      <th>cluster</th>\n",
              "      <th></th>\n",
              "    </tr>\n",
              "  </thead>\n",
              "  <tbody>\n",
              "    <tr>\n",
              "      <th>0</th>\n",
              "      <td>0</td>\n",
              "    </tr>\n",
              "    <tr>\n",
              "      <th>2</th>\n",
              "      <td>195352</td>\n",
              "    </tr>\n",
              "    <tr>\n",
              "      <th>1</th>\n",
              "      <td>1</td>\n",
              "    </tr>\n",
              "  </tbody>\n",
              "</table>\n",
              "</div>"
            ],
            "text/plain": [
              "         Cluster\n",
              "cluster         \n",
              "0              0\n",
              "2         195352\n",
              "1              1"
            ]
          },
          "metadata": {
            "tags": []
          },
          "execution_count": 104
        }
      ]
    },
    {
      "cell_type": "markdown",
      "metadata": {
        "id": "SJgAKoPAUeVL",
        "colab_type": "text"
      },
      "source": [
        "Aggregate user total traffic per application and derive the top 10 most engaged users per application"
      ]
    },
    {
      "cell_type": "code",
      "metadata": {
        "id": "d947VO1_VTZT",
        "colab_type": "code",
        "colab": {
          "base_uri": "https://localhost:8080/",
          "height": 248
        },
        "outputId": "55e6cd30-22e0-4a44-bd2c-961526bbda6c"
      },
      "source": [
        "data = {\n",
        "        'Application': ['Social Media', 'Google', 'Email', 'Youtube', 'Netflix', 'Gaming', 'Others'],\n",
        "        'TotalBytesofEachApplication': [df[\"TotalSocialMediaDataVolume\"].max(),df[\"TotalGoogleDataVolume\"].max(),df[\"TotalEmailDataVolume\"].max(),df[\"TotalYoutubeDataVolume\"].max(),df[\"TotalNetflixDataVolume\"].max(), df[\"TotalGamingDataVolume\"].max(), df[\"TotalOtherDataVolume\"].max()],\n",
        "        }\n",
        "\n",
        "df_2 = pd.DataFrame (data, columns = ['Application', 'TotalBytesofEachApplication'])\n",
        "df_2"
      ],
      "execution_count": null,
      "outputs": [
        {
          "output_type": "execute_result",
          "data": {
            "text/html": [
              "<div>\n",
              "<style scoped>\n",
              "    .dataframe tbody tr th:only-of-type {\n",
              "        vertical-align: middle;\n",
              "    }\n",
              "\n",
              "    .dataframe tbody tr th {\n",
              "        vertical-align: top;\n",
              "    }\n",
              "\n",
              "    .dataframe thead th {\n",
              "        text-align: right;\n",
              "    }\n",
              "</style>\n",
              "<table border=\"1\" class=\"dataframe\">\n",
              "  <thead>\n",
              "    <tr style=\"text-align: right;\">\n",
              "      <th></th>\n",
              "      <th>Application</th>\n",
              "      <th>TotalBytesofEachApplication</th>\n",
              "    </tr>\n",
              "  </thead>\n",
              "  <tbody>\n",
              "    <tr>\n",
              "      <th>0</th>\n",
              "      <td>Social Media</td>\n",
              "      <td>3650861.0</td>\n",
              "    </tr>\n",
              "    <tr>\n",
              "      <th>1</th>\n",
              "      <td>Google</td>\n",
              "      <td>15528782.0</td>\n",
              "    </tr>\n",
              "    <tr>\n",
              "      <th>2</th>\n",
              "      <td>Email</td>\n",
              "      <td>4518036.0</td>\n",
              "    </tr>\n",
              "    <tr>\n",
              "      <th>3</th>\n",
              "      <td>Youtube</td>\n",
              "      <td>45190078.0</td>\n",
              "    </tr>\n",
              "    <tr>\n",
              "      <th>4</th>\n",
              "      <td>Netflix</td>\n",
              "      <td>45198153.0</td>\n",
              "    </tr>\n",
              "    <tr>\n",
              "      <th>5</th>\n",
              "      <td>Gaming</td>\n",
              "      <td>859202784.0</td>\n",
              "    </tr>\n",
              "    <tr>\n",
              "      <th>6</th>\n",
              "      <td>Others</td>\n",
              "      <td>859520934.0</td>\n",
              "    </tr>\n",
              "  </tbody>\n",
              "</table>\n",
              "</div>"
            ],
            "text/plain": [
              "    Application  TotalBytesofEachApplication\n",
              "0  Social Media                    3650861.0\n",
              "1        Google                   15528782.0\n",
              "2         Email                    4518036.0\n",
              "3       Youtube                   45190078.0\n",
              "4       Netflix                   45198153.0\n",
              "5        Gaming                  859202784.0\n",
              "6        Others                  859520934.0"
            ]
          },
          "metadata": {
            "tags": []
          },
          "execution_count": 80
        }
      ]
    },
    {
      "cell_type": "markdown",
      "metadata": {
        "id": "ZRTH0PhdVI-J",
        "colab_type": "text"
      },
      "source": [
        "top 10 social media users"
      ]
    },
    {
      "cell_type": "code",
      "metadata": {
        "id": "-iPGAy2CUhuL",
        "colab_type": "code",
        "colab": {
          "base_uri": "https://localhost:8080/",
          "height": 363
        },
        "outputId": "7dbb78f5-345a-4059-e711-5cabeeb45f30"
      },
      "source": [
        "top_10_socialmedia_users = df.groupby(['TotalSocialMediaDataVolume'], sort=False)['MSISDN/Number'].agg(['sum'])\n",
        "top_10_socialmedia_users.columns = [\"Top_10_Socialmedia_Users\"]\n",
        "top_10_socialmedia_users.sort_values(by='Top_10_Socialmedia_Users', ascending=False).head(10)"
      ],
      "execution_count": null,
      "outputs": [
        {
          "output_type": "execute_result",
          "data": {
            "text/html": [
              "<div>\n",
              "<style scoped>\n",
              "    .dataframe tbody tr th:only-of-type {\n",
              "        vertical-align: middle;\n",
              "    }\n",
              "\n",
              "    .dataframe tbody tr th {\n",
              "        vertical-align: top;\n",
              "    }\n",
              "\n",
              "    .dataframe thead th {\n",
              "        text-align: right;\n",
              "    }\n",
              "</style>\n",
              "<table border=\"1\" class=\"dataframe\">\n",
              "  <thead>\n",
              "    <tr style=\"text-align: right;\">\n",
              "      <th></th>\n",
              "      <th>Top_10_Socialmedia_Users</th>\n",
              "    </tr>\n",
              "    <tr>\n",
              "      <th>TotalSocialMediaDataVolume</th>\n",
              "      <th></th>\n",
              "    </tr>\n",
              "  </thead>\n",
              "  <tbody>\n",
              "    <tr>\n",
              "      <th>1546088.0</th>\n",
              "      <td>8.823971e+14</td>\n",
              "    </tr>\n",
              "    <tr>\n",
              "      <th>521566.0</th>\n",
              "      <td>3.370000e+14</td>\n",
              "    </tr>\n",
              "    <tr>\n",
              "      <th>715224.0</th>\n",
              "      <td>3.197021e+12</td>\n",
              "    </tr>\n",
              "    <tr>\n",
              "      <th>1422688.0</th>\n",
              "      <td>1.012235e+11</td>\n",
              "    </tr>\n",
              "    <tr>\n",
              "      <th>2479177.0</th>\n",
              "      <td>1.012088e+11</td>\n",
              "    </tr>\n",
              "    <tr>\n",
              "      <th>3190415.0</th>\n",
              "      <td>1.011934e+11</td>\n",
              "    </tr>\n",
              "    <tr>\n",
              "      <th>2327236.0</th>\n",
              "      <td>1.011857e+11</td>\n",
              "    </tr>\n",
              "    <tr>\n",
              "      <th>2800470.0</th>\n",
              "      <td>1.011846e+11</td>\n",
              "    </tr>\n",
              "    <tr>\n",
              "      <th>934728.0</th>\n",
              "      <td>1.011204e+11</td>\n",
              "    </tr>\n",
              "    <tr>\n",
              "      <th>2651219.0</th>\n",
              "      <td>1.011082e+11</td>\n",
              "    </tr>\n",
              "  </tbody>\n",
              "</table>\n",
              "</div>"
            ],
            "text/plain": [
              "                            Top_10_Socialmedia_Users\n",
              "TotalSocialMediaDataVolume                          \n",
              "1546088.0                               8.823971e+14\n",
              "521566.0                                3.370000e+14\n",
              "715224.0                                3.197021e+12\n",
              "1422688.0                               1.012235e+11\n",
              "2479177.0                               1.012088e+11\n",
              "3190415.0                               1.011934e+11\n",
              "2327236.0                               1.011857e+11\n",
              "2800470.0                               1.011846e+11\n",
              "934728.0                                1.011204e+11\n",
              "2651219.0                               1.011082e+11"
            ]
          },
          "metadata": {
            "tags": []
          },
          "execution_count": 79
        }
      ]
    },
    {
      "cell_type": "markdown",
      "metadata": {
        "id": "To-cmeC-VXTU",
        "colab_type": "text"
      },
      "source": [
        "top 10 google users"
      ]
    },
    {
      "cell_type": "code",
      "metadata": {
        "id": "zWnkYuzlVaEM",
        "colab_type": "code",
        "colab": {
          "base_uri": "https://localhost:8080/",
          "height": 363
        },
        "outputId": "edc01fd0-b487-4820-dd30-39b3d980061a"
      },
      "source": [
        "top_10_google_users = df.groupby(['TotalGoogleDataVolume'], sort=False)['MSISDN/Number'].agg(['sum'])\n",
        "top_10_google_users.columns = [\"Top_10_Google_Users\"]\n",
        "top_10_google_users.sort_values(by='Top_10_Google_Users', ascending=False).head(10)"
      ],
      "execution_count": null,
      "outputs": [
        {
          "output_type": "execute_result",
          "data": {
            "text/html": [
              "<div>\n",
              "<style scoped>\n",
              "    .dataframe tbody tr th:only-of-type {\n",
              "        vertical-align: middle;\n",
              "    }\n",
              "\n",
              "    .dataframe tbody tr th {\n",
              "        vertical-align: top;\n",
              "    }\n",
              "\n",
              "    .dataframe thead th {\n",
              "        text-align: right;\n",
              "    }\n",
              "</style>\n",
              "<table border=\"1\" class=\"dataframe\">\n",
              "  <thead>\n",
              "    <tr style=\"text-align: right;\">\n",
              "      <th></th>\n",
              "      <th>Top_10_Google_Users</th>\n",
              "    </tr>\n",
              "    <tr>\n",
              "      <th>TotalGoogleDataVolume</th>\n",
              "      <th></th>\n",
              "    </tr>\n",
              "  </thead>\n",
              "  <tbody>\n",
              "    <tr>\n",
              "      <th>9218647.0</th>\n",
              "      <td>8.823971e+14</td>\n",
              "    </tr>\n",
              "    <tr>\n",
              "      <th>9830617.0</th>\n",
              "      <td>3.370000e+14</td>\n",
              "    </tr>\n",
              "    <tr>\n",
              "      <th>10438660.0</th>\n",
              "      <td>3.197021e+12</td>\n",
              "    </tr>\n",
              "    <tr>\n",
              "      <th>10206791.0</th>\n",
              "      <td>1.011240e+11</td>\n",
              "    </tr>\n",
              "    <tr>\n",
              "      <th>8789923.0</th>\n",
              "      <td>1.010637e+11</td>\n",
              "    </tr>\n",
              "    <tr>\n",
              "      <th>5240092.0</th>\n",
              "      <td>1.009921e+11</td>\n",
              "    </tr>\n",
              "    <tr>\n",
              "      <th>2547743.0</th>\n",
              "      <td>7.567148e+10</td>\n",
              "    </tr>\n",
              "    <tr>\n",
              "      <th>9949290.0</th>\n",
              "      <td>7.557268e+10</td>\n",
              "    </tr>\n",
              "    <tr>\n",
              "      <th>11383027.0</th>\n",
              "      <td>7.555239e+10</td>\n",
              "    </tr>\n",
              "    <tr>\n",
              "      <th>10926278.0</th>\n",
              "      <td>7.555011e+10</td>\n",
              "    </tr>\n",
              "  </tbody>\n",
              "</table>\n",
              "</div>"
            ],
            "text/plain": [
              "                       Top_10_Google_Users\n",
              "TotalGoogleDataVolume                     \n",
              "9218647.0                     8.823971e+14\n",
              "9830617.0                     3.370000e+14\n",
              "10438660.0                    3.197021e+12\n",
              "10206791.0                    1.011240e+11\n",
              "8789923.0                     1.010637e+11\n",
              "5240092.0                     1.009921e+11\n",
              "2547743.0                     7.567148e+10\n",
              "9949290.0                     7.557268e+10\n",
              "11383027.0                    7.555239e+10\n",
              "10926278.0                    7.555011e+10"
            ]
          },
          "metadata": {
            "tags": []
          },
          "execution_count": 81
        }
      ]
    },
    {
      "cell_type": "markdown",
      "metadata": {
        "id": "5CMs8WviVfPo",
        "colab_type": "text"
      },
      "source": [
        "top 10 email users"
      ]
    },
    {
      "cell_type": "code",
      "metadata": {
        "id": "5Zj3HbVNVhem",
        "colab_type": "code",
        "colab": {
          "base_uri": "https://localhost:8080/",
          "height": 363
        },
        "outputId": "51f85421-653b-4b89-e74c-8b7e8733f787"
      },
      "source": [
        "top_10_email_users = df.groupby(['TotalEmailDataVolume'], sort=False)['MSISDN/Number'].agg(['sum'])\n",
        "top_10_email_users.columns = [\"Top_10_Email_Users\"]\n",
        "top_10_email_users.sort_values(by='Top_10_Email_Users', ascending=False).head(10)"
      ],
      "execution_count": null,
      "outputs": [
        {
          "output_type": "execute_result",
          "data": {
            "text/html": [
              "<div>\n",
              "<style scoped>\n",
              "    .dataframe tbody tr th:only-of-type {\n",
              "        vertical-align: middle;\n",
              "    }\n",
              "\n",
              "    .dataframe tbody tr th {\n",
              "        vertical-align: top;\n",
              "    }\n",
              "\n",
              "    .dataframe thead th {\n",
              "        text-align: right;\n",
              "    }\n",
              "</style>\n",
              "<table border=\"1\" class=\"dataframe\">\n",
              "  <thead>\n",
              "    <tr style=\"text-align: right;\">\n",
              "      <th></th>\n",
              "      <th>Top_10_Email_Users</th>\n",
              "    </tr>\n",
              "    <tr>\n",
              "      <th>TotalEmailDataVolume</th>\n",
              "      <th></th>\n",
              "    </tr>\n",
              "  </thead>\n",
              "  <tbody>\n",
              "    <tr>\n",
              "      <th>3330974.0</th>\n",
              "      <td>8.823971e+14</td>\n",
              "    </tr>\n",
              "    <tr>\n",
              "      <th>3318582.0</th>\n",
              "      <td>3.370000e+14</td>\n",
              "    </tr>\n",
              "    <tr>\n",
              "      <th>1520771.0</th>\n",
              "      <td>3.197021e+12</td>\n",
              "    </tr>\n",
              "    <tr>\n",
              "      <th>1151999.0</th>\n",
              "      <td>1.011560e+11</td>\n",
              "    </tr>\n",
              "    <tr>\n",
              "      <th>3016932.0</th>\n",
              "      <td>1.011203e+11</td>\n",
              "    </tr>\n",
              "    <tr>\n",
              "      <th>3185944.0</th>\n",
              "      <td>1.011111e+11</td>\n",
              "    </tr>\n",
              "    <tr>\n",
              "      <th>2519489.0</th>\n",
              "      <td>1.011092e+11</td>\n",
              "    </tr>\n",
              "    <tr>\n",
              "      <th>969429.0</th>\n",
              "      <td>1.010962e+11</td>\n",
              "    </tr>\n",
              "    <tr>\n",
              "      <th>1335788.0</th>\n",
              "      <td>1.010919e+11</td>\n",
              "    </tr>\n",
              "    <tr>\n",
              "      <th>2630831.0</th>\n",
              "      <td>1.010892e+11</td>\n",
              "    </tr>\n",
              "  </tbody>\n",
              "</table>\n",
              "</div>"
            ],
            "text/plain": [
              "                      Top_10_Email_Users\n",
              "TotalEmailDataVolume                    \n",
              "3330974.0                   8.823971e+14\n",
              "3318582.0                   3.370000e+14\n",
              "1520771.0                   3.197021e+12\n",
              "1151999.0                   1.011560e+11\n",
              "3016932.0                   1.011203e+11\n",
              "3185944.0                   1.011111e+11\n",
              "2519489.0                   1.011092e+11\n",
              "969429.0                    1.010962e+11\n",
              "1335788.0                   1.010919e+11\n",
              "2630831.0                   1.010892e+11"
            ]
          },
          "metadata": {
            "tags": []
          },
          "execution_count": 82
        }
      ]
    },
    {
      "cell_type": "markdown",
      "metadata": {
        "id": "5Lhlgs9aVmP2",
        "colab_type": "text"
      },
      "source": [
        "top 10 youtube users"
      ]
    },
    {
      "cell_type": "code",
      "metadata": {
        "id": "AOCbP16-Vmtj",
        "colab_type": "code",
        "colab": {
          "base_uri": "https://localhost:8080/",
          "height": 363
        },
        "outputId": "3cdf3417-cd23-47d4-e925-25fd3272c86d"
      },
      "source": [
        "top_10_youtube_users = df.groupby(['TotalYoutubeDataVolume'], sort=False)['MSISDN/Number'].agg(['sum'])\n",
        "top_10_youtube_users.columns = [\"Top_10_Youtube_Users\"]\n",
        "top_10_youtube_users.sort_values(by='Top_10_Youtube_Users', ascending=False).head(10)"
      ],
      "execution_count": null,
      "outputs": [
        {
          "output_type": "execute_result",
          "data": {
            "text/html": [
              "<div>\n",
              "<style scoped>\n",
              "    .dataframe tbody tr th:only-of-type {\n",
              "        vertical-align: middle;\n",
              "    }\n",
              "\n",
              "    .dataframe tbody tr th {\n",
              "        vertical-align: top;\n",
              "    }\n",
              "\n",
              "    .dataframe thead th {\n",
              "        text-align: right;\n",
              "    }\n",
              "</style>\n",
              "<table border=\"1\" class=\"dataframe\">\n",
              "  <thead>\n",
              "    <tr style=\"text-align: right;\">\n",
              "      <th></th>\n",
              "      <th>Top_10_Youtube_Users</th>\n",
              "    </tr>\n",
              "    <tr>\n",
              "      <th>TotalYoutubeDataVolume</th>\n",
              "      <th></th>\n",
              "    </tr>\n",
              "  </thead>\n",
              "  <tbody>\n",
              "    <tr>\n",
              "      <th>40940710.0</th>\n",
              "      <td>8.823971e+14</td>\n",
              "    </tr>\n",
              "    <tr>\n",
              "      <th>36734940.0</th>\n",
              "      <td>3.370000e+14</td>\n",
              "    </tr>\n",
              "    <tr>\n",
              "      <th>11959905.0</th>\n",
              "      <td>3.197021e+12</td>\n",
              "    </tr>\n",
              "    <tr>\n",
              "      <th>18836800.0</th>\n",
              "      <td>1.009696e+11</td>\n",
              "    </tr>\n",
              "    <tr>\n",
              "      <th>34003356.0</th>\n",
              "      <td>1.009607e+11</td>\n",
              "    </tr>\n",
              "    <tr>\n",
              "      <th>28588683.0</th>\n",
              "      <td>1.009299e+11</td>\n",
              "    </tr>\n",
              "    <tr>\n",
              "      <th>17996078.0</th>\n",
              "      <td>7.564722e+10</td>\n",
              "    </tr>\n",
              "    <tr>\n",
              "      <th>19950316.0</th>\n",
              "      <td>7.564368e+10</td>\n",
              "    </tr>\n",
              "    <tr>\n",
              "      <th>21452805.0</th>\n",
              "      <td>7.556577e+10</td>\n",
              "    </tr>\n",
              "    <tr>\n",
              "      <th>13775355.0</th>\n",
              "      <td>7.554559e+10</td>\n",
              "    </tr>\n",
              "  </tbody>\n",
              "</table>\n",
              "</div>"
            ],
            "text/plain": [
              "                        Top_10_Youtube_Users\n",
              "TotalYoutubeDataVolume                      \n",
              "40940710.0                      8.823971e+14\n",
              "36734940.0                      3.370000e+14\n",
              "11959905.0                      3.197021e+12\n",
              "18836800.0                      1.009696e+11\n",
              "34003356.0                      1.009607e+11\n",
              "28588683.0                      1.009299e+11\n",
              "17996078.0                      7.564722e+10\n",
              "19950316.0                      7.564368e+10\n",
              "21452805.0                      7.556577e+10\n",
              "13775355.0                      7.554559e+10"
            ]
          },
          "metadata": {
            "tags": []
          },
          "execution_count": 83
        }
      ]
    },
    {
      "cell_type": "markdown",
      "metadata": {
        "id": "v2na1LwYVtkb",
        "colab_type": "text"
      },
      "source": [
        "top 10 netflix users"
      ]
    },
    {
      "cell_type": "code",
      "metadata": {
        "id": "mkSs1B4FVuGw",
        "colab_type": "code",
        "colab": {
          "base_uri": "https://localhost:8080/",
          "height": 363
        },
        "outputId": "7c13c958-d62b-487d-869d-4925a17e6705"
      },
      "source": [
        "top_10_netflix_users = df.groupby(['TotalNetflixDataVolume'], sort=False)['MSISDN/Number'].agg(['sum'])\n",
        "top_10_netflix_users.columns = [\"Top_10_Netflix_Users\"]\n",
        "top_10_netflix_users.sort_values(by='Top_10_Netflix_Users', ascending=False).head(10)"
      ],
      "execution_count": null,
      "outputs": [
        {
          "output_type": "execute_result",
          "data": {
            "text/html": [
              "<div>\n",
              "<style scoped>\n",
              "    .dataframe tbody tr th:only-of-type {\n",
              "        vertical-align: middle;\n",
              "    }\n",
              "\n",
              "    .dataframe tbody tr th {\n",
              "        vertical-align: top;\n",
              "    }\n",
              "\n",
              "    .dataframe thead th {\n",
              "        text-align: right;\n",
              "    }\n",
              "</style>\n",
              "<table border=\"1\" class=\"dataframe\">\n",
              "  <thead>\n",
              "    <tr style=\"text-align: right;\">\n",
              "      <th></th>\n",
              "      <th>Top_10_Netflix_Users</th>\n",
              "    </tr>\n",
              "    <tr>\n",
              "      <th>TotalNetflixDataVolume</th>\n",
              "      <th></th>\n",
              "    </tr>\n",
              "  </thead>\n",
              "  <tbody>\n",
              "    <tr>\n",
              "      <th>28846230.0</th>\n",
              "      <td>8.823971e+14</td>\n",
              "    </tr>\n",
              "    <tr>\n",
              "      <th>30905042.0</th>\n",
              "      <td>3.370000e+14</td>\n",
              "    </tr>\n",
              "    <tr>\n",
              "      <th>26592300.0</th>\n",
              "      <td>3.197021e+12</td>\n",
              "    </tr>\n",
              "    <tr>\n",
              "      <th>28963887.0</th>\n",
              "      <td>7.566482e+10</td>\n",
              "    </tr>\n",
              "    <tr>\n",
              "      <th>18301681.0</th>\n",
              "      <td>7.554562e+10</td>\n",
              "    </tr>\n",
              "    <tr>\n",
              "      <th>24930912.0</th>\n",
              "      <td>7.554161e+10</td>\n",
              "    </tr>\n",
              "    <tr>\n",
              "      <th>31682750.0</th>\n",
              "      <td>6.754486e+10</td>\n",
              "    </tr>\n",
              "    <tr>\n",
              "      <th>7574066.0</th>\n",
              "      <td>6.754482e+10</td>\n",
              "    </tr>\n",
              "    <tr>\n",
              "      <th>20257902.0</th>\n",
              "      <td>6.753893e+10</td>\n",
              "    </tr>\n",
              "    <tr>\n",
              "      <th>17483299.0</th>\n",
              "      <td>6.753507e+10</td>\n",
              "    </tr>\n",
              "  </tbody>\n",
              "</table>\n",
              "</div>"
            ],
            "text/plain": [
              "                        Top_10_Netflix_Users\n",
              "TotalNetflixDataVolume                      \n",
              "28846230.0                      8.823971e+14\n",
              "30905042.0                      3.370000e+14\n",
              "26592300.0                      3.197021e+12\n",
              "28963887.0                      7.566482e+10\n",
              "18301681.0                      7.554562e+10\n",
              "24930912.0                      7.554161e+10\n",
              "31682750.0                      6.754486e+10\n",
              "7574066.0                       6.754482e+10\n",
              "20257902.0                      6.753893e+10\n",
              "17483299.0                      6.753507e+10"
            ]
          },
          "metadata": {
            "tags": []
          },
          "execution_count": 84
        }
      ]
    },
    {
      "cell_type": "markdown",
      "metadata": {
        "id": "7h1Y4z_6V06X",
        "colab_type": "text"
      },
      "source": [
        "top 10 gaming users"
      ]
    },
    {
      "cell_type": "code",
      "metadata": {
        "id": "jeYChsjPV1YN",
        "colab_type": "code",
        "colab": {
          "base_uri": "https://localhost:8080/",
          "height": 363
        },
        "outputId": "8f2647dd-1fa3-4e61-9b20-2756abed2168"
      },
      "source": [
        "top_10_gaming_users = df.groupby(['TotalGamingDataVolume'], sort=False)['MSISDN/Number'].agg(['sum'])\n",
        "top_10_gaming_users.columns = [\"Top_10_Gaming_Users\"]\n",
        "top_10_gaming_users.sort_values(by='Top_10_Gaming_Users', ascending=False).head(10)"
      ],
      "execution_count": null,
      "outputs": [
        {
          "output_type": "execute_result",
          "data": {
            "text/html": [
              "<div>\n",
              "<style scoped>\n",
              "    .dataframe tbody tr th:only-of-type {\n",
              "        vertical-align: middle;\n",
              "    }\n",
              "\n",
              "    .dataframe tbody tr th {\n",
              "        vertical-align: top;\n",
              "    }\n",
              "\n",
              "    .dataframe thead th {\n",
              "        text-align: right;\n",
              "    }\n",
              "</style>\n",
              "<table border=\"1\" class=\"dataframe\">\n",
              "  <thead>\n",
              "    <tr style=\"text-align: right;\">\n",
              "      <th></th>\n",
              "      <th>Top_10_Gaming_Users</th>\n",
              "    </tr>\n",
              "    <tr>\n",
              "      <th>TotalGamingDataVolume</th>\n",
              "      <th></th>\n",
              "    </tr>\n",
              "  </thead>\n",
              "  <tbody>\n",
              "    <tr>\n",
              "      <th>43070260.0</th>\n",
              "      <td>8.823971e+14</td>\n",
              "    </tr>\n",
              "    <tr>\n",
              "      <th>510142695.0</th>\n",
              "      <td>3.370000e+14</td>\n",
              "    </tr>\n",
              "    <tr>\n",
              "      <th>178048738.0</th>\n",
              "      <td>3.197021e+12</td>\n",
              "    </tr>\n",
              "    <tr>\n",
              "      <th>337168076.0</th>\n",
              "      <td>6.741989e+10</td>\n",
              "    </tr>\n",
              "    <tr>\n",
              "      <th>268338338.0</th>\n",
              "      <td>6.739937e+10</td>\n",
              "    </tr>\n",
              "    <tr>\n",
              "      <th>15151281.0</th>\n",
              "      <td>6.737803e+10</td>\n",
              "    </tr>\n",
              "    <tr>\n",
              "      <th>356189167.0</th>\n",
              "      <td>6.734595e+10</td>\n",
              "    </tr>\n",
              "    <tr>\n",
              "      <th>202421084.0</th>\n",
              "      <td>6.729611e+10</td>\n",
              "    </tr>\n",
              "    <tr>\n",
              "      <th>515040171.0</th>\n",
              "      <td>6.729521e+10</td>\n",
              "    </tr>\n",
              "    <tr>\n",
              "      <th>407306722.0</th>\n",
              "      <td>6.728852e+10</td>\n",
              "    </tr>\n",
              "  </tbody>\n",
              "</table>\n",
              "</div>"
            ],
            "text/plain": [
              "                       Top_10_Gaming_Users\n",
              "TotalGamingDataVolume                     \n",
              "43070260.0                    8.823971e+14\n",
              "510142695.0                   3.370000e+14\n",
              "178048738.0                   3.197021e+12\n",
              "337168076.0                   6.741989e+10\n",
              "268338338.0                   6.739937e+10\n",
              "15151281.0                    6.737803e+10\n",
              "356189167.0                   6.734595e+10\n",
              "202421084.0                   6.729611e+10\n",
              "515040171.0                   6.729521e+10\n",
              "407306722.0                   6.728852e+10"
            ]
          },
          "metadata": {
            "tags": []
          },
          "execution_count": 85
        }
      ]
    },
    {
      "cell_type": "markdown",
      "metadata": {
        "id": "u20Xu9a-WAKe",
        "colab_type": "text"
      },
      "source": [
        "top 10 other application users"
      ]
    },
    {
      "cell_type": "code",
      "metadata": {
        "id": "l3FI-VeIWAme",
        "colab_type": "code",
        "colab": {
          "base_uri": "https://localhost:8080/",
          "height": 363
        },
        "outputId": "ac2b32e6-aec7-464f-a22f-59056bcc4a92"
      },
      "source": [
        "top_10_otherapplication_users = df.groupby(['TotalOtherDataVolume'], sort=False)['MSISDN/Number'].agg(['sum'])\n",
        "top_10_otherapplication_users.columns = [\"Top_10_Other_Application_Users\"]\n",
        "top_10_otherapplication_users.sort_values(by='Top_10_Other_Application_Users', ascending=False).head(10)"
      ],
      "execution_count": null,
      "outputs": [
        {
          "output_type": "execute_result",
          "data": {
            "text/html": [
              "<div>\n",
              "<style scoped>\n",
              "    .dataframe tbody tr th:only-of-type {\n",
              "        vertical-align: middle;\n",
              "    }\n",
              "\n",
              "    .dataframe tbody tr th {\n",
              "        vertical-align: top;\n",
              "    }\n",
              "\n",
              "    .dataframe thead th {\n",
              "        text-align: right;\n",
              "    }\n",
              "</style>\n",
              "<table border=\"1\" class=\"dataframe\">\n",
              "  <thead>\n",
              "    <tr style=\"text-align: right;\">\n",
              "      <th></th>\n",
              "      <th>Top_10_Other_Application_Users</th>\n",
              "    </tr>\n",
              "    <tr>\n",
              "      <th>TotalOtherDataVolume</th>\n",
              "      <th></th>\n",
              "    </tr>\n",
              "  </thead>\n",
              "  <tbody>\n",
              "    <tr>\n",
              "      <th>401360457.0</th>\n",
              "      <td>8.823971e+14</td>\n",
              "    </tr>\n",
              "    <tr>\n",
              "      <th>149188439.0</th>\n",
              "      <td>3.370000e+14</td>\n",
              "    </tr>\n",
              "    <tr>\n",
              "      <th>470526473.0</th>\n",
              "      <td>3.197021e+12</td>\n",
              "    </tr>\n",
              "    <tr>\n",
              "      <th>190108349.0</th>\n",
              "      <td>7.553396e+10</td>\n",
              "    </tr>\n",
              "    <tr>\n",
              "      <th>446543030.0</th>\n",
              "      <td>6.744571e+10</td>\n",
              "    </tr>\n",
              "    <tr>\n",
              "      <th>449555184.0</th>\n",
              "      <td>6.742642e+10</td>\n",
              "    </tr>\n",
              "    <tr>\n",
              "      <th>777083727.0</th>\n",
              "      <td>6.742230e+10</td>\n",
              "    </tr>\n",
              "    <tr>\n",
              "      <th>690339331.0</th>\n",
              "      <td>6.742168e+10</td>\n",
              "    </tr>\n",
              "    <tr>\n",
              "      <th>54037059.0</th>\n",
              "      <td>6.738801e+10</td>\n",
              "    </tr>\n",
              "    <tr>\n",
              "      <th>782496592.0</th>\n",
              "      <td>6.738360e+10</td>\n",
              "    </tr>\n",
              "  </tbody>\n",
              "</table>\n",
              "</div>"
            ],
            "text/plain": [
              "                      Top_10_Other_Application_Users\n",
              "TotalOtherDataVolume                                \n",
              "401360457.0                             8.823971e+14\n",
              "149188439.0                             3.370000e+14\n",
              "470526473.0                             3.197021e+12\n",
              "190108349.0                             7.553396e+10\n",
              "446543030.0                             6.744571e+10\n",
              "449555184.0                             6.742642e+10\n",
              "777083727.0                             6.742230e+10\n",
              "690339331.0                             6.742168e+10\n",
              "54037059.0                              6.738801e+10\n",
              "782496592.0                             6.738360e+10"
            ]
          },
          "metadata": {
            "tags": []
          },
          "execution_count": 86
        }
      ]
    },
    {
      "cell_type": "markdown",
      "metadata": {
        "id": "1TORunz_WIkg",
        "colab_type": "text"
      },
      "source": [
        "Plot the top 3 most used applications."
      ]
    },
    {
      "cell_type": "code",
      "metadata": {
        "id": "ftdMKu0WWK_K",
        "colab_type": "code",
        "colab": {
          "base_uri": "https://localhost:8080/",
          "height": 133
        },
        "outputId": "3ffe58a0-79fd-41e7-a72f-cf69746ab2ff"
      },
      "source": [
        "dff = df_2.sort_values(by='TotalBytesofEachApplication', ascending=False).head(3)\n",
        "dff"
      ],
      "execution_count": null,
      "outputs": [
        {
          "output_type": "execute_result",
          "data": {
            "text/html": [
              "<div>\n",
              "<style scoped>\n",
              "    .dataframe tbody tr th:only-of-type {\n",
              "        vertical-align: middle;\n",
              "    }\n",
              "\n",
              "    .dataframe tbody tr th {\n",
              "        vertical-align: top;\n",
              "    }\n",
              "\n",
              "    .dataframe thead th {\n",
              "        text-align: right;\n",
              "    }\n",
              "</style>\n",
              "<table border=\"1\" class=\"dataframe\">\n",
              "  <thead>\n",
              "    <tr style=\"text-align: right;\">\n",
              "      <th></th>\n",
              "      <th>Application</th>\n",
              "      <th>TotalBytesofEachApplication</th>\n",
              "    </tr>\n",
              "  </thead>\n",
              "  <tbody>\n",
              "    <tr>\n",
              "      <th>6</th>\n",
              "      <td>Others</td>\n",
              "      <td>859520934.0</td>\n",
              "    </tr>\n",
              "    <tr>\n",
              "      <th>5</th>\n",
              "      <td>Gaming</td>\n",
              "      <td>859202784.0</td>\n",
              "    </tr>\n",
              "    <tr>\n",
              "      <th>4</th>\n",
              "      <td>Netflix</td>\n",
              "      <td>45198153.0</td>\n",
              "    </tr>\n",
              "  </tbody>\n",
              "</table>\n",
              "</div>"
            ],
            "text/plain": [
              "  Application  TotalBytesofEachApplication\n",
              "6      Others                  859520934.0\n",
              "5      Gaming                  859202784.0\n",
              "4     Netflix                   45198153.0"
            ]
          },
          "metadata": {
            "tags": []
          },
          "execution_count": 87
        }
      ]
    },
    {
      "cell_type": "code",
      "metadata": {
        "id": "x0em_B9fWcDN",
        "colab_type": "code",
        "colab": {
          "base_uri": "https://localhost:8080/",
          "height": 335
        },
        "outputId": "07ed43e8-1564-442f-dfb3-933ba8c4ade3"
      },
      "source": [
        "dff.plot(x=\"Application\", y='TotalBytesofEachApplication', kind=\"bar\")"
      ],
      "execution_count": null,
      "outputs": [
        {
          "output_type": "execute_result",
          "data": {
            "text/plain": [
              "<matplotlib.axes._subplots.AxesSubplot at 0x7f2a59f15710>"
            ]
          },
          "metadata": {
            "tags": []
          },
          "execution_count": 89
        },
        {
          "output_type": "display_data",
          "data": {
            "image/png": "[encoded data removed]",
            "text/plain": [
              "<Figure size 432x288 with 1 Axes>"
            ]
          },
          "metadata": {
            "tags": [],
            "needs_background": "light"
          }
        }
      ]
    },
    {
      "cell_type": "markdown",
      "metadata": {
        "id": "Narg3MERWTqv",
        "colab_type": "text"
      },
      "source": [
        "Using k-means clustering algorithm, group users in k engagement clusters based on the engagement metrics:\n",
        "\n",
        "What is the optimized value of k?  - (slide)\n",
        "\n",
        "Interpret your findings. - (slide)\n"
      ]
    },
    {
      "cell_type": "markdown",
      "metadata": {
        "id": "G3z8ZPd7a3y2",
        "colab_type": "text"
      },
      "source": [
        "To give equal importance to all features, I needed to scale the continuous features."
      ]
    },
    {
      "cell_type": "code",
      "metadata": {
        "id": "Dd4s4Mlua5VD",
        "colab_type": "code",
        "colab": {
          "base_uri": "https://localhost:8080/",
          "height": 131
        },
        "outputId": "6aa1e5e6-d037-4567-868d-c6b1ba79d89f"
      },
      "source": [
        "# Import required packages\n",
        "import pandas as pd\n",
        "from sklearn.preprocessing import MinMaxScaler\n",
        "from sklearn.cluster import KMeans\n",
        "import matplotlib.pyplot as plt\n",
        "\n",
        "mms = MinMaxScaler()\n",
        "mms.fit(final_df)\n",
        "data_transformed = mms.transform(final_df)\n",
        "data_transformed"
      ],
      "execution_count": 106,
      "outputs": [
        {
          "output_type": "execute_result",
          "data": {
            "text/plain": [
              "array([[9.38967136e-04, 2.86180929e-02, 1.11508000e-03, 0.00000000e+00],\n",
              "       [9.38967136e-04, 2.33103800e-02, 1.68832510e-03, 0.00000000e+00],\n",
              "       [0.00000000e+00, 1.86731165e-02, 5.16148296e-04, 0.00000000e+00],\n",
              "       ...,\n",
              "       [0.00000000e+00, 1.02128557e-03, 1.12571412e-03, 1.00000000e+00],\n",
              "       [0.00000000e+00, 1.25588846e-03, 1.11799287e-03, 1.00000000e+00],\n",
              "       [0.00000000e+00, 1.25121543e-03, 6.92618148e-04, 1.00000000e+00]])"
            ]
          },
          "metadata": {
            "tags": []
          },
          "execution_count": 106
        }
      ]
    },
    {
      "cell_type": "markdown",
      "metadata": {
        "id": "K1B_oD_qa_-Z",
        "colab_type": "text"
      },
      "source": [
        "For each k value, we will initialise k-means and use the inertia attribute to identify the sum of squared distances of samples to the nearest cluster centre."
      ]
    },
    {
      "cell_type": "code",
      "metadata": {
        "id": "izOnzStebA5w",
        "colab_type": "code",
        "colab": {}
      },
      "source": [
        "Sum_of_squared_distances = []\n",
        "K = range(1,15)\n",
        "for k in K:\n",
        "    km = KMeans(n_clusters=k)\n",
        "    km = km.fit(data_transformed)\n",
        "    Sum_of_squared_distances.append(km.inertia_)"
      ],
      "execution_count": 91,
      "outputs": []
    },
    {
      "cell_type": "markdown",
      "metadata": {
        "id": "JWTr-pQVbHQ-",
        "colab_type": "text"
      },
      "source": [
        "Below is a plot of sum of squared distances for k in the range specified above. If the plot looks like an arm, then the elbow on the arm is optimal k."
      ]
    },
    {
      "cell_type": "code",
      "metadata": {
        "id": "Isahm_p2bITO",
        "colab_type": "code",
        "colab": {
          "base_uri": "https://localhost:8080/",
          "height": 295
        },
        "outputId": "06e42978-a836-4133-e72e-5ea9822d5d8f"
      },
      "source": [
        "plt.plot(K, Sum_of_squared_distances, 'bx-')\n",
        "plt.xlabel('k')\n",
        "plt.ylabel('Sum_of_squared_distances')\n",
        "plt.title('Elbow Method For Optimal k')\n",
        "plt.show()"
      ],
      "execution_count": 92,
      "outputs": [
        {
          "output_type": "display_data",
          "data": {
            "image/png": "[encoded data removed]",
            "text/plain": [
              "<Figure size 432x288 with 1 Axes>"
            ]
          },
          "metadata": {
            "tags": [],
            "needs_background": "light"
          }
        }
      ]
    },
    {
      "cell_type": "markdown",
      "metadata": {
        "id": "LSjV6PIHbN4O",
        "colab_type": "text"
      },
      "source": [
        "In the plot above the elbow is at k=5 indicating the optimal k for this dataset is 2"
      ]
    },
    {
      "cell_type": "markdown",
      "metadata": {
        "id": "GovSfYL4wFHo",
        "colab_type": "text"
      },
      "source": [
        "## Task 3 - Experience Analytics"
      ]
    },
    {
      "cell_type": "code",
      "metadata": {
        "id": "YAY8NdtjwKVs",
        "colab_type": "code",
        "colab": {}
      },
      "source": [
        ""
      ],
      "execution_count": null,
      "outputs": []
    }
  ]
}